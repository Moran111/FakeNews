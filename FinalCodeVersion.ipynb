{
 "cells": [
  {
   "cell_type": "code",
   "execution_count": 1,
   "metadata": {},
   "outputs": [
    {
     "name": "stderr",
     "output_type": "stream",
     "text": [
      "/anaconda3/lib/python3.6/site-packages/h5py/__init__.py:36: FutureWarning: Conversion of the second argument of issubdtype from `float` to `np.floating` is deprecated. In future, it will be treated as `np.float64 == np.dtype(float).type`.\n",
      "  from ._conv import register_converters as _register_converters\n",
      "Using TensorFlow backend.\n"
     ]
    }
   ],
   "source": [
    "import pandas as pd\n",
    "import numpy as np\n",
    "import nltk\n",
    "from nltk.corpus import stopwords\n",
    "from gensim.models import Word2Vec\n",
    "import os\n",
    "import json\n",
    "import re\n",
    "from keras.models import load_model"
   ]
  },
  {
   "cell_type": "markdown",
   "metadata": {},
   "source": [
    "# read data from csv file"
   ]
  },
  {
   "cell_type": "code",
   "execution_count": 2,
   "metadata": {},
   "outputs": [],
   "source": [
    "import pandas as pd\n",
    "import numpy as np\n",
    "import matplotlib.pyplot as plt\n",
    "import numpy as np"
   ]
  },
  {
   "cell_type": "code",
   "execution_count": 3,
   "metadata": {},
   "outputs": [],
   "source": [
    "file = 'fake.csv'\n",
    "df = pd.read_csv(file)"
   ]
  },
  {
   "cell_type": "code",
   "execution_count": 4,
   "metadata": {},
   "outputs": [
    {
     "name": "stdout",
     "output_type": "stream",
     "text": [
      "8\n"
     ]
    }
   ],
   "source": [
    "# unqiue types \n",
    "u_type = df['type'].unique()\n",
    "print(len(u_type))"
   ]
  },
  {
   "cell_type": "code",
   "execution_count": 5,
   "metadata": {},
   "outputs": [
    {
     "name": "stdout",
     "output_type": "stream",
     "text": [
      "bs            11492\n",
      "bias            443\n",
      "conspiracy      430\n",
      "hate            246\n",
      "satire          146\n",
      "state           121\n",
      "junksci         102\n",
      "fake             19\n",
      "Name: type, dtype: int64\n"
     ]
    }
   ],
   "source": [
    "# count in each type \n",
    "count_type = df['type'].value_counts()\n",
    "print(count_type)"
   ]
  },
  {
   "cell_type": "code",
   "execution_count": 6,
   "metadata": {},
   "outputs": [
    {
     "data": {
      "text/plain": [
       "<matplotlib.axes._subplots.AxesSubplot at 0x11eae7550>"
      ]
     },
     "execution_count": 6,
     "metadata": {},
     "output_type": "execute_result"
    },
    {
     "data": {
      "image/png": "[encoded data removed]",
      "text/plain": [
       "<matplotlib.figure.Figure at 0x11e7cea20>"
      ]
     },
     "metadata": {},
     "output_type": "display_data"
    }
   ],
   "source": [
    "# draw the count result\n",
    "count_type.plot(kind='barh')"
   ]
  },
  {
   "cell_type": "markdown",
   "metadata": {},
   "source": [
    "# which website has fake news"
   ]
  },
  {
   "cell_type": "code",
   "execution_count": 7,
   "metadata": {},
   "outputs": [],
   "source": [
    "fake_news_df = df[df['type'] != 'bs']\n",
    "fake_news_website = fake_news_df['site_url'].unique()"
   ]
  },
  {
   "cell_type": "code",
   "execution_count": 8,
   "metadata": {},
   "outputs": [
    {
     "data": {
      "text/html": [
       "<div>\n",
       "<style scoped>\n",
       "    .dataframe tbody tr th:only-of-type {\n",
       "        vertical-align: middle;\n",
       "    }\n",
       "\n",
       "    .dataframe tbody tr th {\n",
       "        vertical-align: top;\n",
       "    }\n",
       "\n",
       "    .dataframe thead th {\n",
       "        text-align: right;\n",
       "    }\n",
       "</style>\n",
       "<table border=\"1\" class=\"dataframe\">\n",
       "  <thead>\n",
       "    <tr style=\"text-align: right;\">\n",
       "      <th></th>\n",
       "      <th>uuid</th>\n",
       "      <th>ord_in_thread</th>\n",
       "      <th>author</th>\n",
       "      <th>published</th>\n",
       "      <th>title</th>\n",
       "      <th>text</th>\n",
       "      <th>language</th>\n",
       "      <th>crawled</th>\n",
       "      <th>site_url</th>\n",
       "      <th>country</th>\n",
       "      <th>domain_rank</th>\n",
       "      <th>thread_title</th>\n",
       "      <th>spam_score</th>\n",
       "      <th>main_img_url</th>\n",
       "      <th>replies_count</th>\n",
       "      <th>participants_count</th>\n",
       "      <th>likes</th>\n",
       "      <th>comments</th>\n",
       "      <th>shares</th>\n",
       "      <th>type</th>\n",
       "    </tr>\n",
       "  </thead>\n",
       "  <tbody>\n",
       "    <tr>\n",
       "      <th>0</th>\n",
       "      <td>6a175f46bcd24d39b3e962ad0f29936721db70db</td>\n",
       "      <td>0</td>\n",
       "      <td>Barracuda Brigade</td>\n",
       "      <td>2016-10-26T21:41:00.000+03:00</td>\n",
       "      <td>Muslims BUSTED: They Stole Millions In Gov’t B...</td>\n",
       "      <td>Print They should pay all the back all the mon...</td>\n",
       "      <td>english</td>\n",
       "      <td>2016-10-27T01:49:27.168+03:00</td>\n",
       "      <td>100percentfedup.com</td>\n",
       "      <td>US</td>\n",
       "      <td>25689.0</td>\n",
       "      <td>Muslims BUSTED: They Stole Millions In Gov’t B...</td>\n",
       "      <td>0.000</td>\n",
       "      <td>http://bb4sp.com/wp-content/uploads/2016/10/Fu...</td>\n",
       "      <td>0</td>\n",
       "      <td>1</td>\n",
       "      <td>0</td>\n",
       "      <td>0</td>\n",
       "      <td>0</td>\n",
       "      <td>bias</td>\n",
       "    </tr>\n",
       "    <tr>\n",
       "      <th>1</th>\n",
       "      <td>2bdc29d12605ef9cf3f09f9875040a7113be5d5b</td>\n",
       "      <td>0</td>\n",
       "      <td>reasoning with facts</td>\n",
       "      <td>2016-10-29T08:47:11.259+03:00</td>\n",
       "      <td>Re: Why Did Attorney General Loretta Lynch Ple...</td>\n",
       "      <td>Why Did Attorney General Loretta Lynch Plead T...</td>\n",
       "      <td>english</td>\n",
       "      <td>2016-10-29T08:47:11.259+03:00</td>\n",
       "      <td>100percentfedup.com</td>\n",
       "      <td>US</td>\n",
       "      <td>25689.0</td>\n",
       "      <td>Re: Why Did Attorney General Loretta Lynch Ple...</td>\n",
       "      <td>0.000</td>\n",
       "      <td>http://bb4sp.com/wp-content/uploads/2016/10/Fu...</td>\n",
       "      <td>0</td>\n",
       "      <td>1</td>\n",
       "      <td>0</td>\n",
       "      <td>0</td>\n",
       "      <td>0</td>\n",
       "      <td>bias</td>\n",
       "    </tr>\n",
       "    <tr>\n",
       "      <th>2</th>\n",
       "      <td>c70e149fdd53de5e61c29281100b9de0ed268bc3</td>\n",
       "      <td>0</td>\n",
       "      <td>Barracuda Brigade</td>\n",
       "      <td>2016-10-31T01:41:49.479+02:00</td>\n",
       "      <td>BREAKING: Weiner Cooperating With FBI On Hilla...</td>\n",
       "      <td>Red State : \\nFox News Sunday reported this mo...</td>\n",
       "      <td>english</td>\n",
       "      <td>2016-10-31T01:41:49.479+02:00</td>\n",
       "      <td>100percentfedup.com</td>\n",
       "      <td>US</td>\n",
       "      <td>25689.0</td>\n",
       "      <td>BREAKING: Weiner Cooperating With FBI On Hilla...</td>\n",
       "      <td>0.000</td>\n",
       "      <td>http://bb4sp.com/wp-content/uploads/2016/10/Fu...</td>\n",
       "      <td>0</td>\n",
       "      <td>1</td>\n",
       "      <td>0</td>\n",
       "      <td>0</td>\n",
       "      <td>0</td>\n",
       "      <td>bias</td>\n",
       "    </tr>\n",
       "    <tr>\n",
       "      <th>3</th>\n",
       "      <td>7cf7c15731ac2a116dd7f629bd57ea468ed70284</td>\n",
       "      <td>0</td>\n",
       "      <td>Fed Up</td>\n",
       "      <td>2016-11-01T05:22:00.000+02:00</td>\n",
       "      <td>PIN DROP SPEECH BY FATHER OF DAUGHTER Kidnappe...</td>\n",
       "      <td>Email Kayla Mueller was a prisoner and torture...</td>\n",
       "      <td>english</td>\n",
       "      <td>2016-11-01T15:46:26.304+02:00</td>\n",
       "      <td>100percentfedup.com</td>\n",
       "      <td>US</td>\n",
       "      <td>25689.0</td>\n",
       "      <td>PIN DROP SPEECH BY FATHER OF DAUGHTER Kidnappe...</td>\n",
       "      <td>0.068</td>\n",
       "      <td>http://100percentfedup.com/wp-content/uploads/...</td>\n",
       "      <td>0</td>\n",
       "      <td>0</td>\n",
       "      <td>0</td>\n",
       "      <td>0</td>\n",
       "      <td>0</td>\n",
       "      <td>bias</td>\n",
       "    </tr>\n",
       "    <tr>\n",
       "      <th>4</th>\n",
       "      <td>0206b54719c7e241ffe0ad4315b808290dbe6c0f</td>\n",
       "      <td>0</td>\n",
       "      <td>Fed Up</td>\n",
       "      <td>2016-11-01T21:56:00.000+02:00</td>\n",
       "      <td>FANTASTIC! TRUMP'S 7 POINT PLAN To Reform Heal...</td>\n",
       "      <td>Email HEALTHCARE REFORM TO MAKE AMERICA GREAT ...</td>\n",
       "      <td>english</td>\n",
       "      <td>2016-11-01T23:59:42.266+02:00</td>\n",
       "      <td>100percentfedup.com</td>\n",
       "      <td>US</td>\n",
       "      <td>25689.0</td>\n",
       "      <td>FANTASTIC! TRUMP'S 7 POINT PLAN To Reform Heal...</td>\n",
       "      <td>0.865</td>\n",
       "      <td>http://100percentfedup.com/wp-content/uploads/...</td>\n",
       "      <td>0</td>\n",
       "      <td>0</td>\n",
       "      <td>0</td>\n",
       "      <td>0</td>\n",
       "      <td>0</td>\n",
       "      <td>bias</td>\n",
       "    </tr>\n",
       "  </tbody>\n",
       "</table>\n",
       "</div>"
      ],
      "text/plain": [
       "                                       uuid  ord_in_thread  \\\n",
       "0  6a175f46bcd24d39b3e962ad0f29936721db70db              0   \n",
       "1  2bdc29d12605ef9cf3f09f9875040a7113be5d5b              0   \n",
       "2  c70e149fdd53de5e61c29281100b9de0ed268bc3              0   \n",
       "3  7cf7c15731ac2a116dd7f629bd57ea468ed70284              0   \n",
       "4  0206b54719c7e241ffe0ad4315b808290dbe6c0f              0   \n",
       "\n",
       "                 author                      published  \\\n",
       "0     Barracuda Brigade  2016-10-26T21:41:00.000+03:00   \n",
       "1  reasoning with facts  2016-10-29T08:47:11.259+03:00   \n",
       "2     Barracuda Brigade  2016-10-31T01:41:49.479+02:00   \n",
       "3                Fed Up  2016-11-01T05:22:00.000+02:00   \n",
       "4                Fed Up  2016-11-01T21:56:00.000+02:00   \n",
       "\n",
       "                                               title  \\\n",
       "0  Muslims BUSTED: They Stole Millions In Gov’t B...   \n",
       "1  Re: Why Did Attorney General Loretta Lynch Ple...   \n",
       "2  BREAKING: Weiner Cooperating With FBI On Hilla...   \n",
       "3  PIN DROP SPEECH BY FATHER OF DAUGHTER Kidnappe...   \n",
       "4  FANTASTIC! TRUMP'S 7 POINT PLAN To Reform Heal...   \n",
       "\n",
       "                                                text language  \\\n",
       "0  Print They should pay all the back all the mon...  english   \n",
       "1  Why Did Attorney General Loretta Lynch Plead T...  english   \n",
       "2  Red State : \\nFox News Sunday reported this mo...  english   \n",
       "3  Email Kayla Mueller was a prisoner and torture...  english   \n",
       "4  Email HEALTHCARE REFORM TO MAKE AMERICA GREAT ...  english   \n",
       "\n",
       "                         crawled             site_url country  domain_rank  \\\n",
       "0  2016-10-27T01:49:27.168+03:00  100percentfedup.com      US      25689.0   \n",
       "1  2016-10-29T08:47:11.259+03:00  100percentfedup.com      US      25689.0   \n",
       "2  2016-10-31T01:41:49.479+02:00  100percentfedup.com      US      25689.0   \n",
       "3  2016-11-01T15:46:26.304+02:00  100percentfedup.com      US      25689.0   \n",
       "4  2016-11-01T23:59:42.266+02:00  100percentfedup.com      US      25689.0   \n",
       "\n",
       "                                        thread_title  spam_score  \\\n",
       "0  Muslims BUSTED: They Stole Millions In Gov’t B...       0.000   \n",
       "1  Re: Why Did Attorney General Loretta Lynch Ple...       0.000   \n",
       "2  BREAKING: Weiner Cooperating With FBI On Hilla...       0.000   \n",
       "3  PIN DROP SPEECH BY FATHER OF DAUGHTER Kidnappe...       0.068   \n",
       "4  FANTASTIC! TRUMP'S 7 POINT PLAN To Reform Heal...       0.865   \n",
       "\n",
       "                                        main_img_url  replies_count  \\\n",
       "0  http://bb4sp.com/wp-content/uploads/2016/10/Fu...              0   \n",
       "1  http://bb4sp.com/wp-content/uploads/2016/10/Fu...              0   \n",
       "2  http://bb4sp.com/wp-content/uploads/2016/10/Fu...              0   \n",
       "3  http://100percentfedup.com/wp-content/uploads/...              0   \n",
       "4  http://100percentfedup.com/wp-content/uploads/...              0   \n",
       "\n",
       "   participants_count  likes  comments  shares  type  \n",
       "0                   1      0         0       0  bias  \n",
       "1                   1      0         0       0  bias  \n",
       "2                   1      0         0       0  bias  \n",
       "3                   0      0         0       0  bias  \n",
       "4                   0      0         0       0  bias  "
      ]
     },
     "execution_count": 8,
     "metadata": {},
     "output_type": "execute_result"
    }
   ],
   "source": [
    "fake_news_df.head()"
   ]
  },
  {
   "cell_type": "code",
   "execution_count": 9,
   "metadata": {},
   "outputs": [],
   "source": [
    "fake_news_website = fake_news_website.tolist()"
   ]
  },
  {
   "cell_type": "code",
   "execution_count": 10,
   "metadata": {},
   "outputs": [
    {
     "name": "stdout",
     "output_type": "stream",
     "text": [
      "<class 'list'>\n",
      "27\n"
     ]
    }
   ],
   "source": [
    "print(type(fake_news_website))\n",
    "print(len(fake_news_website))"
   ]
  },
  {
   "cell_type": "code",
   "execution_count": 11,
   "metadata": {},
   "outputs": [],
   "source": [
    "# get the fake news website and title of these fake news\n",
    "fake_news_title = fake_news_df[['text']]"
   ]
  },
  {
   "cell_type": "code",
   "execution_count": 12,
   "metadata": {},
   "outputs": [
    {
     "name": "stdout",
     "output_type": "stream",
     "text": [
      "1507\n"
     ]
    }
   ],
   "source": [
    "fake_news_title.head()\n",
    "print(len(fake_news_title))"
   ]
  },
  {
   "cell_type": "markdown",
   "metadata": {},
   "source": [
    "# add news content into a list "
   ]
  },
  {
   "cell_type": "code",
   "execution_count": 13,
   "metadata": {},
   "outputs": [],
   "source": [
    "fake_news_content_from_csv = fake_news_title['text'].tolist()\n"
   ]
  },
  {
   "cell_type": "code",
   "execution_count": 14,
   "metadata": {},
   "outputs": [
    {
     "name": "stdout",
     "output_type": "stream",
     "text": [
      "Print They should pay all the back all the money plus interest. The entire family and everyone who came in with them need to be deported asap. Why did it take two years to bust them? \n",
      "Here we go again …another group stealing from the government and taxpayers! A group of Somalis stole over four million in government benefits over just 10 months! \n",
      "We’ve reported on numerous cases like this one where the Muslim refugees/immigrants commit fraud by scamming our system…It’s way out of control! More Related\n"
     ]
    }
   ],
   "source": [
    "print(fake_news_content_from_csv[0])"
   ]
  },
  {
   "cell_type": "code",
   "execution_count": 15,
   "metadata": {},
   "outputs": [],
   "source": [
    "fake_news_content_from_csv_str = []\n",
    "for i in range(0,len(fake_news_content_from_csv)):\n",
    "    #print(type(fake_news_content_from_csv[i]))\n",
    "    if(isinstance(fake_news_content_from_csv[i], str)):\n",
    "        fake_news_content_from_csv_str.append(fake_news_content_from_csv[i])\n",
    "    "
   ]
  },
  {
   "cell_type": "code",
   "execution_count": 16,
   "metadata": {},
   "outputs": [],
   "source": [
    "a = fake_news_content_from_csv[1111]\n",
    "new_content_token_csv = re.sub(r'[^\\w]', ' ', a).lower().split()"
   ]
  },
  {
   "cell_type": "code",
   "execution_count": 17,
   "metadata": {
    "scrolled": true
   },
   "outputs": [
    {
     "name": "stdout",
     "output_type": "stream",
     "text": [
      "['breitbart', 'october', '26', '2016', 'a', 'syrian', 'christian', 'mother', 'shared', 'her', 'story', 'of', 'escaping', 'the', 'islamic', 'state', 'terrorist', 'group', 'in', 'a', 'suburb', 'of', 'damascus', 'while', 'losing', 'her', 'son', 'george', 'after', 'he', 'refused', 'to', 'identify', 'himself', 'to', 'the', 'terrorists', 'by', 'a', 'muslim', 'name', 'the', 'woman', 'alice', 'assaf', 'said', 'that', 'she', 'had', 'heard', 'that', 'her', 'son', 'who', 'was', 'beaten', 'and', 'shot', 'to', 'death', 'was', 'spared', 'a', 'much', 'worse', 'fate', 'being', 'baked', 'in', 'the', 'ovens', 'of', 'the', 'local', 'bakery', 'or', 'kneaded', 'to', 'death', 'in', 'the', 'bakery', 's', 'industrial', 'sized', 'mixer', 'assaf', 'told', 'her', 'story', 'to', 'roads', 'of', 'success', 'a', 'human', 'rights', 'ngo', 'with', 'a', 'focus', 'on', 'the', 'rights', 'of', 'women', 'and', 'christians', 'in', 'the', 'middle', 'east', 'the', 'group', 'has', 'provided', 'testimony', 'of', 'the', 'plight', 'of', 'christians', 'and', 'yazidis', 'persecuted', 'by', 'the', 'islamic', 'state', 'to', 'the', 'house', 'foreign', 'relations', 'committee', 'and', 'regularly', 'publishes', 'video', 'interviews', 'with', 'isis', 'attack', 'survivors', 'the', 'christian', 'post', 'picked', 'up', 'the', 'story', 'and', 'video', 'interview', 'in', 'which', 'assaf', 'narrates', 'the', 'final', 'days', 'of', 'her', '18', 'year', 'old', 's', 'life', 'this', 'article', 'was', 'posted', 'wednesday', 'october', '26', '2016', 'at', '6', '30', 'am', 'share', 'this', 'article']\n"
     ]
    }
   ],
   "source": [
    "print(new_content_token_csv) #some of the news_content_token_csv is float type"
   ]
  },
  {
   "cell_type": "code",
   "execution_count": 18,
   "metadata": {},
   "outputs": [],
   "source": [
    "# clean the data\n",
    "news_content_all_csv= []\n",
    "for i in range (0,len(fake_news_content_from_csv_str)):\n",
    "    new_content_token_csv = re.sub(r'[^\\w]', ' ', fake_news_content_from_csv_str[i]).lower().split()\n",
    "    new_content_token_csv = [ word for word in new_content_token_csv if word not in stopwords.words('english')]\n",
    "    news_content_all_csv.append(new_content_token_csv)\n"
   ]
  },
  {
   "cell_type": "code",
   "execution_count": 19,
   "metadata": {},
   "outputs": [
    {
     "name": "stdout",
     "output_type": "stream",
     "text": [
      "<class 'list'>\n",
      "1507\n",
      "<class 'str'>\n"
     ]
    }
   ],
   "source": [
    "print(type(fake_news_content_from_csv))\n",
    "print(len(fake_news_content_from_csv))\n",
    "print(type(fake_news_content_from_csv[0]))"
   ]
  },
  {
   "cell_type": "markdown",
   "metadata": {},
   "source": [
    "# extract news content from csv files"
   ]
  },
  {
   "cell_type": "code",
   "execution_count": 20,
   "metadata": {},
   "outputs": [
    {
     "name": "stdout",
     "output_type": "stream",
     "text": [
      "['print', 'pay', 'back', 'money', 'plus', 'interest', 'entire', 'family', 'everyone', 'came', 'need', 'deported', 'asap', 'take', 'two', 'years', 'bust', 'go', 'another', 'group', 'stealing', 'government', 'taxpayers', 'group', 'somalis', 'stole', 'four', 'million', 'government', 'benefits', '10', 'months', 'reported', 'numerous', 'cases', 'like', 'one', 'muslim', 'refugees', 'immigrants', 'commit', 'fraud', 'scamming', 'system', 'way', 'control', 'related']\n",
      "['josh', 'stop', 'talking', 'sit', 'american', 'people', 'fed', 'spewing', 'lies', 'coming', 'administration', 'destruction', 'country', 'come', 'end', 'people', 'spoken', 'time', 'change', 'long', 'time', 'coming', 'trump', 'would', 'say', 'time', 'drain', 'swamp']\n"
     ]
    }
   ],
   "source": [
    "print(news_content_all_csv[0])\n",
    "print(news_content_all_csv[1333])"
   ]
  },
  {
   "cell_type": "code",
   "execution_count": 21,
   "metadata": {},
   "outputs": [],
   "source": [
    "# change to a list of string\n",
    "news_content_string_csv = [' '.join(x) for x in news_content_all_csv]"
   ]
  },
  {
   "cell_type": "code",
   "execution_count": 22,
   "metadata": {},
   "outputs": [
    {
     "name": "stdout",
     "output_type": "stream",
     "text": [
      "['print pay back money plus interest entire family everyone came need deported asap take two years bust go another group stealing government taxpayers group somalis stole four million government benefits 10 months reported numerous cases like one muslim refugees immigrants commit fraud scamming system way control related', 'attorney general loretta lynch plead fifth barracuda brigade 2016 10 28 print administration blocking congressional probe cash payments iran course needs plead 5th either recall refuses answer plain deflects question straight corruption finest 100percentfedup com talk covering ass loretta lynch plead fifth avoid incriminating payments iran corrupt core attorney general loretta lynch declining comply investigation leading members congress obama administration secret efforts send iran 1 7 billion cash earlier year prompting accusations lynch pleaded fifth amendment avoid incriminating payments according lawmakers communications exclusively obtained washington free beacon sen marco rubio r fla rep mike pompeo r kan initially presented lynch october series questions cash payment iran approved delivered oct 24 response assistant attorney general peter kadzik responded lynch behalf refusing answer questions informing lawmakers barred publicly disclosing details cash payment bound ransom deal aimed freeing several american hostages iran response attorney general office unacceptable provides evidence lynch chosen essentially plead fifth refuse respond inquiries regarding role providing cash world foremost state sponsor terrorism rubio pompeo wrote friday follow letter lynch related']\n"
     ]
    }
   ],
   "source": [
    "print(news_content_string_csv[0:2])"
   ]
  },
  {
   "cell_type": "markdown",
   "metadata": {},
   "source": [
    "# label the news from csv files, all news are fake"
   ]
  },
  {
   "cell_type": "code",
   "execution_count": 23,
   "metadata": {},
   "outputs": [
    {
     "name": "stdout",
     "output_type": "stream",
     "text": [
      "<class 'numpy.ndarray'>\n"
     ]
    }
   ],
   "source": [
    "# create a list to hold the response variable fake and real (1 and 0), the first 91 is fake and last 91 is real\n",
    "fake_y_csv = [1] * len(news_content_string_csv)\n",
    "\n",
    "# one hot encode the output variable\n",
    "news_Y_csv = np.array (fake_y_csv)\n",
    "print(type(news_Y_csv))"
   ]
  },
  {
   "cell_type": "code",
   "execution_count": 24,
   "metadata": {},
   "outputs": [
    {
     "name": "stdout",
     "output_type": "stream",
     "text": [
      "(1461,)\n"
     ]
    }
   ],
   "source": [
    "print(news_Y_csv.shape)"
   ]
  },
  {
   "cell_type": "markdown",
   "metadata": {},
   "source": [
    "# read all json files from different folder"
   ]
  },
  {
   "cell_type": "code",
   "execution_count": 26,
   "metadata": {},
   "outputs": [],
   "source": [
    "# read real\n",
    "myList = []\n",
    "directory = 'BuzzFeed/FakeNewsContent'\n",
    "file_names = os.listdir(directory)\n",
    "cleaned_file_name = [f for f in file_names if f.endswith('.json')]\n",
    "#for i, filename in zip(range(1),cleaned_file_name):\n",
    "for filename in cleaned_file_name:   \n",
    "    with open(os.path.join(directory,filename),'r',encoding=\"utf8\") as myfile:\n",
    "        #print(filename)\n",
    "        data = json.load(myfile) \n",
    "        myList.append(data)\n",
    "        \n",
    "# read fake\n",
    "myList_real = []\n",
    "my_df_real  = pd.DataFrame()\n",
    "directory_real = 'BuzzFeed/RealNewsContent'\n",
    "file_names_real = os.listdir(directory_real)\n",
    "cleaned_file_name_real = [f for f in file_names_real if f.endswith('.json')]\n",
    "#for i, filename in zip(range(1),cleaned_file_name):\n",
    "for filename in cleaned_file_name_real:   \n",
    "    with open(os.path.join(directory_real,filename),'r',encoding=\"utf8\") as myfile:\n",
    "        #print(filename)\n",
    "        data = json.load(myfile) \n",
    "        myList_real.append(data)\n",
    "        \n",
    "# read fake news\n",
    "myList_fake = []\n",
    "my_df  = pd.DataFrame()\n",
    "directory_fake = 'PolitiFact/FakeNewsContent'\n",
    "file_names_fake = os.listdir(directory_fake)\n",
    "cleaned_file_name_fake = [f for f in file_names_fake if f.endswith('.json')]\n",
    "#for i, filename in zip(range(1),cleaned_file_name):\n",
    "for filename in cleaned_file_name_fake:   \n",
    "    with open(os.path.join(directory_fake,filename),'r',encoding=\"utf8\") as myfile:\n",
    "        #print(filename)\n",
    "        data = json.load(myfile) \n",
    "        myList_fake.append(data)\n",
    "        \n",
    "# read good news\n",
    "myList_real_p = []\n",
    "directory_real_p = 'PolitiFact/RealNewsContent'\n",
    "file_names_real_p = os.listdir(directory_real_p)\n",
    "cleaned_file_name_real_p = [f for f in file_names_real_p if f.endswith('.json')]\n",
    "#for i, filename in zip(range(1),cleaned_file_name):\n",
    "for filename in cleaned_file_name_real_p:   \n",
    "    with open(os.path.join(directory_real_p,filename),'r',encoding=\"utf8\") as myfile:\n",
    "        #print(filename)\n",
    "        data = json.load(myfile) \n",
    "        myList_real_p.append(data)"
   ]
  },
  {
   "cell_type": "markdown",
   "metadata": {},
   "source": [
    "# append all file together (fake and real) from both json file"
   ]
  },
  {
   "cell_type": "code",
   "execution_count": 27,
   "metadata": {},
   "outputs": [],
   "source": [
    "news_list = myList + myList_fake + myList_real + myList_real_p "
   ]
  },
  {
   "cell_type": "code",
   "execution_count": 39,
   "metadata": {},
   "outputs": [
    {
     "name": "stdout",
     "output_type": "stream",
     "text": [
      "422\n",
      "91\n",
      "120\n"
     ]
    }
   ],
   "source": [
    "print(len(news_list))\n",
    "print(len(myList))\n",
    "print(len(myList_fake))"
   ]
  },
  {
   "cell_type": "markdown",
   "metadata": {},
   "source": [
    "# extract news content from json file"
   ]
  },
  {
   "cell_type": "code",
   "execution_count": 29,
   "metadata": {},
   "outputs": [],
   "source": [
    "\n",
    "# news_content_all has already delete the stopwards.words\n",
    "import re \n",
    "news_content_all = []\n",
    "for i in range (0,len(news_list)): # i from 0 to 90\n",
    "    #print(news_dict)\n",
    "    per_new_text= []\n",
    "    news_dict = news_list[i]\n",
    "    news_content = news_dict['text']\n",
    "    new_content_token = re.sub(r'[^\\w]', ' ', news_content).lower().split()\n",
    "    new_content_token = [ word for word in new_content_token if word not in stopwords.words('english')]\n",
    "    news_content_all.append(new_content_token)\n"
   ]
  },
  {
   "cell_type": "code",
   "execution_count": 30,
   "metadata": {},
   "outputs": [
    {
     "name": "stdout",
     "output_type": "stream",
     "text": [
      "422\n",
      "232\n",
      "160\n",
      "the type of news_content_all is  <class 'list'>\n",
      "the type fo news content all [0] is <class 'list'>\n",
      "people\n"
     ]
    }
   ],
   "source": [
    "\n",
    "print(len(news_content_all))\n",
    "print(len(news_content_all[0]))\n",
    "print(len(news_content_all[90]))\n",
    "print(\"the type of news_content_all is \", type(news_content_all))\n",
    "print(\"the type fo news content all [0] is\", type(news_content_all[0]))\n",
    "print(news_content_all[0][0])\n",
    "# this news_content_all is a list of list \n"
   ]
  },
  {
   "cell_type": "code",
   "execution_count": 31,
   "metadata": {},
   "outputs": [],
   "source": [
    "# make a list of list to a list of string, so we can use in the Tokenizer part\n",
    "news_content_string = [' '.join(x) for x in news_content_all]"
   ]
  },
  {
   "cell_type": "code",
   "execution_count": 32,
   "metadata": {},
   "outputs": [
    {
     "name": "stdout",
     "output_type": "stream",
     "text": [
      "<class 'list'>\n",
      "people noticed something odd hillary outfit debate last night lot could discussed last night debate like unfair debate moderator asking questions help hillary main concern right one thing baffled many hillary appear usually stupid coughing self ready answers detailed facts almost bizarre sputter reach glass water odd everyone grandma talking latest question swirling around social media pictures appeared show hillary kind flesh colored device embedded inside ear earpiece wearing something fashionable old ladies twitter may figured answer see certainly first time hillary use device help think could trick light shadows puffy zipper perhaps hillary actually hiding cough prevention machine hideous feminist pantsuit hillary clinton campaign fervently denying wearing earpiece 101 things young adults know sir john hawkins john hawkins book 101 things young adults know filled lessons newly minted adults need order get life gleaned lifetime trial error writing hawkins provides advice everyone benefit short digestible chapters buy fox news reported clinton spokesman nick merrill said seen photo merely reflection tv lights flash sure going inside hillary little head last night interesting email posted woods clinton huma abedin wikileaks archive released u take earpiece need get woods hidden sense humor escaped twitter even lie without help gaggle liars earpiece woods added literally help kind sociopath lie even truth beneficial course actual proof earpiece could hearing aid hmmm one talked hillary wearing earpiece past fumbled speeches claim merely reflection studio lights let judge\n"
     ]
    }
   ],
   "source": [
    "print(type(news_content_string))\n",
    "print(news_content_string[0])"
   ]
  },
  {
   "cell_type": "code",
   "execution_count": 33,
   "metadata": {},
   "outputs": [],
   "source": [
    "# another way to create news_content all, a list of string"
   ]
  },
  {
   "cell_type": "markdown",
   "metadata": {},
   "source": [
    "# count the word frequency in the entire news and save all words we want to keep , delete words that we think is not important"
   ]
  },
  {
   "cell_type": "code",
   "execution_count": 34,
   "metadata": {},
   "outputs": [],
   "source": [
    "# news_content_string is a list of string, that are used for embedding \n",
    "# news_content_all is a list of list \n",
    "# make nested list to flat list and then count frequency \n",
    "from collections import Counter\n",
    "import itertools\n",
    "flatList = list(itertools.chain.from_iterable(news_content_all))\n",
    "counts = Counter(flatList)\n"
   ]
  },
  {
   "cell_type": "code",
   "execution_count": 35,
   "metadata": {},
   "outputs": [
    {
     "name": "stdout",
     "output_type": "stream",
     "text": [
      "<class 'collections.Counter'>\n",
      "15605\n"
     ]
    }
   ],
   "source": [
    "print(type(counts))\n",
    "print(len(counts))"
   ]
  },
  {
   "cell_type": "code",
   "execution_count": 38,
   "metadata": {},
   "outputs": [
    {
     "name": "stdout",
     "output_type": "stream",
     "text": [
      "3798\n"
     ]
    },
    {
     "data": {
      "text/plain": [
       "'\\n3798 word frequent is greater than 5. \\n'"
      ]
     },
     "execution_count": 38,
     "metadata": {},
     "output_type": "execute_result"
    }
   ],
   "source": [
    "count = 0\n",
    "for key, cnts in list(counts.items()):   \n",
    "    if cnts > 5:\n",
    "        count = count + 1\n",
    "print(count) \n",
    "\n",
    "'''\n",
    "3798 word frequent is greater than 5. \n",
    "'''"
   ]
  },
  {
   "cell_type": "markdown",
   "metadata": {},
   "source": [
    "# create response variable y fake is 1 and real is 0, y is a list"
   ]
  },
  {
   "cell_type": "code",
   "execution_count": 52,
   "metadata": {},
   "outputs": [
    {
     "name": "stdout",
     "output_type": "stream",
     "text": [
      "422\n",
      "<class 'list'>\n",
      "<class 'numpy.ndarray'>\n",
      "(1883,)\n"
     ]
    }
   ],
   "source": [
    "# create a list to hold the response variable fake and real (1 and 0), the first 91 is fake and last 91 is real\n",
    "fake_y = [1] * (91 + 120)\n",
    "real_y = [0]* (91+120)\n",
    "fake_real_label = []\n",
    "fake_real_label.extend(fake_y)\n",
    "fake_real_label.extend(real_y)\n",
    "print(len(fake_real_label))\n",
    "print(type(fake_real_label))\n",
    "\n",
    "# one hot encode the output variable\n",
    "news_Y = np.array (fake_real_label)\n",
    "news_Y = np.concatenate([news_Y_csv,news_Y])\n",
    "#news_Y.extend(news_Y_csv)\n",
    "print(type(news_Y))\n",
    "print(news_Y.shape)"
   ]
  },
  {
   "cell_type": "code",
   "execution_count": 53,
   "metadata": {},
   "outputs": [],
   "source": [
    "# add news_content_string and news_content_string_csv together, label should be all fake and real\n",
    "docs = news_content_string_csv + news_content_string "
   ]
  },
  {
   "cell_type": "code",
   "execution_count": 54,
   "metadata": {},
   "outputs": [
    {
     "name": "stdout",
     "output_type": "stream",
     "text": [
      "print pay back money plus interest entire family everyone came need deported asap take two years bust go another group stealing government taxpayers group somalis stole four million government benefits 10 months reported numerous cases like one muslim refugees immigrants commit fraud scamming system way control related\n",
      "1461\n"
     ]
    }
   ],
   "source": [
    "print(docs[0])\n",
    "print(len(news_content_string_csv))\n"
   ]
  },
  {
   "cell_type": "code",
   "execution_count": 42,
   "metadata": {},
   "outputs": [
    {
     "name": "stdout",
     "output_type": "stream",
     "text": [
      "length of news: 1883\n",
      "type of news: <class 'list'>\n",
      "length of label: 1883\n",
      "type of news: <class 'numpy.ndarray'>\n"
     ]
    }
   ],
   "source": [
    "print(\"length of news:\", len(docs))\n",
    "print(\"type of news:\", type(docs))\n",
    "\n",
    "print(\"length of label:\", len(news_Y))\n",
    "print(\"type of news:\", type(news_Y))"
   ]
  },
  {
   "cell_type": "markdown",
   "metadata": {},
   "source": [
    "# check which word is most often appears in fake or real news"
   ]
  },
  {
   "cell_type": "code",
   "execution_count": null,
   "metadata": {},
   "outputs": [],
   "source": [
    "def word_count(str):\n",
    "    counts = dict()\n",
    "    words = str.split()\n",
    "\n",
    "    for word in words:\n",
    "        if word in counts:\n",
    "            counts[word] += 1\n",
    "        else:\n",
    "            counts[word] = 1\n",
    "\n",
    "    return counts"
   ]
  },
  {
   "cell_type": "code",
   "execution_count": 84,
   "metadata": {},
   "outputs": [
    {
     "name": "stdout",
     "output_type": "stream",
     "text": [
      "trump 3455\n",
      "clinton 2962\n",
      "one 1965\n"
     ]
    }
   ],
   "source": [
    "# in fake news or real news which word count is greater than 200, appear more than 300 times\n",
    "# the length of fake news should be 1461 + 211 = 1672\n",
    "#flatList_fake = list(itertools.chain.from_iterable(docs[0:1671]))\n",
    "flatList_fake = docs[0:1671]\n",
    "counts_fake = dict()\n",
    "for i in range (0,len(flatList_fake)):\n",
    "    words_fake = flatList_fake[i].split()\n",
    "    for word in words_fake:\n",
    "        if word in counts_fake:\n",
    "            counts_fake[word] += 1\n",
    "        else:\n",
    "            counts_fake[word] =1\n",
    "# sort counts_fake \n",
    "fake_sorted_keys = sorted(counts_fake, key=counts_fake.get, reverse=True)\n",
    "for r in fake_sorted_keys:\n",
    "    if(counts_fake[r] > 1950):\n",
    "        print (r, counts_fake[r])"
   ]
  },
  {
   "cell_type": "code",
   "execution_count": 81,
   "metadata": {},
   "outputs": [
    {
     "name": "stdout",
     "output_type": "stream",
     "text": [
      "trump 1338\n",
      "said 759\n",
      "clinton 607\n"
     ]
    }
   ],
   "source": [
    "# in real news which word count is greater than 200, appear more than 300 times\n",
    "# the length of real news should be 211\n",
    "flatList_real = docs[1672:1883]\n",
    "counts_real = dict()\n",
    "for i in range (0,len(flatList_real)):\n",
    "    words_real = flatList_real[i].split()\n",
    "    for word in words_real:\n",
    "        if word in counts_real:\n",
    "            counts_real[word] += 1\n",
    "        else:\n",
    "            counts_real[word] =1\n",
    "# sort counts_fake \n",
    "real_sorted_keys = sorted(counts_real, key=counts_real.get, reverse=True)\n",
    "for r in real_sorted_keys:\n",
    "    if(counts_real[r] > 500):\n",
    "        print (r, counts_real[r])"
   ]
  },
  {
   "cell_type": "markdown",
   "metadata": {},
   "source": [
    "# import package about keras"
   ]
  },
  {
   "cell_type": "code",
   "execution_count": 85,
   "metadata": {},
   "outputs": [],
   "source": [
    "import numpy\n",
    "from keras.models import Sequential\n",
    "from keras.layers import Dense\n",
    "from keras.layers import LSTM\n",
    "from keras.utils import np_utils\n",
    "from keras.preprocessing.sequence import pad_sequences\n",
    "from keras.preprocessing.text import Tokenizer\n",
    "from keras.layers import Embedding"
   ]
  },
  {
   "cell_type": "markdown",
   "metadata": {},
   "source": [
    "# create the tokenizer Part and padding words to integer and then to vector"
   ]
  },
  {
   "cell_type": "code",
   "execution_count": 86,
   "metadata": {},
   "outputs": [],
   "source": [
    "# create the tokenizer\n",
    "t = Tokenizer()\n",
    "# fit the tokenizer on the documents\n",
    "t.fit_on_texts(docs)\n"
   ]
  },
  {
   "cell_type": "code",
   "execution_count": 87,
   "metadata": {},
   "outputs": [
    {
     "data": {
      "text/plain": [
       "'\\n# 把词转换为编号，词的编号根据词频设定，频率越大，编号越小\\n'"
      ]
     },
     "execution_count": 87,
     "metadata": {},
     "output_type": "execute_result"
    }
   ],
   "source": [
    "news_embbeding  = t.texts_to_sequences(docs)\n",
    "\n",
    "'''\n",
    "# 把词转换为编号，词的编号根据词频设定，频率越大，编号越小\n",
    "'''"
   ]
  },
  {
   "cell_type": "code",
   "execution_count": 88,
   "metadata": {},
   "outputs": [
    {
     "name": "stdout",
     "output_type": "stream",
     "text": [
      "<class 'list'>\n",
      "47\n",
      "<class 'list'>\n",
      "[535, 197, 2573, 871, 8571, 3484, 13791, 6857, 18, 101, 665, 946, 255, 3707, 1044, 2404, 1295, 2694, 348, 261, 415, 8571, 9428, 334, 3942, 3367, 657, 3277, 10502, 251, 1296, 827, 10503, 11875, 22, 436, 3032, 2057, 2573, 871, 8571, 3484, 920, 7891, 2694, 348, 993, 2167, 535, 197, 2573, 871, 6079, 5472, 153, 745, 393, 424, 20, 255, 728, 631, 1269, 348, 88, 361, 746, 1295, 401, 62, 4582, 2217, 871, 5241, 3484, 1849, 920, 7891, 2694, 72, 2266, 1906, 3943, 2624, 129, 131, 6080, 1143, 3821, 2058, 1045, 7892, 1238, 1297, 10504, 1045, 16551, 2948, 2819, 871, 73, 1057, 605, 1295, 3708, 348, 1672, 2104, 570, 888, 689, 2218, 535, 197, 1628, 1205, 1553, 871, 2267, 3033, 657, 605, 6081, 2266, 5756, 1629, 10505, 1415, 1295, 3708, 4402, 7334, 438, 2508, 11876, 233, 34, 8572, 348, 689, 535, 197, 172, 5473, 1320, 280, 871, 2105, 2018, 8571, 3484, 2949, 2268, 6082, 1079, 550, 1907, 1295, 33, 6858, 19, 8573, 439, 2058, 10504, 304, 658, 695, 499, 871, 403]\n"
     ]
    }
   ],
   "source": [
    "print(type(news_embbeding))\n",
    "print(len(news_embbeding[0]))\n",
    "print(type(news_embbeding[0]))\n",
    "print(news_embbeding[1])"
   ]
  },
  {
   "cell_type": "code",
   "execution_count": 89,
   "metadata": {},
   "outputs": [],
   "source": [
    "max_length = 426\n",
    "padded_docs = pad_sequences(news_embbeding, maxlen=max_length) \n"
   ]
  },
  {
   "cell_type": "code",
   "execution_count": 90,
   "metadata": {},
   "outputs": [
    {
     "data": {
      "text/plain": [
       "array([[    0,     0,     0, ...,    36,   211,   403],\n",
       "       [    0,     0,     0, ...,   499,   871,   403],\n",
       "       [    0,     0,     0, ...,  8575,  1058,   403],\n",
       "       ...,\n",
       "       [    0,     0,     0, ...,  3268,     2,   843],\n",
       "       [    0,     0,     0, ...,  5586,  1878,  1501],\n",
       "       [33878,  1573,  3594, ...,  1180,  2446,  1434]], dtype=int32)"
      ]
     },
     "execution_count": 90,
     "metadata": {},
     "output_type": "execute_result"
    }
   ],
   "source": [
    "padded_docs"
   ]
  },
  {
   "cell_type": "code",
   "execution_count": 49,
   "metadata": {},
   "outputs": [
    {
     "data": {
      "text/plain": [
       "'\\npad_sequences is a function that can make different length of news become same length, if the length of a news exceed \\nthe maxlen, then this function will make the words that exceed max length to 0 and if the length of a news is less than\\nthe maxlen, then this function will make the different length of words between current length and max length to 0. \\n\\nSo, how to set the max length? how to determine what element should be left or delete? \\n\\nbefore doing pad_sequences, we decide to count frequency of words in all news then rank them. Save the words with \\nhighest and useful words. (except I , am , and, my)\\n\\nSaving the words that we want to keep to a new trainX and redo the new embedding. \\n\\n\\nBy the way, the embedding part is translate each word to a unqiue integer. \\n'"
      ]
     },
     "execution_count": 49,
     "metadata": {},
     "output_type": "execute_result"
    }
   ],
   "source": [
    "'''\n",
    "pad_sequences is a function that can make different length of news become same length, if the length of a news exceed \n",
    "the maxlen, then this function will make the words that exceed max length to 0 and if the length of a news is less than\n",
    "the maxlen, then this function will make the different length of words between current length and max length to 0. \n",
    "\n",
    "So, how to set the max length? how to determine what element should be left or delete? \n",
    "\n",
    "before doing pad_sequences, we decide to count frequency of words in all news then rank them. Save the words with \n",
    "highest and useful words. (except I , am , and, my)\n",
    "\n",
    "Saving the words that we want to keep to a new trainX and redo the new embedding. \n",
    "\n",
    "\n",
    "By the way, the embedding part is translate each word to a unqiue integer. \n",
    "'''"
   ]
  },
  {
   "cell_type": "code",
   "execution_count": 91,
   "metadata": {},
   "outputs": [
    {
     "name": "stdout",
     "output_type": "stream",
     "text": [
      "795\n"
     ]
    }
   ],
   "source": [
    "# check how many words appears more than 5 times, \n",
    "count = 0\n",
    "for key, cnts in list(counts.items()):   \n",
    "    if cnts > 30:\n",
    "        count = count + 1\n",
    "print(count) \n",
    "\n",
    "# greater than 20, 1213 words\n",
    "# greater than 30, 795 words\n",
    "# greater than 50, 426 words"
   ]
  },
  {
   "cell_type": "code",
   "execution_count": 92,
   "metadata": {},
   "outputs": [
    {
     "name": "stdout",
     "output_type": "stream",
     "text": [
      "[4, 9, 35, 36, 38, 49, 50, 50, 54, 74, 83, 94, 98, 101, 126, 128, 141, 141, 179, 185, 211, 220, 244, 282, 317, 354, 392, 403, 569, 616, 810, 870, 912, 933, 946, 992, 1394, 1601, 2572, 3594, 4236, 4401, 7890, 9427, 16549, 16550, 21669]\n"
     ]
    }
   ],
   "source": [
    "# pad_sequences process based on rank\n",
    "# Example to sort the first element\n",
    "e1 = news_embbeding[0]\n",
    "print(sorted(e1,key = int))\n"
   ]
  },
  {
   "cell_type": "code",
   "execution_count": 93,
   "metadata": {},
   "outputs": [],
   "source": [
    "length = [len(x) for x in news_embbeding]\n",
    "import matplotlib.pyplot as plt\n",
    "%matplotlib inline\n",
    "\n"
   ]
  },
  {
   "cell_type": "code",
   "execution_count": 94,
   "metadata": {},
   "outputs": [
    {
     "data": {
      "text/plain": [
       "(array([1.511e+03, 2.790e+02, 6.500e+01, 1.500e+01, 5.000e+00, 2.000e+00,\n",
       "        1.000e+00, 4.000e+00, 0.000e+00, 1.000e+00]),\n",
       " array([   0. ,  417.2,  834.4, 1251.6, 1668.8, 2086. , 2503.2, 2920.4,\n",
       "        3337.6, 3754.8, 4172. ]),\n",
       " <a list of 10 Patch objects>)"
      ]
     },
     "execution_count": 94,
     "metadata": {},
     "output_type": "execute_result"
    },
    {
     "data": {
      "image/png": "[encoded data removed]",
      "text/plain": [
       "<matplotlib.figure.Figure at 0x1202d8160>"
      ]
     },
     "metadata": {},
     "output_type": "display_data"
    }
   ],
   "source": [
    "plt.hist(length)"
   ]
  },
  {
   "cell_type": "code",
   "execution_count": 95,
   "metadata": {},
   "outputs": [
    {
     "name": "stdout",
     "output_type": "stream",
     "text": [
      "987\n"
     ]
    }
   ],
   "source": [
    "length = sorted(length)\n",
    "length\n",
    "\n",
    "index = int(len(length)* 0.97) # 1171 cover 97% of words\n",
    "max_length = length[index]\n",
    "print(max_length)"
   ]
  },
  {
   "cell_type": "code",
   "execution_count": 96,
   "metadata": {},
   "outputs": [],
   "source": [
    "\n",
    "padded_docs = pad_sequences(news_embbeding, maxlen=max_length, padding = 'post') \n",
    "\n",
    "# choose save the words which frequent greater than 50?\n",
    "# padding: String, 'pre' or 'post': pad either before or after each sequence."
   ]
  },
  {
   "cell_type": "code",
   "execution_count": 97,
   "metadata": {},
   "outputs": [
    {
     "name": "stdout",
     "output_type": "stream",
     "text": [
      "[[ 946  392   49 ...    0    0    0]\n",
      " [ 535  197 2573 ...    0    0    0]\n",
      " [ 576   19  464 ...    0    0    0]\n",
      " ...\n",
      " [ 653 4087 1110 ...    0    0    0]\n",
      " [3827    3 1977 ...    0    0    0]\n",
      " [  66    5 1630 ...    0    0    0]]\n"
     ]
    }
   ],
   "source": [
    "print(padded_docs[0:10])"
   ]
  },
  {
   "cell_type": "code",
   "execution_count": 98,
   "metadata": {},
   "outputs": [
    {
     "data": {
      "text/plain": [
       "1883"
      ]
     },
     "execution_count": 98,
     "metadata": {},
     "output_type": "execute_result"
    }
   ],
   "source": [
    "len(padded_docs)"
   ]
  },
  {
   "cell_type": "markdown",
   "metadata": {},
   "source": [
    "# use glove to do word embedding"
   ]
  },
  {
   "cell_type": "code",
   "execution_count": 100,
   "metadata": {},
   "outputs": [
    {
     "name": "stdout",
     "output_type": "stream",
     "text": [
      "Loaded 400000 word vectors.\n"
     ]
    }
   ],
   "source": [
    "# load the whole embedding into memory\n",
    "from numpy import array\n",
    "from numpy import asarray\n",
    "embeddings_index = dict()\n",
    "file = \"glove/glove.6B.50d.txt\"\n",
    "f = open(file)\n",
    "for line in f:\n",
    "    values = line.split()\n",
    "    word = values[0]\n",
    "    coefs = asarray(values[1:], dtype='float32')\n",
    "    embeddings_index[word] = coefs\n",
    "f.close()\n",
    "print('Loaded %s word vectors.' % len(embeddings_index))"
   ]
  },
  {
   "cell_type": "code",
   "execution_count": 101,
   "metadata": {},
   "outputs": [],
   "source": [
    "'''\n",
    "Next, we need to create a matrix of one embedding for each word in the training dataset. \n",
    "We can do that by enumerating all unique words in the Tokenizer.word_index and locating the embedding weight \n",
    "vector from the loaded GloVe embedding.\n",
    "The result is a matrix of weights only for words we will see during training.\n",
    "'''\n",
    "vocab_size = len(t.word_index) + 1\n",
    "from numpy import zeros\n",
    "embedding_matrix = zeros((vocab_size, 50))\n",
    "for word, i in t.word_index.items():\n",
    "    embedding_vector = embeddings_index.get(word)\n",
    "    if embedding_vector is not None:\n",
    "        embedding_matrix[i] = embedding_vector"
   ]
  },
  {
   "cell_type": "code",
   "execution_count": 102,
   "metadata": {},
   "outputs": [
    {
     "name": "stdout",
     "output_type": "stream",
     "text": [
      "33893\n",
      "<class 'dict'>\n"
     ]
    }
   ],
   "source": [
    "print(len(t.word_index)) #  how many words in the entire words\n",
    "print(type(t.word_index))"
   ]
  },
  {
   "cell_type": "code",
   "execution_count": 103,
   "metadata": {},
   "outputs": [
    {
     "name": "stdout",
     "output_type": "stream",
     "text": [
      "[[ 0.          0.          0.         ...  0.          0.\n",
      "   0.        ]\n",
      " [ 0.45769     0.85191     0.31097999 ... -0.74225998  0.77052999\n",
      "   0.26394001]\n",
      " [ 0.23158     0.69963998  0.43878001 ...  0.68463999 -0.43252999\n",
      "   0.75606   ]\n",
      " ...\n",
      " [ 0.43803999 -0.28209999  0.76776999 ...  1.10179996  0.51640999\n",
      "   0.37685999]\n",
      " [ 0.          0.          0.         ...  0.          0.\n",
      "   0.        ]\n",
      " [-0.0038993  -0.37799999  0.22160999 ...  0.79258001  0.72994\n",
      "   0.21297   ]]\n",
      "33894\n"
     ]
    }
   ],
   "source": [
    "print(embedding_matrix)\n",
    "print(vocab_size)"
   ]
  },
  {
   "cell_type": "code",
   "execution_count": 104,
   "metadata": {},
   "outputs": [
    {
     "data": {
      "text/plain": [
       "1"
      ]
     },
     "execution_count": 104,
     "metadata": {},
     "output_type": "execute_result"
    }
   ],
   "source": [
    "#print(t.word_index)\n",
    "\n",
    "value = [v for key,v in t.word_index.items()]\n",
    "value.count(1)"
   ]
  },
  {
   "cell_type": "markdown",
   "metadata": {},
   "source": [
    "# using training data to train model"
   ]
  },
  {
   "cell_type": "markdown",
   "metadata": {},
   "source": [
    "# split training , validation and testing data"
   ]
  },
  {
   "cell_type": "code",
   "execution_count": 105,
   "metadata": {},
   "outputs": [
    {
     "name": "stdout",
     "output_type": "stream",
     "text": [
      "1883\n",
      "1883\n"
     ]
    }
   ],
   "source": [
    "print(len(padded_docs))\n",
    "print(len(news_Y))"
   ]
  },
  {
   "cell_type": "code",
   "execution_count": 118,
   "metadata": {},
   "outputs": [],
   "source": [
    "from sklearn.model_selection import train_test_split\n",
    "validation_size = 0.2\n",
    "seed = 4\n",
    "# split data into train, test and validation\n",
    "\n",
    "train_X, test_X = train_test_split(padded_docs,  test_size=validation_size, random_state=seed)\n",
    "train_y, test_y = train_test_split(news_Y,  test_size=validation_size, random_state=seed)\n",
    "\n",
    "train_X, val_X, train_y, val_y = train_test_split(train_X, train_y, test_size=0.2, random_state=seed)"
   ]
  },
  {
   "cell_type": "code",
   "execution_count": 119,
   "metadata": {},
   "outputs": [
    {
     "name": "stdout",
     "output_type": "stream",
     "text": [
      "the training x is 1204\n",
      "the training y is 1204\n",
      "the testing x is 377\n",
      "the testing y is 377\n",
      "the validation x is 302\n",
      "the validation x is 302\n",
      "[1 1 1 1 0 1 1 1 1 1 1 1 1 1 1 1 1 1 1 1]\n",
      "[[  301    47   744 ...     0     0     0]\n",
      " [ 2189  1997   418 ...     0     0     0]\n",
      " [  150   132    18 ...     0     0     0]\n",
      " ...\n",
      " [ 2839 12240   796 ...     0     0     0]\n",
      " [   82  1165  7558 ...     0     0     0]\n",
      " [  953   422  2334 ...     0     0     0]]\n",
      "[[  446 14057    47 ...     0     0     0]\n",
      " [   15     1   127 ...     0     0     0]\n",
      " [  593   581   593 ...     0     0     0]\n",
      " ...\n",
      " [ 2013  4790  4398 ...     0     0     0]\n",
      " [15301   333   563 ...     0     0     0]\n",
      " [  408 31949   437 ...     0     0     0]]\n"
     ]
    }
   ],
   "source": [
    "#print(len(train_X[0]))\n",
    "#print(len(train_X[1]))\n",
    "print('the training x is', len(train_X))\n",
    "print('the training y is', len(train_y))\n",
    "print('the testing x is', len(test_X))\n",
    "print('the testing y is', len(test_y))\n",
    "print('the validation x is', len(val_X))\n",
    "print('the validation x is', len(val_y))\n",
    "\n",
    "\n",
    "print(train_y[0:20])\n",
    "print(test_X[0:20])\n",
    "print(val_X[0:20])"
   ]
  },
  {
   "cell_type": "markdown",
   "metadata": {},
   "source": [
    "<font color = 'red'> Let's see imbalanced stats in training set </font>"
   ]
  },
  {
   "cell_type": "code",
   "execution_count": 120,
   "metadata": {},
   "outputs": [
    {
     "name": "stdout",
     "output_type": "stream",
     "text": [
      "fake news 1071 real news 133\n",
      "class imbalanced ratio 0.12418300653594772\n",
      "percent fake news 0.8895348837209303. Need to beat this accuracy\n"
     ]
    }
   ],
   "source": [
    "fake_news = sum(train_y == 1)\n",
    "real_news = sum(train_y == 0)\n",
    "class_imbalanced_ratio = real_news/fake_news\n",
    "print('fake news {} real news {}'.format(fake_news, real_news))\n",
    "print('class imbalanced ratio {}'.format(class_imbalanced_ratio))\n",
    "print('percent fake news {}. Need to beat this accuracy'.format(fake_news/(fake_news+ real_news)))"
   ]
  },
  {
   "cell_type": "markdown",
   "metadata": {},
   "source": [
    "<font color = 'red'> In test set imbalnced stats </font>"
   ]
  },
  {
   "cell_type": "code",
   "execution_count": 121,
   "metadata": {},
   "outputs": [
    {
     "name": "stdout",
     "output_type": "stream",
     "text": [
      "fake news 331 real news 46\n",
      "class imbalanced ratio 0.13897280966767372\n",
      "percent fake news 0.8779840848806366 test.\n"
     ]
    }
   ],
   "source": [
    "fake_news = sum(test_y == 1)\n",
    "real_news = sum(test_y == 0)\n",
    "class_imbalanced_ratio_test = real_news/fake_news\n",
    "print('fake news {} real news {}'.format(fake_news, real_news))\n",
    "print('class imbalanced ratio {}'.format(class_imbalanced_ratio_test))\n",
    "print('percent fake news {} test.'.format(fake_news/(fake_news+ real_news)))"
   ]
  },
  {
   "cell_type": "raw",
   "metadata": {},
   "source": [
    "In validation set imbalanced stats"
   ]
  },
  {
   "cell_type": "code",
   "execution_count": 122,
   "metadata": {},
   "outputs": [
    {
     "name": "stdout",
     "output_type": "stream",
     "text": [
      "fake news 270 real news 32\n",
      "class imbalanced ratio 0.11851851851851852\n",
      "percent fake news 0.8940397350993378 validation.\n"
     ]
    }
   ],
   "source": [
    "fake_news = sum(val_y == 1)\n",
    "real_news = sum(val_y == 0)\n",
    "class_imbalanced_ratio_test = real_news/fake_news\n",
    "print('fake news {} real news {}'.format(fake_news, real_news))\n",
    "print('class imbalanced ratio {}'.format(class_imbalanced_ratio_test))\n",
    "print('percent fake news {} validation.'.format(fake_news/(fake_news+ real_news)))"
   ]
  },
  {
   "cell_type": "markdown",
   "metadata": {},
   "source": []
  },
  {
   "cell_type": "markdown",
   "metadata": {},
   "source": [
    "# solve data imbalance problem -- Oversampling"
   ]
  },
  {
   "cell_type": "code",
   "execution_count": 67,
   "metadata": {},
   "outputs": [
    {
     "data": {
      "text/plain": [
       "'\\nfrom imblearn.over_sampling import SMOTE\\n\\nprint(\"Number transactions X_train dataset: \", train_X.shape)\\nprint(\"Number transactions y_train dataset: \", train_y.shape)\\nprint(\"Number transactions X_test dataset: \", test_X.shape)\\nprint(\"Number transactions y_test dataset: \", test_y.shape)\\n\\nprint(\"Before OverSampling, counts of label \\'1\\': {}\".format(sum(train_y==1)))\\nprint(\"Before OverSampling, counts of label \\'0\\': {} \\n\".format(sum(train_y==0)))\\n\\n# oversample on training set\\nsm = SMOTE(random_state=12)\\nx_train_res, y_train_res = sm.fit_sample(train_X, train_y)\\n\\nprint(\"After OverSampling, counts of label \\'1\\': {}\".format(sum(y_train_res==1)))\\nprint(\"After OverSampling, counts of label \\'0\\': {}\".format(sum(y_train_res==0)))\\n'"
      ]
     },
     "execution_count": 67,
     "metadata": {},
     "output_type": "execute_result"
    }
   ],
   "source": [
    "'''\n",
    "from imblearn.over_sampling import SMOTE\n",
    "\n",
    "print(\"Number transactions X_train dataset: \", train_X.shape)\n",
    "print(\"Number transactions y_train dataset: \", train_y.shape)\n",
    "print(\"Number transactions X_test dataset: \", test_X.shape)\n",
    "print(\"Number transactions y_test dataset: \", test_y.shape)\n",
    "\n",
    "print(\"Before OverSampling, counts of label '1': {}\".format(sum(train_y==1)))\n",
    "print(\"Before OverSampling, counts of label '0': {} \\n\".format(sum(train_y==0)))\n",
    "\n",
    "# oversample on training set\n",
    "sm = SMOTE(random_state=12)\n",
    "x_train_res, y_train_res = sm.fit_sample(train_X, train_y)\n",
    "\n",
    "print(\"After OverSampling, counts of label '1': {}\".format(sum(y_train_res==1)))\n",
    "print(\"After OverSampling, counts of label '0': {}\".format(sum(y_train_res==0)))\n",
    "'''"
   ]
  },
  {
   "cell_type": "markdown",
   "metadata": {},
   "source": [
    "# How to use tensorflow to handle class imbalance? (88% of data are fake) -- the mothod below looks like dosen't works on LSTM\n",
    "## add class weights to the loss function"
   ]
  },
  {
   "cell_type": "code",
   "execution_count": 123,
   "metadata": {},
   "outputs": [],
   "source": [
    "from keras import backend as K\n",
    "def weighted_binary_crossentropy(class_weights = [1.0, 1.0]):\n",
    "    \"\"\"\n",
    "    A weighted version of binary\n",
    "    \n",
    "    Variables:\n",
    "        weights: [class one weight, class zero weight]\n",
    "    \n",
    "    Usage:\n",
    "\n",
    "    \"\"\"\n",
    "    \n",
    "    class_weights = class_weights\n",
    "        \n",
    "    def loss(y_true, y_pred):\n",
    "        loss = -(class_weights[0] * y_true * K.log(y_pred) + class_weights[1] * (1.0 - y_true) * K.log(1.0 - y_pred))\n",
    "        print(loss.shape)\n",
    "        loss = K.sum(loss, -1)\n",
    "        print(loss.shape)\n",
    "        return loss\n",
    "    \n",
    "    return loss"
   ]
  },
  {
   "cell_type": "markdown",
   "metadata": {},
   "source": [
    "# Model"
   ]
  },
  {
   "cell_type": "code",
   "execution_count": 125,
   "metadata": {},
   "outputs": [
    {
     "name": "stdout",
     "output_type": "stream",
     "text": [
      "(?, ?)\n",
      "(?,)\n"
     ]
    }
   ],
   "source": [
    "from keras import  optimizers\n",
    "model = Sequential()\n",
    "# add embedding layers\n",
    "model.add(Embedding(vocab_size, 50,weights=[embedding_matrix], input_length=max_length)) # length of dictionary, dim output\n",
    "\n",
    "layer = model.layers[0]\n",
    "layer.trainable = False\n",
    "\n",
    "#batchSize = 128\n",
    "batchSize = 1  # should be 128\n",
    "\n",
    "# less representative class should have more weight\n",
    "weights = [.12, .88]\n",
    "\n",
    "\n",
    "model.add(LSTM(64, input_shape =(None,50)))  #should be 40\n",
    "#model.add(LSTM(96))\n",
    "model.add(Dense(1, activation='sigmoid'))\n",
    "opt= optimizers.Adam(lr=0.001, beta_1=0.9, beta_2=0.999, epsilon=1e-8)\n",
    "#model.compile(loss='binary_crossentropy', optimizer='adam', metrics=['accuracy'])\n",
    "model.compile(loss=weighted_binary_crossentropy(weights), optimizer=opt, metrics=['accuracy'])\n"
   ]
  },
  {
   "cell_type": "markdown",
   "metadata": {},
   "source": [
    "# fit model and save model"
   ]
  },
  {
   "cell_type": "code",
   "execution_count": 127,
   "metadata": {},
   "outputs": [
    {
     "name": "stdout",
     "output_type": "stream",
     "text": [
      "Train on 1204 samples, validate on 302 samples\n",
      "Epoch 1/5\n",
      "1204/1204 [==============================] - 808s 671ms/step - loss: 0.1459 - acc: 0.5017 - val_loss: 0.1389 - val_acc: 0.8907\n",
      "Epoch 2/5\n",
      "1204/1204 [==============================] - 806s 669ms/step - loss: 0.1418 - acc: 0.6146 - val_loss: 0.1409 - val_acc: 0.1093\n",
      "Epoch 3/5\n",
      "1204/1204 [==============================] - 833s 692ms/step - loss: 0.1410 - acc: 0.6221 - val_loss: 0.1394 - val_acc: 0.8907\n",
      "Epoch 4/5\n",
      "1204/1204 [==============================] - 807s 670ms/step - loss: 0.1403 - acc: 0.5922 - val_loss: 0.1396 - val_acc: 0.8907\n",
      "Epoch 5/5\n",
      "1204/1204 [==============================] - 806s 669ms/step - loss: 0.1402 - acc: 0.7027 - val_loss: 0.1411 - val_acc: 0.8940\n"
     ]
    }
   ],
   "source": [
    "#model.fit(train_X, train_y, batch_size=batchSize, validation_data= (test_X, test_y), epochs=50)\n",
    "model.fit(train_X, train_y, batch_size=batchSize, validation_data= (val_X, val_y), epochs=5)\n",
    "model.save('finalModel')"
   ]
  },
  {
   "cell_type": "code",
   "execution_count": 183,
   "metadata": {},
   "outputs": [
    {
     "name": "stdout",
     "output_type": "stream",
     "text": [
      "{'val_loss': [0.13886194260457888, 0.14093354978407455, 0.1393883954980318, 0.13957213926196887, 0.14111286731103792], 'val_acc': [0.890728476821192, 0.10927152317880795, 0.890728476821192, 0.890728476821192, 0.8940397350993378], 'loss': [0.14593682506098876, 0.14182166073415614, 0.14102430114572082, 0.14031633840675817, 0.1401643676565731], 'acc': [0.5016611295681063, 0.6146179401993356, 0.622093023255814, 0.5921926910299004, 0.7026578073089701]}\n"
     ]
    },
    {
     "data": {
      "text/plain": [
       "Text(0.5,0.98,'test accuracy VS validation accruacy')"
      ]
     },
     "execution_count": 183,
     "metadata": {},
     "output_type": "execute_result"
    },
    {
     "data": {
      "image/png": "[encoded data removed]",
      "text/plain": [
       "<matplotlib.figure.Figure at 0x121cab6a0>"
      ]
     },
     "metadata": {},
     "output_type": "display_data"
    }
   ],
   "source": [
    "# draw graph of train accurancy vs val accurancy, train loss vs val loss\n",
    "print(model.history.history)\n",
    "acc = model.history.history['acc']\n",
    "val_acc = model.history.history['val_acc']\n",
    "loss = model.history.history['loss']\n",
    "val_loss = model.history.history['val_loss']\n",
    "\n",
    "%matplotlib inline\n",
    "import matplotlib.pyplot as plt\n",
    "fig = plt.figure()\n",
    "plt.plot(acc)\n",
    "plt.plot(val_acc)\n",
    "fig.suptitle('test accuracy VS validation accruacy')"
   ]
  },
  {
   "cell_type": "code",
   "execution_count": 184,
   "metadata": {},
   "outputs": [
    {
     "data": {
      "text/plain": [
       "Text(0.5,0.98,'test loss VS validation loss')"
      ]
     },
     "execution_count": 184,
     "metadata": {},
     "output_type": "execute_result"
    },
    {
     "data": {
      "image/png": "[encoded data removed]",
      "text/plain": [
       "<matplotlib.figure.Figure at 0x13411fa58>"
      ]
     },
     "metadata": {},
     "output_type": "display_data"
    }
   ],
   "source": [
    "%matplotlib inline\n",
    "fig = plt.figure()\n",
    "plt.plot(loss)\n",
    "plt.plot(val_loss)\n",
    "fig.suptitle('test loss VS validation loss')"
   ]
  },
  {
   "cell_type": "code",
   "execution_count": 142,
   "metadata": {},
   "outputs": [
    {
     "name": "stdout",
     "output_type": "stream",
     "text": [
      "Accuracy: 0.883289\n",
      "Loss: 0.142803\n"
     ]
    }
   ],
   "source": [
    "# use test set to calculate the accuracy on test data. \n",
    "#Include figures of confusion matrix in  report too.\n",
    "loss, accuracy = model.evaluate(test_X, test_y, verbose=0)\n",
    "print('Accuracy: %f' % (accuracy))\n",
    "print('Loss: %f' % (loss))"
   ]
  },
  {
   "cell_type": "code",
   "execution_count": 144,
   "metadata": {},
   "outputs": [],
   "source": [
    "# predict the y value of test data\n",
    "pred_y = model.predict(test_X)\n",
    "pred_y = (pred_y > 0.5)"
   ]
  },
  {
   "cell_type": "code",
   "execution_count": 145,
   "metadata": {},
   "outputs": [
    {
     "name": "stdout",
     "output_type": "stream",
     "text": [
      "[[  3  43]\n",
      " [  1 330]]\n"
     ]
    },
    {
     "data": {
      "text/plain": [
       "0.883289124668435"
      ]
     },
     "execution_count": 145,
     "metadata": {},
     "output_type": "execute_result"
    }
   ],
   "source": [
    "from sklearn.metrics import confusion_matrix\n",
    "cm = confusion_matrix(test_y, pred_y)\n",
    "print(cm)\n",
    "\n",
    "# accurancy\n",
    "a = (3+330)/(1+43+3+330)\n",
    "a\n",
    "# same with the accurancy get from model.evaluate"
   ]
  },
  {
   "cell_type": "markdown",
   "metadata": {},
   "source": [
    "# read the url and make it to vector"
   ]
  },
  {
   "cell_type": "code",
   "execution_count": 146,
   "metadata": {},
   "outputs": [],
   "source": [
    "# import the necessary packages\n",
    "from keras.applications import ResNet50\n",
    "from keras.preprocessing.image import img_to_array\n",
    "from keras.applications import imagenet_utils\n",
    "from PIL import Image\n",
    "import numpy as np\n",
    "import flask\n",
    "import io\n",
    "import requests\n",
    "from bs4 import BeautifulSoup"
   ]
  },
  {
   "cell_type": "code",
   "execution_count": 147,
   "metadata": {},
   "outputs": [
    {
     "data": {
      "text/plain": [
       "'At least 29 children have been killed and 30 wounded in a Saudi led coalition air strike in Yemen  the International Committee of the Red Cross says The children were travelling on a bus that was hit at a market in Dahyan  in the northern province of Saada  The health ministry run by the rebel Houthi movement put the death toll at 43  and said 61 people were wounded  The coalition  which is backing Yemen s government in a war with the Houthis  said its actions were  legitimate  It insists it never deliberately targets civilians  but human rights groups have accused it of bombing markets  schools  hospitals and residential areas Meanwhile the new UN special envoy to Yemen  former British diplomat Martin Griffiths  is planning to invite the warring parties to Geneva in September to discuss a framework for negotiations He told the BBC s Lyse Doucet that if the conflict is left unresolved  Yemen could collapse and the international community could be looking at  Syria plus  in the years to come  The war in Yemen will get more complicated the longer it goes on  There will be more international interest and polarisation in terms of the parties  it will fragment further  it will be more difficult to resolve   even more than it is now  Yemeni tribal elders told the Associated Press that the bus was hit as it passed through Dahyan market and that it was transporting local civilians  including many school children The charity Save the Children said it had been told by its staff that the children were on their way back to school from a picnic when the driver of their bus stopped to get a drink The vehicle was stationary when the attack happened  it added The ICRC said a hospital it supported in Saada had received the bodies of 29 children  all of them under the age of 15  and 48 injured people  among them 30 children It sent additional supplies to the hospital to cope with the influx of patients Houthi run Al Masirah TV reported that 47 people were killed and 77 wounded  and broadcast graphic pictures showing the bodies of several young children  some of them wearing school uniform Houthi spokesman Mohammed Abdul Salam accused the coalition of showing  clear disregard for civilian life  by targeting a crowded public place It is high time for these relapsing tragedies to stop in  Yemen  No one should allow putting children in harm s way and making them pay such an unacceptable price  Proud of  ICRC_ye and  Yemeni health teams in Saada doing their utmost to save lives  https   t co Tx9WW3Y5KgEnd of Twitter post  by  RMardiniICRCThe ICRC stressed that  under international humanitarian law  civilians must be protected during conflict   while the secretary general of the Norwegian Refugee Council Jan Egeland called it a  grotesque  shameful  attack that showed  blatant disregard for rules of war  Save the Children described the incident as  horrific   and called for a full  immediate and independent investigation into recent attacks on civilians and civilian infrastructure It was not immediately clear whether the bus was the target of the air strike  but coalition spokesman Col Turki al Malki said the attack was  a legitimate military action  conducted in conformity with international humanitarian law   He said it had hit  militants responsible for planning and targeting civilians  in the southern Saudi city of Jizan on Wednesday night  where one Yemeni resident was killed and 11 others were injured by fragments from an intercepted ballistic missile that was launched by the Houthis from neighbouring Amran province  He accused the rebels of using children as  tools and covers for their terrorist acts  Later  air strikes were reported in the rebel held Yemeni capital  Sanaa A week ago  at least 55 civilians were killed and 170 others wounded in a series of attacks on the rebel held Red Sea port city of Hudaydah  The coalition denied that it had carried out air strikes in the area  and blamed the deaths on rebel mortar fire Yemen has been devastated by a conflict that escalated in early 2015  when the Houthis seized control of much of the west of the country and forced President Abdrabbuh Mansour Hadi to flee abroad Alarmed by the rise of a group they saw as an Iranian proxy  the UAE  Saudi Arabia and seven other Arab states intervened in an attempt to restore the government Almost 10 000 people   two thirds of them civilians   have been killed and 55 000 others injured in the fighting  according to the United Nations The fighting and a partial blockade by the coalition has also left 22 million people in need of humanitarian aid  created the world s largest food security emergency  and led to a cholera outbreak that is thought to have affected a million people '"
      ]
     },
     "execution_count": 147,
     "metadata": {},
     "output_type": "execute_result"
    }
   ],
   "source": [
    "url = 'https://www.bbc.com/news/world-middle-east-45128367'\n",
    "\n",
    "page = requests.get(url)\n",
    "soup = BeautifulSoup(page.text, 'html.parser')\n",
    "soup.prettify()\n",
    "\n",
    "table = soup.find(\"div\", {\"class\":\"story-body__inner\"}).findAll('p')\n",
    "\n",
    "\n",
    "article_text = ''\n",
    "for element in table:\n",
    "    article_text += ''.join(element.findAll(text = True))\n",
    "\n",
    "article_text = re.sub(r'[^\\w]', ' ', article_text)\n",
    "article_text "
   ]
  },
  {
   "cell_type": "code",
   "execution_count": null,
   "metadata": {},
   "outputs": [],
   "source": [
    "# fit the tokenizer on the documents\n",
    "#t.fit_on_texts(article_text)\n"
   ]
  },
  {
   "cell_type": "code",
   "execution_count": 148,
   "metadata": {},
   "outputs": [],
   "source": [
    "text_news_embbeding = t.texts_to_sequences(article_text)\n",
    "\n",
    "padded_docs_p = pad_sequences(text_news_embbeding, maxlen=max_length) \n",
    "    \n",
    "padded_docs_p = pad_sequences(text_news_embbeding, maxlen=987, padding = 'post') \n",
    "    "
   ]
  },
  {
   "cell_type": "code",
   "execution_count": 149,
   "metadata": {},
   "outputs": [
    {
     "name": "stdout",
     "output_type": "stream",
     "text": [
      "(1204, 987)\n",
      "[[  0   0   0 ...   0   0   0]\n",
      " [  0   0   0 ...   0   0   0]\n",
      " [  0   0   0 ...   0   0   0]\n",
      " ...\n",
      " [  0   0   0 ...   0   0   0]\n",
      " [  0   0   0 ...   0   0   0]\n",
      " [125   0   0 ...   0   0   0]]\n"
     ]
    }
   ],
   "source": [
    "print(train_X.shape)\n",
    "print(padded_docs_p[0:10])\n"
   ]
  },
  {
   "cell_type": "code",
   "execution_count": 160,
   "metadata": {},
   "outputs": [],
   "source": [
    "#model = load_model('finalModel')\n",
    "\n",
    "preds = model.predict(padded_docs_p) # input is the sequence of the text "
   ]
  },
  {
   "cell_type": "code",
   "execution_count": 161,
   "metadata": {},
   "outputs": [
    {
     "data": {
      "text/plain": [
       "array([[0.5382989],\n",
       "       [0.5382989],\n",
       "       [0.5382989],\n",
       "       ...,\n",
       "       [0.5382989],\n",
       "       [0.5382989],\n",
       "       [0.5382989]], dtype=float32)"
      ]
     },
     "execution_count": 161,
     "metadata": {},
     "output_type": "execute_result"
    }
   ],
   "source": [
    "preds  # the result is fake"
   ]
  },
  {
   "cell_type": "code",
   "execution_count": null,
   "metadata": {},
   "outputs": [],
   "source": []
  }
 ],
 "metadata": {
  "kernelspec": {
   "display_name": "Python 3",
   "language": "python",
   "name": "python3"
  },
  "language_info": {
   "codemirror_mode": {
    "name": "ipython",
    "version": 3
   },
   "file_extension": ".py",
   "mimetype": "text/x-python",
   "name": "python",
   "nbconvert_exporter": "python",
   "pygments_lexer": "ipython3",
   "version": "3.6.4"
  }
 },
 "nbformat": 4,
 "nbformat_minor": 2
}
