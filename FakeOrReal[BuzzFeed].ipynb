{
 "cells": [
  {
   "cell_type": "code",
   "execution_count": 221,
   "metadata": {},
   "outputs": [],
   "source": [
    "import pandas as pd\n",
    "import numpy as np\n",
    "import nltk\n",
    "from nltk.corpus import stopwords\n",
    "from gensim.models import Word2Vec"
   ]
  },
  {
   "cell_type": "markdown",
   "metadata": {},
   "source": [
    "# The first part, try to load jason file (not really useful, dont run it)"
   ]
  },
  {
   "cell_type": "code",
   "execution_count": 2,
   "metadata": {},
   "outputs": [
    {
     "name": "stdout",
     "output_type": "stream",
     "text": [
      "BuzzFeed_Fake_91-Webpage.json\n",
      "BuzzFeed_Fake_69-Webpage.json\n",
      "BuzzFeed_Fake_83-Webpage.json\n",
      "BuzzFeed_Fake_29-Webpage.json\n",
      "BuzzFeed_Fake_84-Webpage.json\n",
      "BuzzFeed_Fake_18-Webpage.json\n",
      "BuzzFeed_Fake_58-Webpage.json\n",
      "BuzzFeed_Fake_85-Webpage.json\n",
      ".DS_Store\n",
      "BuzzFeed_Fake_28-Webpage.json\n",
      "BuzzFeed_Fake_82-Webpage.json\n",
      "BuzzFeed_Fake_68-Webpage.json\n",
      "BuzzFeed_Fake_90-Webpage.json\n",
      "BuzzFeed_Fake_59-Webpage.json\n",
      "BuzzFeed_Fake_19-Webpage.json\n",
      "BuzzFeed_Fake_13-Webpage.json\n",
      "BuzzFeed_Fake_1-Webpage.json\n",
      "BuzzFeed_Fake_46-Webpage.json\n",
      "BuzzFeed_Fake_14-Webpage.json\n",
      "BuzzFeed_Fake_41-Webpage.json\n",
      "BuzzFeed_Fake_6-Webpage.json\n",
      "BuzzFeed_Fake_54-Webpage.json\n",
      "BuzzFeed_Fake_53-Webpage.json\n",
      "BuzzFeed_Fake_30-Webpage.json\n",
      "BuzzFeed_Fake_65-Webpage.json\n",
      "BuzzFeed_Fake_37-Webpage.json\n",
      "BuzzFeed_Fake_62-Webpage.json\n",
      "BuzzFeed_Fake_88-Webpage.json\n",
      "BuzzFeed_Fake_22-Webpage.json\n",
      "BuzzFeed_Fake_77-Webpage.json\n",
      "BuzzFeed_Fake_25-Webpage.json\n",
      "BuzzFeed_Fake_70-Webpage.json\n",
      "BuzzFeed_Fake_52-Webpage.json\n",
      "BuzzFeed_Fake_55-Webpage.json\n",
      "BuzzFeed_Fake_7-Webpage.json\n",
      "BuzzFeed_Fake_40-Webpage.json\n",
      "BuzzFeed_Fake_15-Webpage.json\n",
      "BuzzFeed_Fake_47-Webpage.json\n",
      "BuzzFeed_Fake_12-Webpage.json\n",
      "BuzzFeed_Fake_71-Webpage.json\n",
      "BuzzFeed_Fake_24-Webpage.json\n",
      "BuzzFeed_Fake_76-Webpage.json\n",
      "BuzzFeed_Fake_23-Webpage.json\n",
      "BuzzFeed_Fake_89-Webpage.json\n",
      "BuzzFeed_Fake_63-Webpage.json\n",
      "BuzzFeed_Fake_36-Webpage.json\n",
      "BuzzFeed_Fake_64-Webpage.json\n",
      "BuzzFeed_Fake_31-Webpage.json\n",
      "BuzzFeed_Fake_57-Webpage.json\n",
      "BuzzFeed_Fake_50-Webpage.json\n",
      "BuzzFeed_Fake_10-Webpage.json\n",
      "BuzzFeed_Fake_45-Webpage.json\n",
      "BuzzFeed_Fake_2-Webpage.json\n",
      "BuzzFeed_Fake_17-Webpage.json\n",
      "BuzzFeed_Fake_5-Webpage.json\n",
      "BuzzFeed_Fake_42-Webpage.json\n",
      "BuzzFeed_Fake_21-Webpage.json\n",
      "BuzzFeed_Fake_74-Webpage.json\n",
      "BuzzFeed_Fake_26-Webpage.json\n",
      "BuzzFeed_Fake_73-Webpage.json\n",
      "BuzzFeed_Fake_33-Webpage.json\n",
      "BuzzFeed_Fake_66-Webpage.json\n",
      "BuzzFeed_Fake_34-Webpage.json\n",
      "BuzzFeed_Fake_61-Webpage.json\n",
      "BuzzFeed_Fake_43-Webpage.json\n",
      "BuzzFeed_Fake_4-Webpage.json\n",
      "BuzzFeed_Fake_16-Webpage.json\n",
      "BuzzFeed_Fake_3-Webpage.json\n",
      "BuzzFeed_Fake_44-Webpage.json\n",
      "BuzzFeed_Fake_11-Webpage.json\n",
      "BuzzFeed_Fake_51-Webpage.json\n",
      "BuzzFeed_Fake_56-Webpage.json\n",
      "BuzzFeed_Fake_60-Webpage.json\n",
      "BuzzFeed_Fake_35-Webpage.json\n",
      "BuzzFeed_Fake_67-Webpage.json\n",
      "BuzzFeed_Fake_32-Webpage.json\n",
      "BuzzFeed_Fake_72-Webpage.json\n",
      "BuzzFeed_Fake_27-Webpage.json\n",
      "BuzzFeed_Fake_75-Webpage.json\n",
      "BuzzFeed_Fake_20-Webpage.json\n",
      "BuzzFeed_Fake_80-Webpage.json\n",
      "BuzzFeed_Fake_78-Webpage.json\n",
      "BuzzFeed_Fake_87-Webpage.json\n",
      "BuzzFeed_Fake_38-Webpage.json\n",
      "BuzzFeed_Fake_9-Webpage.json\n",
      "BuzzFeed_Fake_49-Webpage.json\n",
      "BuzzFeed_Fake_39-Webpage.json\n",
      "BuzzFeed_Fake_86-Webpage.json\n",
      "BuzzFeed_Fake_79-Webpage.json\n",
      "BuzzFeed_Fake_81-Webpage.json\n",
      "BuzzFeed_Fake_48-Webpage.json\n",
      "BuzzFeed_Fake_8-Webpage.json\n"
     ]
    }
   ],
   "source": [
    "# list all files under folder \n",
    "import os\n",
    "directory = '/Users/moranwang/Desktop/SummerQuarterDS/Capstone/FakeNewsNet/Data/BuzzFeed/FakeNewsContent'\n",
    "for filename in os.listdir(directory):\n",
    "    print(filename)"
   ]
  },
  {
   "cell_type": "code",
   "execution_count": 3,
   "metadata": {},
   "outputs": [],
   "source": [
    "import json\n",
    "#data=json.loads('BuzzFeed_Fake_1-Webpage.json')\n",
    "path = '/Users/moranwang/Desktop/SummerQuarterDS/Capstone/FakeNewsNet/Data/BuzzFeed/FakeNewsContent/BuzzFeed_Fake_88-Webpage.json'\n",
    "with open(path, 'r') as myfile:\n",
    "    if len(myfile.readlines()) != 0:\n",
    "        myfile.seek(0)\n",
    "        data = json.load(myfile)"
   ]
  },
  {
   "cell_type": "code",
   "execution_count": 69,
   "metadata": {},
   "outputs": [
    {
     "name": "stdout",
     "output_type": "stream",
     "text": [
      "<class 'dict'>\n"
     ]
    }
   ],
   "source": [
    "print(type(data))"
   ]
  },
  {
   "cell_type": "code",
   "execution_count": 70,
   "metadata": {},
   "outputs": [],
   "source": [
    "df = pd.DataFrame.from_dict(data, orient='index')\n",
    "df = df.transpose()"
   ]
  },
  {
   "cell_type": "code",
   "execution_count": 71,
   "metadata": {},
   "outputs": [
    {
     "data": {
      "text/html": [
       "<div>\n",
       "<style scoped>\n",
       "    .dataframe tbody tr th:only-of-type {\n",
       "        vertical-align: middle;\n",
       "    }\n",
       "\n",
       "    .dataframe tbody tr th {\n",
       "        vertical-align: top;\n",
       "    }\n",
       "\n",
       "    .dataframe thead th {\n",
       "        text-align: right;\n",
       "    }\n",
       "</style>\n",
       "<table border=\"1\" class=\"dataframe\">\n",
       "  <thead>\n",
       "    <tr style=\"text-align: right;\">\n",
       "      <th></th>\n",
       "      <th>top_img</th>\n",
       "      <th>text</th>\n",
       "      <th>authors</th>\n",
       "      <th>keywords</th>\n",
       "      <th>meta_data</th>\n",
       "      <th>canonical_link</th>\n",
       "      <th>images</th>\n",
       "      <th>title</th>\n",
       "      <th>url</th>\n",
       "      <th>summary</th>\n",
       "      <th>movies</th>\n",
       "      <th>publish_date</th>\n",
       "      <th>source</th>\n",
       "    </tr>\n",
       "  </thead>\n",
       "  <tbody>\n",
       "    <tr>\n",
       "      <th>0</th>\n",
       "      <td>http://rightwingnews.com/wp-content/uploads/20...</td>\n",
       "      <td>Hillary’s TOP Donor Country Just Auctioned Off...</td>\n",
       "      <td>[Terresa Monroe-hamilton]</td>\n",
       "      <td>[]</td>\n",
       "      <td>{'googlebot': 'noimageindex', 'og': {'site_nam...</td>\n",
       "      <td>http://rightwingnews.com/hillary-clinton-2/hil...</td>\n",
       "      <td>[http://1.gravatar.com/avatar/d35b77ff6c390071...</td>\n",
       "      <td>Hillary’s TOP Donor Country Just Auctioned Off...</td>\n",
       "      <td>http://rightwingnews.com/hillary-clinton-2/hil...</td>\n",
       "      <td></td>\n",
       "      <td>[]</td>\n",
       "      <td>{'$date': 1474912025000}</td>\n",
       "      <td>http://rightwingnews.com</td>\n",
       "    </tr>\n",
       "  </tbody>\n",
       "</table>\n",
       "</div>"
      ],
      "text/plain": [
       "                                             top_img  \\\n",
       "0  http://rightwingnews.com/wp-content/uploads/20...   \n",
       "\n",
       "                                                text  \\\n",
       "0  Hillary’s TOP Donor Country Just Auctioned Off...   \n",
       "\n",
       "                     authors keywords  \\\n",
       "0  [Terresa Monroe-hamilton]       []   \n",
       "\n",
       "                                           meta_data  \\\n",
       "0  {'googlebot': 'noimageindex', 'og': {'site_nam...   \n",
       "\n",
       "                                      canonical_link  \\\n",
       "0  http://rightwingnews.com/hillary-clinton-2/hil...   \n",
       "\n",
       "                                              images  \\\n",
       "0  [http://1.gravatar.com/avatar/d35b77ff6c390071...   \n",
       "\n",
       "                                               title  \\\n",
       "0  Hillary’s TOP Donor Country Just Auctioned Off...   \n",
       "\n",
       "                                                 url summary movies  \\\n",
       "0  http://rightwingnews.com/hillary-clinton-2/hil...             []   \n",
       "\n",
       "               publish_date                    source  \n",
       "0  {'$date': 1474912025000}  http://rightwingnews.com  "
      ]
     },
     "execution_count": 71,
     "metadata": {},
     "output_type": "execute_result"
    }
   ],
   "source": [
    "df.head()"
   ]
  },
  {
   "cell_type": "markdown",
   "metadata": {},
   "source": [
    "# read all files under same folder to dataframe (Start to Run)"
   ]
  },
  {
   "cell_type": "markdown",
   "metadata": {},
   "source": [
    "below is the code to read all json file under a folder together Fake[BuzzFeed] \n"
   ]
  },
  {
   "cell_type": "code",
   "execution_count": 222,
   "metadata": {},
   "outputs": [],
   "source": [
    "import os\n",
    "import json\n",
    "myList = []\n",
    "directory = '/Users/moranwang/Desktop/SummerQuarterDS/Capstone/FakeNewsNet/Data/BuzzFeed/FakeNewsContent'\n",
    "file_names = os.listdir(directory)\n",
    "cleaned_file_name = [f for f in file_names if f.endswith('.json')]\n",
    "#for i, filename in zip(range(1),cleaned_file_name):\n",
    "for filename in cleaned_file_name:   \n",
    "    with open(os.path.join(directory,filename),'r',encoding=\"utf8\") as myfile:\n",
    "        #print(filename)\n",
    "        data = json.load(myfile) \n",
    "        myList.append(data)\n",
    "    #with open(directory + '/' + filename,'r' ,encoding=\"utf8\", errors='ignore') as myfile:\n",
    "    #    if len(myfile.readlines()) != 0:\n",
    "    #        myfile.seek(0)\n",
    "    #        data = json.load(myfile)\n",
    "    #        print(data)\n",
    "    #        #data.append(json.load(myfile))\n",
    "    #       #my_df = my_df.append(pd.DataFrame.from_dict(data, orient='index'))"
   ]
  },
  {
   "cell_type": "code",
   "execution_count": 180,
   "metadata": {},
   "outputs": [
    {
     "name": "stdout",
     "output_type": "stream",
     "text": [
      "91\n",
      "13\n",
      "2529\n",
      "1662\n"
     ]
    }
   ],
   "source": [
    "# myList is a list of dictionary \n",
    "print(len(myList))\n",
    "print(len(myList[0])) # there are 13 element in the dictionary\n",
    "#print(myList)\n",
    "print(len(myList[0]['text'])) # in the first fake news from buzzfeed, there is 2529 words\n",
    "print(len(myList[90]['text'])) # in the #91 fake news from buzzfeed, there is 1662 words"
   ]
  },
  {
   "cell_type": "markdown",
   "metadata": {},
   "source": [
    "below is the code to read all json file under a folder together Real[BuzzFeed]"
   ]
  },
  {
   "cell_type": "code",
   "execution_count": 181,
   "metadata": {},
   "outputs": [],
   "source": [
    "myList_real = []\n",
    "my_df_real  = pd.DataFrame()\n",
    "directory_real = '/Users/moranwang/Desktop/SummerQuarterDS/Capstone/FakeNewsNet/Data/BuzzFeed/RealNewsContent'\n",
    "file_names_real = os.listdir(directory_real)\n",
    "cleaned_file_name_real = [f for f in file_names_real if f.endswith('.json')]\n",
    "#for i, filename in zip(range(1),cleaned_file_name):\n",
    "for filename in cleaned_file_name_real:   \n",
    "    with open(os.path.join(directory_real,filename),'r',encoding=\"utf8\") as myfile:\n",
    "        #print(filename)\n",
    "        data = json.load(myfile) \n",
    "        myList_real.append(data)"
   ]
  },
  {
   "cell_type": "code",
   "execution_count": 182,
   "metadata": {},
   "outputs": [
    {
     "name": "stdout",
     "output_type": "stream",
     "text": [
      "91\n",
      "9903\n",
      "1627\n"
     ]
    }
   ],
   "source": [
    "print(len(myList_real))\n",
    "print(len(myList_real[0]['text'])) # in the first real news from buzzfeed, there is 9903 words\n",
    "print(len(myList_real[90]['text'])) # in the #91 real news from buzzfeed, there is 1627 words"
   ]
  },
  {
   "cell_type": "markdown",
   "metadata": {},
   "source": [
    "The function to load glove model, the model includes 400,000 words and put these words in a dictionary Model, the dictionary like --- \"a\", [a vector of number]"
   ]
  },
  {
   "cell_type": "code",
   "execution_count": 183,
   "metadata": {},
   "outputs": [
    {
     "name": "stdout",
     "output_type": "stream",
     "text": [
      "Loading Glove Model\n",
      "Done. 400000  words loaded!\n"
     ]
    }
   ],
   "source": [
    "# function load glove model\n",
    "file = \"/Users/moranwang/Desktop/SummerQuarterDS/glove/glove.6B.50d.txt\"\n",
    "import numpy as np\n",
    "def loadGloveModel(gloveFile):\n",
    "    print (\"Loading Glove Model\")\n",
    "      \n",
    "    with open(gloveFile, encoding=\"utf8\" ) as f:\n",
    "        content = f.readlines()\n",
    "    model = {}\n",
    "    for line in content:\n",
    "        splitLine = line.split()\n",
    "        word = splitLine[0]\n",
    "        if (word == \"rahami\"):\n",
    "            print(\"rahami exist in the list in this case\") # rahamim exist\n",
    "        embedding = np.array([float(val) for val in splitLine[1:]])\n",
    "        model[word] = embedding\n",
    "    print (\"Done.\",len(model),\" words loaded!\")\n",
    "    return model\n",
    "          \n",
    "model= loadGloveModel(file)"
   ]
  },
  {
   "cell_type": "markdown",
   "metadata": {},
   "source": [
    "checkword is a function to check if a word in the news exist in the model, if model dosent contains this word, then return true --- in the next step, if dosen't contain, then make this word to a 0 vector "
   ]
  },
  {
   "cell_type": "code",
   "execution_count": 184,
   "metadata": {},
   "outputs": [],
   "source": [
    "# check if a word appears in the glove.6B.50d.txt or not , if not return true\n",
    "def checkword (search_word):\n",
    "    if search_word not in model:\n",
    "        return (True)"
   ]
  },
  {
   "cell_type": "code",
   "execution_count": 185,
   "metadata": {},
   "outputs": [
    {
     "name": "stdout",
     "output_type": "stream",
     "text": [
      "True\n"
     ]
    }
   ],
   "source": [
    "print(checkword(\"rahami\")) # rahami not exist in the glove dictionary(model), should return true"
   ]
  },
  {
   "cell_type": "code",
   "execution_count": 187,
   "metadata": {},
   "outputs": [],
   "source": [
    "import re \n",
    "news_text = []\n",
    "file = \"/Users/moranwang/Desktop/SummerQuarterDS/glove/glove.6B.50d.txt\"\n",
    "#print(len(myList))\n",
    "for i in range (0,len(myList)): # i from 0 to 90\n",
    "    per_new_text= []\n",
    "    #print(i)\n",
    "    count = 0\n",
    "    new = myList[i]\n",
    "    news_content = new['text']\n",
    "    new_content_token = re.sub(r'[^\\w]', ' ', news_content).lower().split()\n",
    "    new_content_token = [ word for word in new_content_token if word not in stopwords.words('english')]\n",
    "    for word in new_content_token:\n",
    "        count = count + 1\n",
    "        if (checkword(word) == True): # if a word not appears in the glove txt, then set the vector to 0 \n",
    "            per_word_vector = np.empty(50)\n",
    "            per_word_vector.fill(0) \n",
    "          #  per_word_vector_a = np.zeros(shape=(1,50))\n",
    "            per_new_text.append(per_word_vector)\n",
    "            \n",
    "        else:\n",
    "            per_word_vector_exist= model[word]\n",
    "           # arr = np.vstack((per_word_vector_exist, per_word_vector))\n",
    "            per_new_text.append(per_word_vector_exist)\n",
    "    per_new_text_np =  np.array(per_new_text)\n",
    "    #print(per_new_text_np.shape)\n",
    "    #print('the length of each news is:', len(per_new_text))\n",
    "    #print(i, count)\n",
    "    news_text.append(per_new_text_np) \n",
    "    \n",
    "    "
   ]
  },
  {
   "cell_type": "code",
   "execution_count": 188,
   "metadata": {},
   "outputs": [
    {
     "name": "stdout",
     "output_type": "stream",
     "text": [
      "91\n",
      "232\n",
      "160\n",
      "50\n",
      "[-0.56384    0.019917  -0.1529    -0.29327   -0.048601   0.83398\n",
      " -0.7621    -0.40209   -0.15702    0.54327   -0.18985   -0.44826\n",
      "  0.48471    1.0031    -0.67926   -0.88869    1.6547     0.38999\n",
      " -0.069386  -0.20469   -0.57703    0.78333    0.094052   0.13694\n",
      "  0.85131   -0.58128    0.055574  -0.38983   -0.66906    1.0201\n",
      "  0.12585   -0.70496   -0.90575   -0.17205   -0.97493   -0.80834\n",
      " -0.88955   -0.13485    0.1594    -0.048676   0.13161   -0.089399\n",
      " -0.14315    0.068304   1.3964    -0.51668   -1.1126     0.0098844\n",
      "  0.7708     0.02426  ]\n",
      "[-1.2328e+00 -1.1042e-01 -7.7951e-01 -5.0614e-01 -6.8150e-02  6.9457e-01\n",
      "  1.8967e-01 -7.6766e-01  5.4416e-03 -3.6045e-01 -1.6309e-01  5.9114e-01\n",
      " -1.4221e-01 -3.3803e-01  2.2356e-01  1.5343e-03 -1.2043e-02 -5.9315e-01\n",
      "  6.2070e-01  8.7477e-02  7.2180e-01  3.1269e-01 -4.9196e-01 -1.4968e-01\n",
      " -5.2249e-01 -2.9321e+00  1.3136e-01 -1.0542e+00 -2.5628e-01 -2.7729e-01\n",
      "  2.8322e+00 -8.0952e-01 -1.2425e+00 -1.3874e+00 -5.5187e-02 -4.8155e-01\n",
      "  1.7897e-01 -2.2712e-01  5.2925e-01  4.7739e-01 -5.5841e-01  2.5676e-01\n",
      "  1.0353e+00  1.0491e+00 -9.5648e-01 -3.3834e-02 -4.3219e-01  1.0342e-01\n",
      "  2.0543e-01  3.6536e-01]\n"
     ]
    }
   ],
   "source": [
    "print(len(news_text)) #-- 91\n",
    "print(len(news_text[0])) # 232, it is correct \n",
    "print(len(news_text[90])) # 160, it is correct, it is the rows of the matrix \n",
    "print((len(news_text[90][0]))) # 50, it is correct, so the matrix of the last news is 160 * 50, it is column of matrix\n",
    "print((news_text[90][1]))\n",
    "print((news_text[90][35]))\n",
    "\n",
    "#print(news_text[90].shape)\n"
   ]
  },
  {
   "cell_type": "markdown",
   "metadata": {},
   "source": [
    "convert BuzzFed real news to vector "
   ]
  },
  {
   "cell_type": "code",
   "execution_count": 189,
   "metadata": {},
   "outputs": [],
   "source": [
    "import re \n",
    "news_text_real = []\n",
    "#print(len(myList))\n",
    "for i in range (0,len(myList_real)): # i from 0 to 90\n",
    "    per_new_text_real= []\n",
    "    #print(i)\n",
    "    new_real = myList_real[i]\n",
    "    news_content_real = new_real['text']\n",
    "    new_content_token_real = re.sub(r'[^\\w]', ' ', news_content_real).lower().split()\n",
    "    new_content_token_real = [ word for word in new_content_token_real if word not in stopwords.words('english')]\n",
    "    for word in new_content_token_real:\n",
    "        if (checkword(word) == True): # if a word not appears in the glove txt, then set the vector to 0 \n",
    "            per_word_vector_real = np.empty(50)\n",
    "            per_word_vector_real.fill(0) \n",
    "            per_new_text_real.append(per_word_vector_real)\n",
    "        else:\n",
    "            per_word_vector_real_exist = model[word]\n",
    "            per_new_text_real.append(per_word_vector_real_exist)\n",
    "    per_new_text_real_np =  np.array(per_new_text_real)\n",
    "    news_text_real.append(per_new_text_real_np)"
   ]
  },
  {
   "cell_type": "code",
   "execution_count": 190,
   "metadata": {},
   "outputs": [
    {
     "name": "stdout",
     "output_type": "stream",
     "text": [
      "91\n",
      "147\n",
      "50\n",
      "[ 2.1942e-01  8.4548e-01 -1.1176e-01  1.5178e-01  1.0415e+00  2.7041e-01\n",
      "  1.4754e-01  3.9178e-02  4.1417e-01  5.0048e-01 -5.4793e-02  3.8730e-01\n",
      "  3.6538e-01 -1.7263e-01  2.9504e-01  2.4473e-01  3.9652e-01 -3.3309e-01\n",
      "  2.0765e-01 -6.7227e-01 -6.2525e-02  1.1222e-01 -3.1721e-01  1.2673e-01\n",
      "  3.7021e-01 -1.3004e+00 -4.3385e-01  2.3674e-03  1.6806e-01 -3.1099e-01\n",
      "  2.6524e+00  2.5751e-01 -6.0634e-01 -2.4706e-01  8.8449e-02 -2.5156e-01\n",
      " -1.2524e-02 -1.2822e-01 -3.0642e-02 -8.4447e-01  7.0279e-01  2.9554e-01\n",
      " -1.9216e-01 -1.4732e-01 -4.6286e-01  2.0464e-01  4.5651e-01  4.8463e-01\n",
      "  5.6849e-02  4.7113e-01]\n"
     ]
    }
   ],
   "source": [
    "print((len(news_text_real))) #- 91\n",
    "print((len(news_text_real[90]))) # 147 rows (words)\n",
    "print(len(news_text_real[90][0]))  # 50 columns\n",
    "print((news_text_real[90][1]))"
   ]
  },
  {
   "cell_type": "markdown",
   "metadata": {},
   "source": [
    "# read all json file from politiFact folder"
   ]
  },
  {
   "cell_type": "code",
   "execution_count": 191,
   "metadata": {},
   "outputs": [],
   "source": [
    "# read fake news\n",
    "import os\n",
    "import json\n",
    "myList_fake = []\n",
    "my_df  = pd.DataFrame()\n",
    "directory_fake = '/Users/moranwang/Desktop/SummerQuarterDS/Capstone/FakeNewsNet/Data/PolitiFact/FakeNewsContent'\n",
    "file_names_fake = os.listdir(directory_fake)\n",
    "cleaned_file_name_fake = [f for f in file_names_fake if f.endswith('.json')]\n",
    "#for i, filename in zip(range(1),cleaned_file_name):\n",
    "for filename in cleaned_file_name_fake:   \n",
    "    with open(os.path.join(directory_fake,filename),'r',encoding=\"utf8\") as myfile:\n",
    "        #print(filename)\n",
    "        data = json.load(myfile) \n",
    "        myList_fake.append(data)"
   ]
  },
  {
   "cell_type": "code",
   "execution_count": 192,
   "metadata": {},
   "outputs": [],
   "source": [
    "# read good news\n",
    "myList_real_p = []\n",
    "directory_real_p = '/Users/moranwang/Desktop/SummerQuarterDS/Capstone/FakeNewsNet/Data/PolitiFact/RealNewsContent'\n",
    "file_names_real_p = os.listdir(directory_real_p)\n",
    "cleaned_file_name_real_p = [f for f in file_names_real_p if f.endswith('.json')]\n",
    "#for i, filename in zip(range(1),cleaned_file_name):\n",
    "for filename in cleaned_file_name_real_p:   \n",
    "    with open(os.path.join(directory_real_p,filename),'r',encoding=\"utf8\") as myfile:\n",
    "        #print(filename)\n",
    "        data = json.load(myfile) \n",
    "        myList_real_p.append(data)"
   ]
  },
  {
   "cell_type": "code",
   "execution_count": 193,
   "metadata": {},
   "outputs": [],
   "source": [
    "# convert fake news to vector\n",
    "import re \n",
    "news_text_fake_p = []\n",
    "#print(len(myList))\n",
    "for i in range (0,len(myList_fake)): # i from 0 to 90\n",
    "    per_new_text_fake_p= []\n",
    "    new_fake_p = myList_fake[i]\n",
    "    news_content_fake_p = new_fake_p['text']\n",
    "    new_content_token_fake_p = re.sub(r'[^\\w]', ' ', news_content_fake_p).lower().split()\n",
    "    new_content_token_fake_p = [ word for word in new_content_token_fake_p if word not in stopwords.words('english')]\n",
    "    for word in new_content_token_fake_p:\n",
    "        if (checkword(word) == True): # if a word not appears in the glove txt, then set the vector to 0 \n",
    "            per_word_vector_fake_p = np.empty(50)\n",
    "            per_word_vector_fake_p.fill(0) \n",
    "            per_new_text_fake_p.append(per_word_vector_fake_p)\n",
    "        else:\n",
    "            per_word_vector_fake_p_exist = model[word]\n",
    "            per_new_text_fake_p.append(per_word_vector_fake_p_exist)\n",
    "    per_new_text_fake_p_np = np.array(per_new_text_fake_p)\n",
    "    news_text_fake_p.append(per_new_text_fake_p_np)"
   ]
  },
  {
   "cell_type": "code",
   "execution_count": 194,
   "metadata": {},
   "outputs": [
    {
     "name": "stdout",
     "output_type": "stream",
     "text": [
      "120\n",
      "320\n",
      "50\n",
      "[-0.098793   0.26983    0.35304   -0.10727   -0.015183   0.053398\n",
      " -1.0824    -0.53005    0.0095416  0.070428  -0.08925   -0.62666\n",
      " -0.52662   -0.56571    1.8044     0.01686   -0.44871   -0.04146\n",
      " -1.1136     0.17488    0.49561   -0.38238    0.30185   -0.70675\n",
      " -0.35891   -1.5164    -0.024403  -0.54107   -0.36163    0.52803\n",
      "  3.6553     0.71214   -0.16995    0.36368    0.3399    -0.48186\n",
      "  0.10936    0.61428    0.15697   -0.70716   -1.2359    -0.014258\n",
      "  0.095588  -0.30634   -0.49741   -0.049394  -0.16697    0.11972\n",
      " -0.37511    0.098348 ]\n"
     ]
    }
   ],
   "source": [
    "print((len(news_text_fake_p))) #- 120\n",
    "print((len(news_text_fake_p[90]))) # 320 rows (words)\n",
    "print(len(news_text_fake_p[90][0]))  # 50 columns\n",
    "print((news_text_fake_p[90][1]))"
   ]
  },
  {
   "cell_type": "code",
   "execution_count": 230,
   "metadata": {},
   "outputs": [
    {
     "ename": "TypeError",
     "evalue": "argument of type 'Sequential' is not iterable",
     "output_type": "error",
     "traceback": [
      "\u001b[0;31m---------------------------------------------------------------------------\u001b[0m",
      "\u001b[0;31mTypeError\u001b[0m                                 Traceback (most recent call last)",
      "\u001b[0;32m<ipython-input-230-2a155faa3709>\u001b[0m in \u001b[0;36m<module>\u001b[0;34m()\u001b[0m\n\u001b[1;32m     10\u001b[0m     \u001b[0mnew_content_token_real_p\u001b[0m \u001b[0;34m=\u001b[0m \u001b[0;34m[\u001b[0m \u001b[0mword\u001b[0m \u001b[0;32mfor\u001b[0m \u001b[0mword\u001b[0m \u001b[0;32min\u001b[0m \u001b[0mnew_content_token_real_p\u001b[0m \u001b[0;32mif\u001b[0m \u001b[0mword\u001b[0m \u001b[0;32mnot\u001b[0m \u001b[0;32min\u001b[0m \u001b[0mstopwords\u001b[0m\u001b[0;34m.\u001b[0m\u001b[0mwords\u001b[0m\u001b[0;34m(\u001b[0m\u001b[0;34m'english'\u001b[0m\u001b[0;34m)\u001b[0m\u001b[0;34m]\u001b[0m\u001b[0;34m\u001b[0m\u001b[0m\n\u001b[1;32m     11\u001b[0m     \u001b[0;32mfor\u001b[0m \u001b[0mword\u001b[0m \u001b[0;32min\u001b[0m \u001b[0mnew_content_token_real_p\u001b[0m\u001b[0;34m:\u001b[0m\u001b[0;34m\u001b[0m\u001b[0m\n\u001b[0;32m---> 12\u001b[0;31m         \u001b[0;32mif\u001b[0m \u001b[0;34m(\u001b[0m\u001b[0mcheckword\u001b[0m\u001b[0;34m(\u001b[0m\u001b[0mword\u001b[0m\u001b[0;34m)\u001b[0m \u001b[0;34m==\u001b[0m \u001b[0;32mTrue\u001b[0m\u001b[0;34m)\u001b[0m\u001b[0;34m:\u001b[0m \u001b[0;31m# if a word not appears in the glove txt, then set the vector to 0\u001b[0m\u001b[0;34m\u001b[0m\u001b[0m\n\u001b[0m\u001b[1;32m     13\u001b[0m             \u001b[0mper_word_vector_real_p\u001b[0m \u001b[0;34m=\u001b[0m \u001b[0mnp\u001b[0m\u001b[0;34m.\u001b[0m\u001b[0mempty\u001b[0m\u001b[0;34m(\u001b[0m\u001b[0;36m50\u001b[0m\u001b[0;34m)\u001b[0m\u001b[0;34m\u001b[0m\u001b[0m\n\u001b[1;32m     14\u001b[0m             \u001b[0mper_word_vector_real_p\u001b[0m\u001b[0;34m.\u001b[0m\u001b[0mfill\u001b[0m\u001b[0;34m(\u001b[0m\u001b[0;36m0\u001b[0m\u001b[0;34m)\u001b[0m\u001b[0;34m\u001b[0m\u001b[0m\n",
      "\u001b[0;32m<ipython-input-184-c39084b5250e>\u001b[0m in \u001b[0;36mcheckword\u001b[0;34m(search_word)\u001b[0m\n\u001b[1;32m      1\u001b[0m \u001b[0;31m# check if a word appears in the glove.6B.50d.txt or not , if not return true\u001b[0m\u001b[0;34m\u001b[0m\u001b[0;34m\u001b[0m\u001b[0m\n\u001b[1;32m      2\u001b[0m \u001b[0;32mdef\u001b[0m \u001b[0mcheckword\u001b[0m \u001b[0;34m(\u001b[0m\u001b[0msearch_word\u001b[0m\u001b[0;34m)\u001b[0m\u001b[0;34m:\u001b[0m\u001b[0;34m\u001b[0m\u001b[0m\n\u001b[0;32m----> 3\u001b[0;31m     \u001b[0;32mif\u001b[0m \u001b[0msearch_word\u001b[0m \u001b[0;32mnot\u001b[0m \u001b[0;32min\u001b[0m \u001b[0mmodel\u001b[0m\u001b[0;34m:\u001b[0m\u001b[0;34m\u001b[0m\u001b[0m\n\u001b[0m\u001b[1;32m      4\u001b[0m         \u001b[0;32mreturn\u001b[0m \u001b[0;34m(\u001b[0m\u001b[0;32mTrue\u001b[0m\u001b[0;34m)\u001b[0m\u001b[0;34m\u001b[0m\u001b[0m\n",
      "\u001b[0;31mTypeError\u001b[0m: argument of type 'Sequential' is not iterable"
     ]
    }
   ],
   "source": [
    "# convert good news to vector \n",
    "import re \n",
    "news_text_real_p = []\n",
    "#print(len(myList))\n",
    "for i in range (0,len(myList_real_p)): # i from 0 to 90\n",
    "    per_new_text_real_p= []\n",
    "    new_real_p = myList_real_p[i]\n",
    "    news_content_real_p = new_real_p['text']\n",
    "    new_content_token_real_p = re.sub(r'[^\\w]', ' ', news_content_real_p).lower()\n",
    "    new_content_token_real_p = [ word for word in new_content_token_real_p if word not in stopwords.words('english')]\n",
    "    for word in new_content_token_real_p:\n",
    "        if (checkword(word) == True): # if a word not appears in the glove txt, then set the vector to 0 \n",
    "            per_word_vector_real_p = np.empty(50)\n",
    "            per_word_vector_real_p.fill(0)\n",
    "            per_new_text_real_p.append(per_word_vector_real_p)\n",
    "        else:\n",
    "            per_word_vector_real_p_exist = model[word]\n",
    "            per_new_text_real_p.append(per_word_vector_real_p_exist)\n",
    "    per_new_text_real_p_np = np.array(per_new_text_real_p)        \n",
    "    news_text_real_p.append(per_new_text_real_p_np)"
   ]
  },
  {
   "cell_type": "code",
   "execution_count": 196,
   "metadata": {},
   "outputs": [
    {
     "name": "stdout",
     "output_type": "stream",
     "text": [
      "120\n",
      "22\n",
      "50\n",
      "[ 0.98883    0.70861    0.27428    0.91213   -0.59645    0.12086\n",
      " -0.30068   -0.35292    0.56912   -0.0069741 -0.39206   -0.15808\n",
      " -0.88061   -0.04057   -0.72813    0.063497  -0.084623  -0.4127\n",
      "  0.66418    0.83209    0.45579    0.18651    0.2475     1.1723\n",
      " -0.51486   -1.5027    -0.026649  -0.23885    0.064742  -0.40828\n",
      "  2.5616    -0.17731   -0.11163   -0.58672    0.12355    0.015031\n",
      " -0.75143    0.03784   -1.2439     0.42646    0.64407   -0.31094\n",
      "  0.60189    0.40464    0.40851   -0.3528    -0.22341    0.49233\n",
      "  0.56392   -1.1304   ]\n"
     ]
    }
   ],
   "source": [
    "# check if reall all file and convert all wrods to vector\n",
    "print((len(news_text_real_p))) #- 120\n",
    "print((len(news_text_real_p[90]))) # 22 rows (words)\n",
    "print(len(news_text_real_p[90][0]))  # 50 columns\n",
    "print((news_text_real_p[90][1]))"
   ]
  },
  {
   "cell_type": "markdown",
   "metadata": {},
   "source": [
    "# add fake news vecotr and real new vector to one list "
   ]
  },
  {
   "cell_type": "code",
   "execution_count": 197,
   "metadata": {},
   "outputs": [
    {
     "name": "stdout",
     "output_type": "stream",
     "text": [
      "(232, 50)\n"
     ]
    }
   ],
   "source": [
    "print(news_text[0].shape) # should change to 232 * 50 np array"
   ]
  },
  {
   "cell_type": "code",
   "execution_count": 198,
   "metadata": {},
   "outputs": [],
   "source": [
    "# change news_text ... to np.array\n",
    "news_text = np.array(news_text)\n",
    "news_text_fake_p = np.array(news_text_fake_p)\n",
    "news_text_real = np.array(news_text_real)\n",
    "news_text_real_p = np.array(news_text_real_p)"
   ]
  },
  {
   "cell_type": "code",
   "execution_count": 199,
   "metadata": {},
   "outputs": [
    {
     "name": "stdout",
     "output_type": "stream",
     "text": [
      "(91,)\n",
      "(120,)\n",
      "(91,)\n",
      "(120,)\n"
     ]
    }
   ],
   "source": [
    "print(news_text.shape)\n",
    "print(news_text_fake_p.shape)\n",
    "print(news_text_real.shape)\n",
    "print(news_text_real_p.shape)"
   ]
  },
  {
   "cell_type": "code",
   "execution_count": 200,
   "metadata": {},
   "outputs": [],
   "source": [
    "total_news = []\n",
    "total_news.extend(news_text) # extend fake news \n",
    "total_news.extend(news_text_fake_p) # extend fake news\n",
    "total_news.extend(news_text_real) # extend real news\n",
    "total_news.extend(news_text_real_p) # extend real news\n",
    "total_news = np.array(total_news)"
   ]
  },
  {
   "cell_type": "code",
   "execution_count": 201,
   "metadata": {},
   "outputs": [
    {
     "name": "stdout",
     "output_type": "stream",
     "text": [
      "(422,)\n",
      "(232, 50)\n",
      "<class 'numpy.ndarray'>\n",
      "<class 'numpy.ndarray'>\n",
      "<class 'numpy.ndarray'>\n"
     ]
    }
   ],
   "source": [
    "print(total_news.shape)\n",
    "print(total_news[0].shape)\n",
    "\n",
    "print(type(total_news[0]))\n",
    "print(type(total_news[1]))\n",
    "print(type(total_news[276]))"
   ]
  },
  {
   "cell_type": "markdown",
   "metadata": {},
   "source": [
    "# create response variable y fake is 1 and real is 0, y is a list"
   ]
  },
  {
   "cell_type": "code",
   "execution_count": 202,
   "metadata": {},
   "outputs": [
    {
     "name": "stdout",
     "output_type": "stream",
     "text": [
      "422\n",
      "<class 'numpy.ndarray'>\n"
     ]
    }
   ],
   "source": [
    "# create a list to hold the response variable fake and real (1 and 0), the first 91 is fake and last 91 is real\n",
    "fake_y = [1] * (91 + 120)\n",
    "real_y = [0]* (91+120)\n",
    "fake_real = []\n",
    "fake_real.extend(fake_y)\n",
    "fake_real.extend(real_y)\n",
    "print(len(fake_real))\n",
    "\n",
    "# one hot encode the output variable\n",
    "news_Y = np.array (fake_real)\n",
    "print(type(news_Y))"
   ]
  },
  {
   "cell_type": "markdown",
   "metadata": {},
   "source": [
    "# split training and testing data"
   ]
  },
  {
   "cell_type": "code",
   "execution_count": 203,
   "metadata": {},
   "outputs": [
    {
     "name": "stdout",
     "output_type": "stream",
     "text": [
      "Total examples are 422\n",
      "train set size is 337 test set size is 85\n"
     ]
    }
   ],
   "source": [
    "training_set_portion =.8 # keep 80 % data for training\n",
    "#LEt's create some random integer index and partition the data\n",
    "number_of_examples = total_news.shape[0] # the length of total news\n",
    "print('Total examples are {}'.format(number_of_examples))\n",
    "np.random.seed(0) # to make sure multiple run give same result\n",
    "random_index = np.random.permutation(range(number_of_examples))\n",
    "training_set_size = int(number_of_examples*training_set_portion)\n",
    "print('train set size is {} test set size is {}'.format(training_set_size,number_of_examples - training_set_size))"
   ]
  },
  {
   "cell_type": "code",
   "execution_count": 204,
   "metadata": {},
   "outputs": [
    {
     "name": "stdout",
     "output_type": "stream",
     "text": [
      "Shape of training X (337,) and train Y (337,)\n",
      "Shape of test X (85,) and test Y (85,)\n"
     ]
    }
   ],
   "source": [
    "training_X = total_news[random_index[:training_set_size]]\n",
    "training_y = news_Y[random_index[:training_set_size]]\n",
    "test_X = total_news[random_index[training_set_size:]]\n",
    "test_y = news_Y[random_index[training_set_size:]]\n",
    "\n",
    "print('Shape of training X {} and train Y {}'.format(training_X.shape, training_y.shape))\n",
    "print('Shape of test X {} and test Y {}'.format(test_X.shape, test_y.shape))"
   ]
  },
  {
   "cell_type": "code",
   "execution_count": 213,
   "metadata": {},
   "outputs": [
    {
     "name": "stdout",
     "output_type": "stream",
     "text": [
      "<class 'numpy.ndarray'>\n",
      "[[ 0.3642    0.13178  -0.2072   ...  0.93954  -0.26746  -0.26255 ]\n",
      " [ 0.70252   0.16953   0.81731  ... -0.56448   0.14295  -0.65182 ]\n",
      " [ 2.1611   -0.22174   0.3826   ...  0.61004   0.58623  -0.70055 ]\n",
      " ...\n",
      " [ 0.41619  -0.2509   -0.4395   ...  1.1149   -0.23315   0.054302]\n",
      " [-0.42711   0.25074  -0.13306  ... -0.5564   -0.22553   0.68068 ]\n",
      " [-0.17103   0.21703   0.31748  ...  0.64138   0.36659   0.41078 ]]\n",
      "<class 'numpy.ndarray'>\n",
      "<class 'numpy.ndarray'>\n",
      "<class 'numpy.ndarray'>\n",
      "<class 'numpy.ndarray'>\n",
      "<class 'numpy.ndarray'>\n"
     ]
    }
   ],
   "source": [
    "print(type(total_news[276]))\n",
    "print(total_news[276])\n",
    "\n",
    "print(type(training_X))\n",
    "print(type(training_X[0]))\n",
    "print(type(training_X[10]))\n",
    "print(type(training_X[121]))\n",
    "print(type(training_X[336]))"
   ]
  },
  {
   "cell_type": "code",
   "execution_count": null,
   "metadata": {},
   "outputs": [],
   "source": []
  },
  {
   "cell_type": "code",
   "execution_count": null,
   "metadata": {},
   "outputs": [],
   "source": []
  },
  {
   "cell_type": "markdown",
   "metadata": {},
   "source": [
    "# Model"
   ]
  },
  {
   "cell_type": "code",
   "execution_count": 5,
   "metadata": {},
   "outputs": [
    {
     "name": "stderr",
     "output_type": "stream",
     "text": [
      "/anaconda3/lib/python3.6/site-packages/h5py/__init__.py:36: FutureWarning: Conversion of the second argument of issubdtype from `float` to `np.floating` is deprecated. In future, it will be treated as `np.float64 == np.dtype(float).type`.\n",
      "  from ._conv import register_converters as _register_converters\n",
      "Using TensorFlow backend.\n"
     ]
    }
   ],
   "source": [
    "# LSTM with Variable Length Input Sequences to One Character Output\n",
    "import numpy\n",
    "from keras.models import Sequential\n",
    "from keras.layers import Dense\n",
    "from keras.layers import LSTM\n",
    "from keras.utils import np_utils\n",
    "from keras.preprocessing.sequence import pad_sequences\n",
    "from keras.preprocessing.text import Tokenizer\n",
    "#from theano.tensor.shared_randomstreams import RandomStreams"
   ]
  },
  {
   "cell_type": "code",
   "execution_count": 227,
   "metadata": {},
   "outputs": [],
   "source": [
    "docs = [item['text'] for item in myList]"
   ]
  },
  {
   "cell_type": "code",
   "execution_count": 235,
   "metadata": {},
   "outputs": [
    {
     "data": {
      "text/plain": [
       "\"People Noticed Something Odd About Hillary’s Outfit at the Debate Last Night\\n\\nThere’s a lot that could be discussed about last night’s debate, like the unfair debate moderator asking questions to help Hillary, but that’s not the main concern right now.\\n\\nThere is one thing that has baffled many…. Hillary didn’t appear to be her usually stupid coughing self! She was so ready with answers and detailed facts. Almost just as bizarre was that not once did she sputter or reach for a glass of water. This is so odd that it has everyone and their grandma talking!\\n\\nThe latest question swirling around on social media are the pictures that appeared to show Hillary with some kind of flesh-colored device embedded inside her ear…is that an earpiece she is wearing? Or just something fashionable for old ladies?\\n\\nTwitter may have figured out the answer…do you see it?\\n\\nIt certainly wouldn’t be the first time Hillary had to use a device for help. What do you think? Could it be a trick of light and shadows? A puffy zipper, perhaps? Or was Hillary actually hiding a “Cough prevention machine” in her hideous feminist pantsuit?\\n\\nHillary Clinton’s campaign is fervently denying that she was wearing an earpiece.\\n\\n× 101 Things All Young Adults Should Know by Sir John Hawkins John Hawkins's book 101 Things All Young Adults Should Know is filled with lessons that newly minted adults need in order to get the most out of life. Gleaned from a lifetime of trial, error, and writing it down, Hawkins provides advice everyone can benefit from in short, digestible chapters. Buy Now\\n\\nFox News reported that “Clinton spokesman Nick Merrill said what is seen in the photo is merely a reflection of the TV lights or a flash.”\\n\\nWhile we aren’t sure what was going on inside Hillary’s little head last night, we do have a very interesting email posted by Woods from Clinton and Huma Abedin that the WikiLeaks archive released, “Did u take your earpiece or do I need to get it?”\\n\\nWoods had a hidden sense of humor that escaped him on twitter…“She can’t even #lie without help from a gaggle of other #liars through an earpiece.”\\n\\nThen Woods added:\\n\\n“She literally can’t help herself. She’s the kind of sociopath who will lie even if the truth were more beneficial.”\\n\\nOf course, we don’t have actual proof of the earpiece, it could have just been a hearing aid. Hmmm no one has talked about Hillary wearing an earpiece in the past when she fumbled through her speeches.\\n\\nSome claim it’s merely a reflection of studio lights. We’ll let you be the judge.\""
      ]
     },
     "execution_count": 235,
     "metadata": {},
     "output_type": "execute_result"
    }
   ],
   "source": [
    "#@TODO replace with cleaned trext\n",
    "docs[0]"
   ]
  },
  {
   "cell_type": "code",
   "execution_count": 6,
   "metadata": {},
   "outputs": [],
   "source": [
    "docs = ['Well done!','Good work',\n",
    "'Great effort',\n",
    "'nice work',\n",
    "'Excellent!']"
   ]
  },
  {
   "cell_type": "code",
   "execution_count": 7,
   "metadata": {},
   "outputs": [
    {
     "data": {
      "text/plain": [
       "['Well done!', 'Good work', 'Great effort', 'nice work', 'Excellent!']"
      ]
     },
     "execution_count": 7,
     "metadata": {},
     "output_type": "execute_result"
    }
   ],
   "source": [
    "docs"
   ]
  },
  {
   "cell_type": "code",
   "execution_count": 8,
   "metadata": {},
   "outputs": [],
   "source": [
    "# create the tokenizer\n",
    "t = Tokenizer()\n",
    "# fit the tokenizer on the documents\n",
    "t.fit_on_texts(docs)\n"
   ]
  },
  {
   "cell_type": "code",
   "execution_count": 9,
   "metadata": {},
   "outputs": [
    {
     "data": {
      "text/plain": [
       "{'done': 3,\n",
       " 'effort': 6,\n",
       " 'excellent': 8,\n",
       " 'good': 4,\n",
       " 'great': 5,\n",
       " 'nice': 7,\n",
       " 'well': 2,\n",
       " 'work': 1}"
      ]
     },
     "execution_count": 9,
     "metadata": {},
     "output_type": "execute_result"
    }
   ],
   "source": [
    "t.word_index"
   ]
  },
  {
   "cell_type": "code",
   "execution_count": 10,
   "metadata": {},
   "outputs": [],
   "source": [
    "examples_int_emb  = t.texts_to_sequences(docs)"
   ]
  },
  {
   "cell_type": "code",
   "execution_count": 11,
   "metadata": {},
   "outputs": [
    {
     "data": {
      "text/plain": [
       "[[2, 3], [4, 1], [5, 6], [7, 1], [8]]"
      ]
     },
     "execution_count": 11,
     "metadata": {},
     "output_type": "execute_result"
    }
   ],
   "source": [
    "examples_int_emb"
   ]
  },
  {
   "cell_type": "code",
   "execution_count": 13,
   "metadata": {},
   "outputs": [
    {
     "data": {
      "text/plain": [
       "array([[2, 3],\n",
       "       [4, 1],\n",
       "       [5, 6],\n",
       "       [7, 1],\n",
       "       [0, 8]], dtype=int32)"
      ]
     },
     "execution_count": 13,
     "metadata": {},
     "output_type": "execute_result"
    }
   ],
   "source": [
    "pad_sequences(examples_int_emb, maxlen=2)"
   ]
  },
  {
   "cell_type": "code",
   "execution_count": null,
   "metadata": {},
   "outputs": [],
   "source": [
    "from keras_preprocessing import "
   ]
  },
  {
   "cell_type": "code",
   "execution_count": 214,
   "metadata": {},
   "outputs": [
    {
     "ename": "ValueError",
     "evalue": "Error when checking input: expected lstm_2_input to have 3 dimensions, but got array with shape (337, 1)",
     "output_type": "error",
     "traceback": [
      "\u001b[0;31m---------------------------------------------------------------------------\u001b[0m",
      "\u001b[0;31mValueError\u001b[0m                                Traceback (most recent call last)",
      "\u001b[0;32m<ipython-input-214-7d756b1cd966>\u001b[0m in \u001b[0;36m<module>\u001b[0;34m()\u001b[0m\n\u001b[1;32m      6\u001b[0m \u001b[0;34m\u001b[0m\u001b[0m\n\u001b[1;32m      7\u001b[0m \u001b[0;34m\u001b[0m\u001b[0m\n\u001b[0;32m----> 8\u001b[0;31m \u001b[0mmodel\u001b[0m\u001b[0;34m.\u001b[0m\u001b[0mfit\u001b[0m\u001b[0;34m(\u001b[0m\u001b[0mtraining_X\u001b[0m\u001b[0;34m,\u001b[0m \u001b[0mtraining_y\u001b[0m\u001b[0;34m,\u001b[0m \u001b[0mepochs\u001b[0m\u001b[0;34m=\u001b[0m\u001b[0;36m500\u001b[0m\u001b[0;34m,\u001b[0m \u001b[0mbatch_size\u001b[0m\u001b[0;34m=\u001b[0m\u001b[0mbatch_size\u001b[0m\u001b[0;34m,\u001b[0m \u001b[0mverbose\u001b[0m\u001b[0;34m=\u001b[0m\u001b[0;36m2\u001b[0m\u001b[0;34m)\u001b[0m\u001b[0;34m\u001b[0m\u001b[0m\n\u001b[0m",
      "\u001b[0;32m/anaconda3/lib/python3.6/site-packages/keras/engine/training.py\u001b[0m in \u001b[0;36mfit\u001b[0;34m(self, x, y, batch_size, epochs, verbose, callbacks, validation_split, validation_data, shuffle, class_weight, sample_weight, initial_epoch, steps_per_epoch, validation_steps, **kwargs)\u001b[0m\n\u001b[1;32m    953\u001b[0m             \u001b[0msample_weight\u001b[0m\u001b[0;34m=\u001b[0m\u001b[0msample_weight\u001b[0m\u001b[0;34m,\u001b[0m\u001b[0;34m\u001b[0m\u001b[0m\n\u001b[1;32m    954\u001b[0m             \u001b[0mclass_weight\u001b[0m\u001b[0;34m=\u001b[0m\u001b[0mclass_weight\u001b[0m\u001b[0;34m,\u001b[0m\u001b[0;34m\u001b[0m\u001b[0m\n\u001b[0;32m--> 955\u001b[0;31m             batch_size=batch_size)\n\u001b[0m\u001b[1;32m    956\u001b[0m         \u001b[0;31m# Prepare validation data.\u001b[0m\u001b[0;34m\u001b[0m\u001b[0;34m\u001b[0m\u001b[0m\n\u001b[1;32m    957\u001b[0m         \u001b[0mdo_validation\u001b[0m \u001b[0;34m=\u001b[0m \u001b[0;32mFalse\u001b[0m\u001b[0;34m\u001b[0m\u001b[0m\n",
      "\u001b[0;32m/anaconda3/lib/python3.6/site-packages/keras/engine/training.py\u001b[0m in \u001b[0;36m_standardize_user_data\u001b[0;34m(self, x, y, sample_weight, class_weight, check_array_lengths, batch_size)\u001b[0m\n\u001b[1;32m    752\u001b[0m             \u001b[0mfeed_input_shapes\u001b[0m\u001b[0;34m,\u001b[0m\u001b[0;34m\u001b[0m\u001b[0m\n\u001b[1;32m    753\u001b[0m             \u001b[0mcheck_batch_axis\u001b[0m\u001b[0;34m=\u001b[0m\u001b[0;32mFalse\u001b[0m\u001b[0;34m,\u001b[0m  \u001b[0;31m# Don't enforce the batch size.\u001b[0m\u001b[0;34m\u001b[0m\u001b[0m\n\u001b[0;32m--> 754\u001b[0;31m             exception_prefix='input')\n\u001b[0m\u001b[1;32m    755\u001b[0m \u001b[0;34m\u001b[0m\u001b[0m\n\u001b[1;32m    756\u001b[0m         \u001b[0;32mif\u001b[0m \u001b[0my\u001b[0m \u001b[0;32mis\u001b[0m \u001b[0;32mnot\u001b[0m \u001b[0;32mNone\u001b[0m\u001b[0;34m:\u001b[0m\u001b[0;34m\u001b[0m\u001b[0m\n",
      "\u001b[0;32m/anaconda3/lib/python3.6/site-packages/keras/engine/training_utils.py\u001b[0m in \u001b[0;36mstandardize_input_data\u001b[0;34m(data, names, shapes, check_batch_axis, exception_prefix)\u001b[0m\n\u001b[1;32m    124\u001b[0m                         \u001b[0;34m': expected '\u001b[0m \u001b[0;34m+\u001b[0m \u001b[0mnames\u001b[0m\u001b[0;34m[\u001b[0m\u001b[0mi\u001b[0m\u001b[0;34m]\u001b[0m \u001b[0;34m+\u001b[0m \u001b[0;34m' to have '\u001b[0m \u001b[0;34m+\u001b[0m\u001b[0;34m\u001b[0m\u001b[0m\n\u001b[1;32m    125\u001b[0m                         \u001b[0mstr\u001b[0m\u001b[0;34m(\u001b[0m\u001b[0mlen\u001b[0m\u001b[0;34m(\u001b[0m\u001b[0mshape\u001b[0m\u001b[0;34m)\u001b[0m\u001b[0;34m)\u001b[0m \u001b[0;34m+\u001b[0m \u001b[0;34m' dimensions, but got array '\u001b[0m\u001b[0;34m\u001b[0m\u001b[0m\n\u001b[0;32m--> 126\u001b[0;31m                         'with shape ' + str(data_shape))\n\u001b[0m\u001b[1;32m    127\u001b[0m                 \u001b[0;32mif\u001b[0m \u001b[0;32mnot\u001b[0m \u001b[0mcheck_batch_axis\u001b[0m\u001b[0;34m:\u001b[0m\u001b[0;34m\u001b[0m\u001b[0m\n\u001b[1;32m    128\u001b[0m                     \u001b[0mdata_shape\u001b[0m \u001b[0;34m=\u001b[0m \u001b[0mdata_shape\u001b[0m\u001b[0;34m[\u001b[0m\u001b[0;36m1\u001b[0m\u001b[0;34m:\u001b[0m\u001b[0;34m]\u001b[0m\u001b[0;34m\u001b[0m\u001b[0m\n",
      "\u001b[0;31mValueError\u001b[0m: Error when checking input: expected lstm_2_input to have 3 dimensions, but got array with shape (337, 1)"
     ]
    }
   ],
   "source": [
    "batch_size = 1\n",
    "model = Sequential()\n",
    "model.add(LSTM(32, input_shape=(None,50)))\n",
    "model.add(Dense(1, activation='sigmoid'))\n",
    "model.compile(loss='binary_crossentropy', optimizer='adam', metrics=['accuracy'])\n",
    "\n",
    "model.fit(training_X, training_y, epochs=500, batch_size=batch_size, verbose=2)\n"
   ]
  },
  {
   "cell_type": "code",
   "execution_count": null,
   "metadata": {},
   "outputs": [],
   "source": []
  },
  {
   "cell_type": "code",
   "execution_count": null,
   "metadata": {},
   "outputs": [],
   "source": []
  },
  {
   "cell_type": "code",
   "execution_count": null,
   "metadata": {},
   "outputs": [],
   "source": []
  },
  {
   "cell_type": "markdown",
   "metadata": {},
   "source": [
    "# LSTM with Variable-Length Input to One-Char Output"
   ]
  },
  {
   "cell_type": "code",
   "execution_count": 215,
   "metadata": {},
   "outputs": [],
   "source": [
    "# LSTM with Variable Length Input Sequences to One Character Output\n",
    "import numpy\n",
    "from keras.models import Sequential\n",
    "from keras.layers import Dense\n",
    "from keras.layers import LSTM\n",
    "from keras.utils import np_utils\n",
    "from keras.preprocessing.sequence import pad_sequences\n",
    "from theano.tensor.shared_randomstreams import RandomStreams"
   ]
  },
  {
   "cell_type": "code",
   "execution_count": 216,
   "metadata": {},
   "outputs": [
    {
     "name": "stdout",
     "output_type": "stream",
     "text": [
      "PQRST -> U\n",
      "W -> X\n",
      "O -> P\n",
      "OPQ -> R\n",
      "IJKLM -> N\n",
      "QRSTU -> V\n",
      "ABCD -> E\n",
      "X -> Y\n",
      "GHIJ -> K\n",
      "M -> N\n",
      "XY -> Z\n",
      "QRST -> U\n",
      "ABC -> D\n",
      "JKLMN -> O\n",
      "OP -> Q\n",
      "XY -> Z\n",
      "D -> E\n",
      "T -> U\n",
      "B -> C\n",
      "QRSTU -> V\n",
      "HIJ -> K\n",
      "JKLM -> N\n",
      "ABCDE -> F\n",
      "X -> Y\n",
      "V -> W\n",
      "DE -> F\n",
      "DEFG -> H\n",
      "BCDE -> F\n",
      "EFGH -> I\n",
      "BCDE -> F\n",
      "FG -> H\n",
      "RST -> U\n",
      "TUV -> W\n",
      "STUV -> W\n",
      "LMN -> O\n",
      "P -> Q\n",
      "MNOP -> Q\n",
      "JK -> L\n",
      "MNOP -> Q\n",
      "OPQRS -> T\n",
      "UVWXY -> Z\n",
      "PQRS -> T\n",
      "D -> E\n",
      "EFGH -> I\n",
      "IJK -> L\n",
      "WX -> Y\n",
      "STUV -> W\n",
      "MNOPQ -> R\n",
      "P -> Q\n",
      "WXY -> Z\n",
      "Epoch 1/500\n",
      " - 1s - loss: 3.2631 - acc: 0.0000e+00\n",
      "Epoch 2/500\n",
      " - 0s - loss: 3.2132 - acc: 0.0800\n",
      "Epoch 3/500\n",
      " - 0s - loss: 3.1571 - acc: 0.0800\n",
      "Epoch 4/500\n",
      " - 0s - loss: 3.0630 - acc: 0.0800\n",
      "Epoch 5/500\n",
      " - 0s - loss: 2.9684 - acc: 0.0800\n",
      "Epoch 6/500\n",
      " - 0s - loss: 2.9127 - acc: 0.0800\n",
      "Epoch 7/500\n",
      " - 0s - loss: 2.8872 - acc: 0.0800\n",
      "Epoch 8/500\n",
      " - 0s - loss: 2.8627 - acc: 0.0800\n",
      "Epoch 9/500\n",
      " - 0s - loss: 2.8427 - acc: 0.0800\n",
      "Epoch 10/500\n",
      " - 0s - loss: 2.8242 - acc: 0.1000\n",
      "Epoch 11/500\n",
      " - 0s - loss: 2.7972 - acc: 0.0800\n",
      "Epoch 12/500\n",
      " - 0s - loss: 2.7653 - acc: 0.0800\n",
      "Epoch 13/500\n",
      " - 0s - loss: 2.7460 - acc: 0.1000\n",
      "Epoch 14/500\n",
      " - 0s - loss: 2.6984 - acc: 0.1200\n",
      "Epoch 15/500\n",
      " - 0s - loss: 2.6709 - acc: 0.1400\n",
      "Epoch 16/500\n",
      " - 0s - loss: 2.6325 - acc: 0.1200\n",
      "Epoch 17/500\n",
      " - 0s - loss: 2.6058 - acc: 0.1000\n",
      "Epoch 18/500\n",
      " - 0s - loss: 2.5881 - acc: 0.1000\n",
      "Epoch 19/500\n",
      " - 0s - loss: 2.5621 - acc: 0.1400\n",
      "Epoch 20/500\n",
      " - 0s - loss: 2.5395 - acc: 0.1000\n",
      "Epoch 21/500\n",
      " - 0s - loss: 2.5189 - acc: 0.1800\n",
      "Epoch 22/500\n",
      " - 0s - loss: 2.4985 - acc: 0.1400\n",
      "Epoch 23/500\n",
      " - 0s - loss: 2.4747 - acc: 0.1800\n",
      "Epoch 24/500\n",
      " - 0s - loss: 2.4715 - acc: 0.1600\n",
      "Epoch 25/500\n",
      " - 0s - loss: 2.4464 - acc: 0.2000\n",
      "Epoch 26/500\n",
      " - 0s - loss: 2.4278 - acc: 0.1600\n",
      "Epoch 27/500\n",
      " - 0s - loss: 2.4090 - acc: 0.1600\n",
      "Epoch 28/500\n",
      " - 0s - loss: 2.3942 - acc: 0.2000\n",
      "Epoch 29/500\n",
      " - 0s - loss: 2.3856 - acc: 0.2200\n",
      "Epoch 30/500\n",
      " - 0s - loss: 2.3810 - acc: 0.1600\n",
      "Epoch 31/500\n",
      " - 0s - loss: 2.3527 - acc: 0.2600\n",
      "Epoch 32/500\n",
      " - 0s - loss: 2.3320 - acc: 0.2200\n",
      "Epoch 33/500\n",
      " - 0s - loss: 2.3286 - acc: 0.2800\n",
      "Epoch 34/500\n",
      " - 0s - loss: 2.3024 - acc: 0.2600\n",
      "Epoch 35/500\n",
      " - 0s - loss: 2.2955 - acc: 0.2200\n",
      "Epoch 36/500\n",
      " - 0s - loss: 2.2736 - acc: 0.2600\n",
      "Epoch 37/500\n",
      " - 0s - loss: 2.2543 - acc: 0.3200\n",
      "Epoch 38/500\n",
      " - 0s - loss: 2.2529 - acc: 0.2600\n",
      "Epoch 39/500\n",
      " - 0s - loss: 2.2303 - acc: 0.2600\n",
      "Epoch 40/500\n",
      " - 0s - loss: 2.2033 - acc: 0.3200\n",
      "Epoch 41/500\n",
      " - 0s - loss: 2.1854 - acc: 0.3000\n",
      "Epoch 42/500\n",
      " - 0s - loss: 2.1743 - acc: 0.3000\n",
      "Epoch 43/500\n",
      " - 0s - loss: 2.1438 - acc: 0.3000\n",
      "Epoch 44/500\n",
      " - 0s - loss: 2.1303 - acc: 0.3200\n",
      "Epoch 45/500\n",
      " - 0s - loss: 2.1131 - acc: 0.3400\n",
      "Epoch 46/500\n",
      " - 0s - loss: 2.0897 - acc: 0.3200\n",
      "Epoch 47/500\n",
      " - 0s - loss: 2.0627 - acc: 0.3000\n",
      "Epoch 48/500\n",
      " - 0s - loss: 2.0678 - acc: 0.3200\n",
      "Epoch 49/500\n",
      " - 0s - loss: 2.0314 - acc: 0.3600\n",
      "Epoch 50/500\n",
      " - 0s - loss: 2.0061 - acc: 0.3600\n",
      "Epoch 51/500\n",
      " - 0s - loss: 1.9940 - acc: 0.3400\n",
      "Epoch 52/500\n",
      " - 0s - loss: 1.9726 - acc: 0.3800\n",
      "Epoch 53/500\n",
      " - 0s - loss: 1.9416 - acc: 0.3800\n",
      "Epoch 54/500\n",
      " - 0s - loss: 1.9309 - acc: 0.3400\n",
      "Epoch 55/500\n",
      " - 0s - loss: 1.9015 - acc: 0.3400\n",
      "Epoch 56/500\n",
      " - 0s - loss: 1.8966 - acc: 0.3600\n",
      "Epoch 57/500\n",
      " - 0s - loss: 1.8878 - acc: 0.4000\n",
      "Epoch 58/500\n",
      " - 0s - loss: 1.8701 - acc: 0.3800\n",
      "Epoch 59/500\n",
      " - 0s - loss: 1.8465 - acc: 0.4400\n",
      "Epoch 60/500\n",
      " - 0s - loss: 1.8321 - acc: 0.4000\n",
      "Epoch 61/500\n",
      " - 0s - loss: 1.8145 - acc: 0.3800\n",
      "Epoch 62/500\n",
      " - 0s - loss: 1.8010 - acc: 0.4200\n",
      "Epoch 63/500\n",
      " - 0s - loss: 1.7867 - acc: 0.4000\n",
      "Epoch 64/500\n",
      " - 0s - loss: 1.7652 - acc: 0.4600\n",
      "Epoch 65/500\n",
      " - 0s - loss: 1.7414 - acc: 0.4000\n",
      "Epoch 66/500\n",
      " - 0s - loss: 1.7379 - acc: 0.4200\n",
      "Epoch 67/500\n",
      " - 0s - loss: 1.7201 - acc: 0.4400\n",
      "Epoch 68/500\n",
      " - 0s - loss: 1.7240 - acc: 0.3600\n",
      "Epoch 69/500\n",
      " - 0s - loss: 1.7018 - acc: 0.4400\n",
      "Epoch 70/500\n",
      " - 0s - loss: 1.6866 - acc: 0.4400\n",
      "Epoch 71/500\n",
      " - 0s - loss: 1.6597 - acc: 0.5000\n",
      "Epoch 72/500\n",
      " - 0s - loss: 1.6683 - acc: 0.4200\n",
      "Epoch 73/500\n",
      " - 0s - loss: 1.6279 - acc: 0.4200\n",
      "Epoch 74/500\n",
      " - 0s - loss: 1.6338 - acc: 0.5200\n",
      "Epoch 75/500\n",
      " - 0s - loss: 1.6078 - acc: 0.4600\n",
      "Epoch 76/500\n",
      " - 0s - loss: 1.6075 - acc: 0.4000\n",
      "Epoch 77/500\n",
      " - 0s - loss: 1.6085 - acc: 0.5200\n",
      "Epoch 78/500\n",
      " - 0s - loss: 1.5828 - acc: 0.5200\n",
      "Epoch 79/500\n",
      " - 0s - loss: 1.5834 - acc: 0.4800\n",
      "Epoch 80/500\n",
      " - 0s - loss: 1.5656 - acc: 0.5000\n",
      "Epoch 81/500\n",
      " - 0s - loss: 1.5505 - acc: 0.4400\n",
      "Epoch 82/500\n",
      " - 0s - loss: 1.5465 - acc: 0.4200\n",
      "Epoch 83/500\n",
      " - 0s - loss: 1.5531 - acc: 0.4800\n",
      "Epoch 84/500\n",
      " - 0s - loss: 1.5047 - acc: 0.5000\n",
      "Epoch 85/500\n",
      " - 0s - loss: 1.5156 - acc: 0.5200\n",
      "Epoch 86/500\n",
      " - 0s - loss: 1.4909 - acc: 0.5400\n",
      "Epoch 87/500\n",
      " - 0s - loss: 1.4808 - acc: 0.5200\n",
      "Epoch 88/500\n",
      " - 0s - loss: 1.4696 - acc: 0.5000\n",
      "Epoch 89/500\n",
      " - 0s - loss: 1.4619 - acc: 0.5400\n",
      "Epoch 90/500\n",
      " - 0s - loss: 1.4485 - acc: 0.5800\n",
      "Epoch 91/500\n",
      " - 0s - loss: 1.4675 - acc: 0.5200\n",
      "Epoch 92/500\n",
      " - 0s - loss: 1.4326 - acc: 0.5400\n",
      "Epoch 93/500\n",
      " - 0s - loss: 1.4303 - acc: 0.4600\n",
      "Epoch 94/500\n",
      " - 0s - loss: 1.4137 - acc: 0.5400\n",
      "Epoch 95/500\n",
      " - 0s - loss: 1.4051 - acc: 0.5200\n",
      "Epoch 96/500\n",
      " - 0s - loss: 1.3979 - acc: 0.5600\n",
      "Epoch 97/500\n",
      " - 0s - loss: 1.3911 - acc: 0.5600\n",
      "Epoch 98/500\n",
      " - 0s - loss: 1.3772 - acc: 0.5200\n",
      "Epoch 99/500\n",
      " - 0s - loss: 1.3714 - acc: 0.5000\n",
      "Epoch 100/500\n",
      " - 0s - loss: 1.3764 - acc: 0.5000\n",
      "Epoch 101/500\n",
      " - 0s - loss: 1.3595 - acc: 0.5400\n",
      "Epoch 102/500\n",
      " - 0s - loss: 1.3346 - acc: 0.5200\n",
      "Epoch 103/500\n",
      " - 0s - loss: 1.3442 - acc: 0.5400\n",
      "Epoch 104/500\n",
      " - 0s - loss: 1.3204 - acc: 0.5600\n",
      "Epoch 105/500\n",
      " - 0s - loss: 1.3199 - acc: 0.5400\n",
      "Epoch 106/500\n",
      " - 0s - loss: 1.3088 - acc: 0.5600\n",
      "Epoch 107/500\n",
      " - 0s - loss: 1.3059 - acc: 0.5200\n",
      "Epoch 108/500\n",
      " - 0s - loss: 1.2987 - acc: 0.5600\n",
      "Epoch 109/500\n",
      " - 0s - loss: 1.2988 - acc: 0.5800\n",
      "Epoch 110/500\n",
      " - 0s - loss: 1.2798 - acc: 0.5600\n",
      "Epoch 111/500\n",
      " - 0s - loss: 1.2952 - acc: 0.6000\n",
      "Epoch 112/500\n",
      " - 0s - loss: 1.3029 - acc: 0.5400\n",
      "Epoch 113/500\n",
      " - 0s - loss: 1.2541 - acc: 0.5600\n",
      "Epoch 114/500\n",
      " - 0s - loss: 1.2570 - acc: 0.6000\n",
      "Epoch 115/500\n",
      " - 0s - loss: 1.2679 - acc: 0.6000\n",
      "Epoch 116/500\n",
      " - 0s - loss: 1.2409 - acc: 0.6000\n",
      "Epoch 117/500\n",
      " - 0s - loss: 1.2245 - acc: 0.6400\n",
      "Epoch 118/500\n",
      " - 0s - loss: 1.2234 - acc: 0.6200\n",
      "Epoch 119/500\n",
      " - 0s - loss: 1.2245 - acc: 0.6400\n",
      "Epoch 120/500\n",
      " - 0s - loss: 1.2072 - acc: 0.6400\n",
      "Epoch 121/500\n",
      " - 0s - loss: 1.2133 - acc: 0.5400\n",
      "Epoch 122/500\n",
      " - 0s - loss: 1.1793 - acc: 0.6200\n",
      "Epoch 123/500\n"
     ]
    },
    {
     "ename": "KeyboardInterrupt",
     "evalue": "",
     "output_type": "error",
     "traceback": [
      "\u001b[0;31m---------------------------------------------------------------------------\u001b[0m",
      "\u001b[0;31mKeyboardInterrupt\u001b[0m                         Traceback (most recent call last)",
      "\u001b[0;32m<ipython-input-216-6e78e3a82c09>\u001b[0m in \u001b[0;36m<module>\u001b[0;34m()\u001b[0m\n\u001b[1;32m     33\u001b[0m \u001b[0mmodel\u001b[0m\u001b[0;34m.\u001b[0m\u001b[0madd\u001b[0m\u001b[0;34m(\u001b[0m\u001b[0mDense\u001b[0m\u001b[0;34m(\u001b[0m\u001b[0my\u001b[0m\u001b[0;34m.\u001b[0m\u001b[0mshape\u001b[0m\u001b[0;34m[\u001b[0m\u001b[0;36m1\u001b[0m\u001b[0;34m]\u001b[0m\u001b[0;34m,\u001b[0m \u001b[0mactivation\u001b[0m\u001b[0;34m=\u001b[0m\u001b[0;34m'softmax'\u001b[0m\u001b[0;34m)\u001b[0m\u001b[0;34m)\u001b[0m\u001b[0;34m\u001b[0m\u001b[0m\n\u001b[1;32m     34\u001b[0m \u001b[0mmodel\u001b[0m\u001b[0;34m.\u001b[0m\u001b[0mcompile\u001b[0m\u001b[0;34m(\u001b[0m\u001b[0mloss\u001b[0m\u001b[0;34m=\u001b[0m\u001b[0;34m'categorical_crossentropy'\u001b[0m\u001b[0;34m,\u001b[0m \u001b[0moptimizer\u001b[0m\u001b[0;34m=\u001b[0m\u001b[0;34m'adam'\u001b[0m\u001b[0;34m,\u001b[0m \u001b[0mmetrics\u001b[0m\u001b[0;34m=\u001b[0m\u001b[0;34m[\u001b[0m\u001b[0;34m'accuracy'\u001b[0m\u001b[0;34m]\u001b[0m\u001b[0;34m)\u001b[0m\u001b[0;34m\u001b[0m\u001b[0m\n\u001b[0;32m---> 35\u001b[0;31m \u001b[0mmodel\u001b[0m\u001b[0;34m.\u001b[0m\u001b[0mfit\u001b[0m\u001b[0;34m(\u001b[0m\u001b[0mX\u001b[0m\u001b[0;34m,\u001b[0m \u001b[0my\u001b[0m\u001b[0;34m,\u001b[0m \u001b[0mepochs\u001b[0m\u001b[0;34m=\u001b[0m\u001b[0;36m500\u001b[0m\u001b[0;34m,\u001b[0m \u001b[0mbatch_size\u001b[0m\u001b[0;34m=\u001b[0m\u001b[0mbatch_size\u001b[0m\u001b[0;34m,\u001b[0m \u001b[0mverbose\u001b[0m\u001b[0;34m=\u001b[0m\u001b[0;36m2\u001b[0m\u001b[0;34m)\u001b[0m\u001b[0;34m\u001b[0m\u001b[0m\n\u001b[0m\u001b[1;32m     36\u001b[0m \u001b[0;31m# summarize performance of the model\u001b[0m\u001b[0;34m\u001b[0m\u001b[0;34m\u001b[0m\u001b[0m\n\u001b[1;32m     37\u001b[0m \u001b[0mscores\u001b[0m \u001b[0;34m=\u001b[0m \u001b[0mmodel\u001b[0m\u001b[0;34m.\u001b[0m\u001b[0mevaluate\u001b[0m\u001b[0;34m(\u001b[0m\u001b[0mX\u001b[0m\u001b[0;34m,\u001b[0m \u001b[0my\u001b[0m\u001b[0;34m,\u001b[0m \u001b[0mverbose\u001b[0m\u001b[0;34m=\u001b[0m\u001b[0;36m0\u001b[0m\u001b[0;34m)\u001b[0m\u001b[0;34m\u001b[0m\u001b[0m\n",
      "\u001b[0;32m/anaconda3/lib/python3.6/site-packages/keras/engine/training.py\u001b[0m in \u001b[0;36mfit\u001b[0;34m(self, x, y, batch_size, epochs, verbose, callbacks, validation_split, validation_data, shuffle, class_weight, sample_weight, initial_epoch, steps_per_epoch, validation_steps, **kwargs)\u001b[0m\n\u001b[1;32m   1040\u001b[0m                                         \u001b[0minitial_epoch\u001b[0m\u001b[0;34m=\u001b[0m\u001b[0minitial_epoch\u001b[0m\u001b[0;34m,\u001b[0m\u001b[0;34m\u001b[0m\u001b[0m\n\u001b[1;32m   1041\u001b[0m                                         \u001b[0msteps_per_epoch\u001b[0m\u001b[0;34m=\u001b[0m\u001b[0msteps_per_epoch\u001b[0m\u001b[0;34m,\u001b[0m\u001b[0;34m\u001b[0m\u001b[0m\n\u001b[0;32m-> 1042\u001b[0;31m                                         validation_steps=validation_steps)\n\u001b[0m\u001b[1;32m   1043\u001b[0m \u001b[0;34m\u001b[0m\u001b[0m\n\u001b[1;32m   1044\u001b[0m     def evaluate(self, x=None, y=None,\n",
      "\u001b[0;32m/anaconda3/lib/python3.6/site-packages/keras/engine/training_arrays.py\u001b[0m in \u001b[0;36mfit_loop\u001b[0;34m(model, f, ins, out_labels, batch_size, epochs, verbose, callbacks, val_f, val_ins, shuffle, callback_metrics, initial_epoch, steps_per_epoch, validation_steps)\u001b[0m\n\u001b[1;32m    197\u001b[0m                     \u001b[0mins_batch\u001b[0m\u001b[0;34m[\u001b[0m\u001b[0mi\u001b[0m\u001b[0;34m]\u001b[0m \u001b[0;34m=\u001b[0m \u001b[0mins_batch\u001b[0m\u001b[0;34m[\u001b[0m\u001b[0mi\u001b[0m\u001b[0;34m]\u001b[0m\u001b[0;34m.\u001b[0m\u001b[0mtoarray\u001b[0m\u001b[0;34m(\u001b[0m\u001b[0;34m)\u001b[0m\u001b[0;34m\u001b[0m\u001b[0m\n\u001b[1;32m    198\u001b[0m \u001b[0;34m\u001b[0m\u001b[0m\n\u001b[0;32m--> 199\u001b[0;31m                 \u001b[0mouts\u001b[0m \u001b[0;34m=\u001b[0m \u001b[0mf\u001b[0m\u001b[0;34m(\u001b[0m\u001b[0mins_batch\u001b[0m\u001b[0;34m)\u001b[0m\u001b[0;34m\u001b[0m\u001b[0m\n\u001b[0m\u001b[1;32m    200\u001b[0m                 \u001b[0;32mif\u001b[0m \u001b[0;32mnot\u001b[0m \u001b[0misinstance\u001b[0m\u001b[0;34m(\u001b[0m\u001b[0mouts\u001b[0m\u001b[0;34m,\u001b[0m \u001b[0mlist\u001b[0m\u001b[0;34m)\u001b[0m\u001b[0;34m:\u001b[0m\u001b[0;34m\u001b[0m\u001b[0m\n\u001b[1;32m    201\u001b[0m                     \u001b[0mouts\u001b[0m \u001b[0;34m=\u001b[0m \u001b[0;34m[\u001b[0m\u001b[0mouts\u001b[0m\u001b[0;34m]\u001b[0m\u001b[0;34m\u001b[0m\u001b[0m\n",
      "\u001b[0;32m/anaconda3/lib/python3.6/site-packages/keras/backend/tensorflow_backend.py\u001b[0m in \u001b[0;36m__call__\u001b[0;34m(self, inputs)\u001b[0m\n\u001b[1;32m   2659\u001b[0m                 \u001b[0;32mreturn\u001b[0m \u001b[0mself\u001b[0m\u001b[0;34m.\u001b[0m\u001b[0m_legacy_call\u001b[0m\u001b[0;34m(\u001b[0m\u001b[0minputs\u001b[0m\u001b[0;34m)\u001b[0m\u001b[0;34m\u001b[0m\u001b[0m\n\u001b[1;32m   2660\u001b[0m \u001b[0;34m\u001b[0m\u001b[0m\n\u001b[0;32m-> 2661\u001b[0;31m             \u001b[0;32mreturn\u001b[0m \u001b[0mself\u001b[0m\u001b[0;34m.\u001b[0m\u001b[0m_call\u001b[0m\u001b[0;34m(\u001b[0m\u001b[0minputs\u001b[0m\u001b[0;34m)\u001b[0m\u001b[0;34m\u001b[0m\u001b[0m\n\u001b[0m\u001b[1;32m   2662\u001b[0m         \u001b[0;32melse\u001b[0m\u001b[0;34m:\u001b[0m\u001b[0;34m\u001b[0m\u001b[0m\n\u001b[1;32m   2663\u001b[0m             \u001b[0;32mif\u001b[0m \u001b[0mpy_any\u001b[0m\u001b[0;34m(\u001b[0m\u001b[0mis_tensor\u001b[0m\u001b[0;34m(\u001b[0m\u001b[0mx\u001b[0m\u001b[0;34m)\u001b[0m \u001b[0;32mfor\u001b[0m \u001b[0mx\u001b[0m \u001b[0;32min\u001b[0m \u001b[0minputs\u001b[0m\u001b[0;34m)\u001b[0m\u001b[0;34m:\u001b[0m\u001b[0;34m\u001b[0m\u001b[0m\n",
      "\u001b[0;32m/anaconda3/lib/python3.6/site-packages/keras/backend/tensorflow_backend.py\u001b[0m in \u001b[0;36m_call\u001b[0;34m(self, inputs)\u001b[0m\n\u001b[1;32m   2629\u001b[0m                                 \u001b[0msymbol_vals\u001b[0m\u001b[0;34m,\u001b[0m\u001b[0;34m\u001b[0m\u001b[0m\n\u001b[1;32m   2630\u001b[0m                                 session)\n\u001b[0;32m-> 2631\u001b[0;31m         \u001b[0mfetched\u001b[0m \u001b[0;34m=\u001b[0m \u001b[0mself\u001b[0m\u001b[0;34m.\u001b[0m\u001b[0m_callable_fn\u001b[0m\u001b[0;34m(\u001b[0m\u001b[0;34m*\u001b[0m\u001b[0marray_vals\u001b[0m\u001b[0;34m)\u001b[0m\u001b[0;34m\u001b[0m\u001b[0m\n\u001b[0m\u001b[1;32m   2632\u001b[0m         \u001b[0;32mreturn\u001b[0m \u001b[0mfetched\u001b[0m\u001b[0;34m[\u001b[0m\u001b[0;34m:\u001b[0m\u001b[0mlen\u001b[0m\u001b[0;34m(\u001b[0m\u001b[0mself\u001b[0m\u001b[0;34m.\u001b[0m\u001b[0moutputs\u001b[0m\u001b[0;34m)\u001b[0m\u001b[0;34m]\u001b[0m\u001b[0;34m\u001b[0m\u001b[0m\n\u001b[1;32m   2633\u001b[0m \u001b[0;34m\u001b[0m\u001b[0m\n",
      "\u001b[0;32m/anaconda3/lib/python3.6/site-packages/tensorflow/python/client/session.py\u001b[0m in \u001b[0;36m__call__\u001b[0;34m(self, *args)\u001b[0m\n\u001b[1;32m   1449\u001b[0m         \u001b[0;32mif\u001b[0m \u001b[0mself\u001b[0m\u001b[0;34m.\u001b[0m\u001b[0m_session\u001b[0m\u001b[0;34m.\u001b[0m\u001b[0m_created_with_new_api\u001b[0m\u001b[0;34m:\u001b[0m\u001b[0;34m\u001b[0m\u001b[0m\n\u001b[1;32m   1450\u001b[0m           return tf_session.TF_SessionRunCallable(\n\u001b[0;32m-> 1451\u001b[0;31m               self._session._session, self._handle, args, status, None)\n\u001b[0m\u001b[1;32m   1452\u001b[0m         \u001b[0;32melse\u001b[0m\u001b[0;34m:\u001b[0m\u001b[0;34m\u001b[0m\u001b[0m\n\u001b[1;32m   1453\u001b[0m           return tf_session.TF_DeprecatedSessionRunCallable(\n",
      "\u001b[0;31mKeyboardInterrupt\u001b[0m: "
     ]
    }
   ],
   "source": [
    "# fix random seed for reproducibility\n",
    "numpy.random.seed(7)\n",
    "# define the raw dataset\n",
    "alphabet = \"ABCDEFGHIJKLMNOPQRSTUVWXYZ\"\n",
    "# create mapping of characters to integers (0-25) and the reverse\n",
    "char_to_int = dict((c, i) for i, c in enumerate(alphabet))\n",
    "int_to_char = dict((i, c) for i, c in enumerate(alphabet))\n",
    "# prepare the dataset of input to output pairs encoded as integers\n",
    "num_inputs = 50\n",
    "max_len = 5\n",
    "dataX = []\n",
    "dataY = []\n",
    "for i in range(num_inputs):\n",
    "    start = numpy.random.randint(len(alphabet)-2)\n",
    "    end = numpy.random.randint(start, min(start+max_len,len(alphabet)-1))\n",
    "    sequence_in = alphabet[start:end+1]\n",
    "    sequence_out = alphabet[end + 1]\n",
    "    dataX.append([char_to_int[char] for char in sequence_in])\n",
    "    dataY.append(char_to_int[sequence_out])\n",
    "    print (sequence_in, '->', sequence_out)\n",
    "# convert list of lists to array and pad sequences if needed\n",
    "X = pad_sequences(dataX, maxlen=max_len, dtype='float32')\n",
    "# reshape X to be [samples, time steps, features]\n",
    "X = numpy.reshape(X, (X.shape[0], max_len, 1))\n",
    "# normalize\n",
    "X = X / float(len(alphabet))\n",
    "# one hot encode the output variable\n",
    "y = np_utils.to_categorical(dataY)\n",
    "# create and fit the model\n",
    "batch_size = 1\n",
    "model = Sequential()\n",
    "model.add(LSTM(32, input_shape=(X.shape[1], 1)))\n",
    "model.add(Dense(y.shape[1], activation='softmax'))\n",
    "model.compile(loss='categorical_crossentropy', optimizer='adam', metrics=['accuracy'])\n",
    "model.fit(X, y, epochs=500, batch_size=batch_size, verbose=2)\n",
    "# summarize performance of the model\n",
    "scores = model.evaluate(X, y, verbose=0)\n",
    "print(\"Model Accuracy: %.2f%%\" % (scores[1]*100))\n",
    "# demonstrate some model predictions\n",
    "for i in range(20):\n",
    "    pattern_index = numpy.random.randint(len(dataX))\n",
    "    pattern = dataX[pattern_index]\n",
    "    x = pad_sequences([pattern], maxlen=max_len, dtype='float32')\n",
    "    x = numpy.reshape(x, (1, max_len, 1))\n",
    "    x = x / float(len(alphabet))\n",
    "    prediction = model.predict(x, verbose=0)\n",
    "    index = numpy.argmax(prediction)\n",
    "    result = int_to_char[index]\n",
    "    seq_in = [int_to_char[value] for value in pattern]\n",
    "    print (seq_in, \"->\", result)"
   ]
  },
  {
   "cell_type": "code",
   "execution_count": 218,
   "metadata": {},
   "outputs": [
    {
     "name": "stdout",
     "output_type": "stream",
     "text": [
      "5\n"
     ]
    }
   ],
   "source": [
    "print(X.shape[1])"
   ]
  },
  {
   "cell_type": "markdown",
   "metadata": {},
   "source": [
    "# Some examples or some useless code "
   ]
  },
  {
   "cell_type": "code",
   "execution_count": 49,
   "metadata": {},
   "outputs": [
    {
     "name": "stdout",
     "output_type": "stream",
     "text": [
      "['people', 'noticed', 'something', 'odd', 'hillary', 's', 'outfit', 'debate', 'last', 'night', 'there', 's', 'lot', 'could', 'discussed', 'last', 'night', 's', 'debate', 'like', 'unfair', 'debate', 'moderator', 'asking', 'questions', 'help', 'hillary', 'that', 's', 'main', 'concern', 'right', 'now', 'one', 'thing', 'baffled', 'many', 'hillary', 'didn', 't', 'appear', 'usually', 'stupid', 'coughing', 'self', 'ready', 'answers', 'detailed', 'facts', 'almost', 'bizarre', 'sputter', 'reach', 'glass', 'water', 'odd', 'everyone', 'grandma', 'talking', 'latest', 'question', 'swirling', 'around', 'social', 'media', 'pictures', 'appeared', 'show', 'hillary', 'kind', 'flesh-colored', 'device', 'embedded', 'inside', 'ear', 'is', 'earpiece', 'wearing', 'something', 'fashionable', 'old', 'ladies', 'twitter', 'may', 'figured', 'answer', 'do', 'see', 'it', 'certainly', 'wouldn', 't', 'first', 'time', 'hillary', 'use', 'device', 'help', 'think', 'could', 'trick', 'light', 'shadows', 'puffy', 'zipper', 'perhaps', 'hillary', 'actually', 'hiding', 'cough', 'prevention', 'machine', 'hideous', 'feminist', 'pantsuit', 'hillary', 'clinton', 's', 'campaign', 'fervently', 'denying', 'wearing', 'earpiece', '101', 'things', 'young', 'adults', 'know', 'sir', 'john', 'hawkins', 'john', 'hawkins', 's', 'book', '101', 'things', 'young', 'adults', 'know', 'filled', 'lessons', 'newly', 'minted', 'adults', 'need', 'order', 'get', 'life', 'gleaned', 'lifetime', 'trial', 'error', 'writing', 'down', 'hawkins', 'provides', 'advice', 'everyone', 'benefit', 'short', 'digestible', 'chapters', 'buy', 'fox', 'news', 'reported', 'clinton', 'spokesman', 'nick', 'merrill', 'said', 'seen', 'photo', 'merely', 'reflection', 'tv', 'lights', 'flash', 'aren', 't', 'sure', 'going', 'inside', 'hillary', 's', 'little', 'head', 'last', 'night', 'interesting', 'email', 'posted', 'woods', 'clinton', 'huma', 'abedin', 'wikileaks', 'archive', 'released', 'did', 'u', 'take', 'earpiece', 'need', 'get', 'it', 'woods', 'hidden', 'sense', 'humor', 'escaped', 'twitter', 'she', 'can', 't', 'even', 'lie', 'without', 'help', 'gaggle', 'liars', 'earpiece', 'woods', 'added', 'she', 'literally', 'can', 't', 'help', 'herself', 'she', 's', 'kind', 'sociopath', 'lie', 'even', 'truth', 'beneficial', 'course', 'don', 't', 'actual', 'proof', 'earpiece', 'could', 'hearing', 'aid', 'hmmm', 'one', 'talked', 'hillary', 'wearing', 'earpiece', 'past', 'fumbled', 'speeches', 'claim', 'it', 's', 'merely', 'reflection', 'studio', 'lights', 'we', 'll', 'let', 'judge']\n"
     ]
    }
   ],
   "source": [
    "# example of the content of the first news\n",
    "# from the list of dictionary , delete all \\n or \\nn for one new\n",
    "news_text = []\n",
    "new = myList[0]\n",
    "news_content = new['text']\n",
    "result = []\n",
    "#print(news_content) # sentence\n",
    "new_content_token= news_content.replace('\\n', ' ').lower().split()\n",
    "#print(new_content_token) # a list of words\n",
    "# remove stopwords word like I , am , my, the ...\n",
    "new_content_token = [ word for word in new_content_token if word not in stopwords.words('english')]\n",
    "#print(new_content_token)\n",
    "# remove wired charactor like ?, ..., \"', multiple X, 101, #, :, it's, we'll\n",
    "for word in new_content_token: \n",
    "    sc = \"….?’,“”'#!×:\"\n",
    "    for char in sc:\n",
    "        word = word.replace(char,\" \")  \n",
    "    word = word.split()\n",
    "    #print(word)\n",
    "    result.extend(word)\n",
    "print(result)\n",
    "for element in result:\n",
    "    #print(element)\n",
    "    per_word_vector = model[element]\n",
    "    \n",
    "    #print(model[element])\n",
    "    #print(type(model[element])) # type of per_word_vector is numpy.ndarray \n",
    "    \n",
    "    \n",
    "# convert each word in new_content_token to vector using word2vec or glove vector\n",
    "#print(model['hello'])\n",
    "#print(len(model['hello']))\n",
    "#for word in new_content_token:\n",
    "    #print(model[word])\n",
    "    "
   ]
  },
  {
   "cell_type": "code",
   "execution_count": 7,
   "metadata": {},
   "outputs": [
    {
     "name": "stdout",
     "output_type": "stream",
     "text": [
      "<class 'numpy.ndarray'>\n"
     ]
    }
   ],
   "source": [
    "print(type(model[element]))"
   ]
  },
  {
   "cell_type": "code",
   "execution_count": 16,
   "metadata": {},
   "outputs": [
    {
     "name": "stdout",
     "output_type": "stream",
     "text": [
      "hillarys\n",
      "hillary\n"
     ]
    }
   ],
   "source": [
    "# example to delete ' and s\n",
    "a = 'hillary’s'\n",
    "b = \"’s\"\n",
    "for char in b:\n",
    "    a = a.replace(char,\"\")\n",
    "    print(a)"
   ]
  },
  {
   "cell_type": "code",
   "execution_count": 13,
   "metadata": {},
   "outputs": [
    {
     "name": "stdout",
     "output_type": "stream",
     "text": [
      "<class 'list'>\n",
      "people\n"
     ]
    }
   ],
   "source": [
    "#print(new_content_token)\n",
    "print(type(new_content_token))"
   ]
  },
  {
   "cell_type": "code",
   "execution_count": 58,
   "metadata": {},
   "outputs": [
    {
     "data": {
      "text/plain": [
       "dict_keys(['top_img', 'text', 'authors', 'keywords', 'meta_data', 'canonical_link', 'images', 'title', 'url', 'summary', 'movies', 'publish_date', 'source'])"
      ]
     },
     "execution_count": 58,
     "metadata": {},
     "output_type": "execute_result"
    }
   ],
   "source": [
    "data.keys()"
   ]
  },
  {
   "cell_type": "code",
   "execution_count": 56,
   "metadata": {},
   "outputs": [
    {
     "name": "stdout",
     "output_type": "stream",
     "text": [
      "/Users/moranwang/Desktop/SummerQuarterDS/Capstone/FakeNewsNet/Data/BuzzFeed/FakeNewsContent/BuzzFeed_Fake_80-Webpage.json\n"
     ]
    }
   ],
   "source": [
    "# concatenate string\n",
    "new = directory + '/'+ 'BuzzFeed_Fake_80-Webpage.json'\n",
    "print(new)"
   ]
  },
  {
   "cell_type": "markdown",
   "metadata": {},
   "source": [
    "# Example1 : convert text to vector Example"
   ]
  },
  {
   "cell_type": "code",
   "execution_count": 2,
   "metadata": {},
   "outputs": [
    {
     "name": "stdout",
     "output_type": "stream",
     "text": [
      "model is  Word2Vec(vocab=14, size=100, alpha=0.025)\n",
      "words is  ['this', 'is', 'the', 'first', 'sentence', 'for!', 'word2vec', 'second', 'yet', 'another', 'one', 'more', 'and', 'final']\n",
      "access vecotr for one word [ 4.14259126e-03  2.79425620e-03 -2.77865003e-03 -2.06513098e-03\n",
      " -3.35403159e-03  2.78954208e-03  3.93661810e-03  1.55871559e-03\n",
      " -1.44100119e-03 -4.32085153e-03  4.30899672e-03 -4.62976005e-03\n",
      " -3.79096786e-03  2.00172933e-03 -4.60096542e-03 -1.31963647e-03\n",
      "  2.37290107e-04  1.49146968e-03  2.41897837e-03  2.93111708e-03\n",
      "  3.15664662e-03 -2.23306101e-03 -5.75355079e-04  6.63872808e-04\n",
      "  4.13089339e-03  6.29035581e-04  1.40708033e-03 -6.88619097e-04\n",
      "  4.30145860e-03 -1.68555172e-03  2.99498509e-03  3.51108215e-03\n",
      " -1.11267739e-03  2.78331194e-04  3.57962656e-03  1.52858009e-03\n",
      "  1.35704526e-03  4.27913677e-04 -3.05608939e-03 -3.82844337e-05\n",
      "  3.61788506e-03 -3.90263507e-03  3.21124983e-03  3.75231705e-03\n",
      " -1.91865454e-03  3.26324417e-03 -2.85139750e-03  4.45809821e-03\n",
      " -3.87078477e-03 -2.92970566e-03  1.41498307e-03 -4.44768881e-03\n",
      " -3.77919595e-03 -3.34367529e-03  2.98122969e-03  1.60577567e-03\n",
      "  3.74832586e-03  2.37878994e-03  4.49375995e-03  2.26435461e-03\n",
      "  3.65829142e-03  4.24659904e-03  1.20491313e-03  2.75844592e-03\n",
      " -4.29223431e-03  2.13282625e-03 -1.41087407e-03  4.16299375e-03\n",
      "  4.09058155e-03  4.15608147e-03 -1.64551137e-03  1.15078839e-03\n",
      " -1.17498355e-04  4.58725216e-03 -2.38788105e-03 -2.73633376e-03\n",
      " -2.41419431e-04 -1.50865759e-03  1.57385634e-03 -4.32245340e-03\n",
      " -1.45382155e-03 -4.26712725e-03 -3.09640728e-03  4.69793472e-03\n",
      " -3.86413536e-03 -2.22670473e-03  7.12592911e-04  4.82412812e-04\n",
      "  4.75252187e-03  4.06654039e-03 -1.40219997e-03  1.67945094e-04\n",
      " -1.29531452e-03  2.44904472e-03 -5.84905138e-05 -3.72893550e-03\n",
      " -4.21523256e-03  3.28962272e-03  4.88315336e-03  3.00551183e-03]\n",
      "Word2Vec(vocab=14, size=100, alpha=0.025)\n"
     ]
    },
    {
     "name": "stderr",
     "output_type": "stream",
     "text": [
      "/anaconda3/lib/python3.6/site-packages/ipykernel_launcher.py:18: DeprecationWarning: Call to deprecated `__getitem__` (Method will be removed in 4.0.0, use self.wv.__getitem__() instead).\n",
      "/anaconda3/lib/python3.6/site-packages/ipykernel_launcher.py:28: DeprecationWarning: Call to deprecated `__getitem__` (Method will be removed in 4.0.0, use self.wv.__getitem__() instead).\n"
     ]
    },
    {
     "data": {
      "text/plain": [
       "<matplotlib.figure.Figure at 0x1130fce80>"
      ]
     },
     "metadata": {},
     "output_type": "display_data"
    }
   ],
   "source": [
    "#word2vec example1/ using own word embeddings\n",
    "from gensim.models import Word2Vec\n",
    "\n",
    "# define training data\n",
    "sentences = [['this', 'is', 'the', 'first', 'sentence', 'for!', 'word2vec'],\n",
    "             ['this', 'is', 'the', 'second', 'sentence'],\n",
    "             ['yet', 'another', 'sentence'],\n",
    "             ['one', 'more', 'sentence'],\n",
    "             ['and', 'the', 'final', 'sentence']]\n",
    "# train model\n",
    "model = Word2Vec(sentences, min_count=1)\n",
    "# summarize the loaded model\n",
    "print('model is ',model)\n",
    "# summarize vocabulary,all words that appears in the sentences\n",
    "words = list(model.wv.vocab)\n",
    "print('words is ',words)\n",
    "# access vector for one word\n",
    "print('access vecotr for one word', model['sentence'])\n",
    "# save model\n",
    "model.save('model.bin')\n",
    "# load model\n",
    "new_model = Word2Vec.load('model.bin')\n",
    "print(new_model)\n",
    "\n",
    "from sklearn.decomposition import PCA\n",
    "from matplotlib import pyplot\n",
    "# plot \n",
    "X = model[model.wv.vocab]\n",
    "\n",
    "pca = PCA(n_components=2)\n",
    "result = pca.fit_transform(X)\n",
    "\n",
    "pyplot.scatter(result[:, 0], result[:, 1])\n",
    "\n",
    "words = list(model.wv.vocab)\n",
    "for i, word in enumerate(words):\n",
    "    pyplot.annotate(word, xy=(result[i, 0], result[i, 1]))\n",
    "pyplot.show()"
   ]
  },
  {
   "cell_type": "markdown",
   "metadata": {},
   "source": [
    "# Example2: golve / not run this code again"
   ]
  },
  {
   "cell_type": "code",
   "execution_count": 5,
   "metadata": {},
   "outputs": [
    {
     "name": "stdout",
     "output_type": "stream",
     "text": [
      "Loading Glove Model\n",
      "Done. 400000  words loaded!\n",
      "[-0.38497   0.80092   0.064106 -0.28355  -0.026759 -0.34532  -0.64253\n",
      " -0.11729  -0.33257   0.55243  -0.087813  0.9035    0.47102   0.56657\n",
      "  0.6985   -0.35229  -0.86542   0.90573   0.03576  -0.071705 -0.12327\n",
      "  0.54923   0.47005   0.35572   1.2611   -0.67581  -0.94983   0.68666\n",
      "  0.3871   -1.3492    0.63512   0.46416  -0.48814   0.83827  -0.9246\n",
      " -0.33722   0.53741  -1.0616   -0.081403 -0.67111   0.30923  -0.3923\n",
      " -0.55002  -0.68827   0.58049  -0.11626   0.013139 -0.57654   0.048833\n",
      "  0.67204 ]\n"
     ]
    }
   ],
   "source": [
    "file = \"/Users/moranwang/Desktop/SummerQuarterDS/glove/glove.6B.50d.txt\"\n",
    "import numpy as np\n",
    "def loadGloveModel(gloveFile):\n",
    "    print (\"Loading Glove Model\")\n",
    "    \n",
    "     \n",
    "    with open(gloveFile, encoding=\"utf8\" ) as f:\n",
    "       content = f.readlines()\n",
    "    model = {}\n",
    "    for line in content:\n",
    "        splitLine = line.split()\n",
    "        word = splitLine[0]\n",
    "        embedding = np.array([float(val) for val in splitLine[1:]])\n",
    "        model[word] = embedding\n",
    "    print (\"Done.\",len(model),\" words loaded!\")\n",
    "    return model\n",
    "     \n",
    "     \n",
    "model= loadGloveModel(file)   \n",
    " \n",
    "print (model['hello'])"
   ]
  },
  {
   "cell_type": "markdown",
   "metadata": {},
   "source": [
    "# Example of using  LSTM Recurrent Neural Networks in Python with Keras"
   ]
  },
  {
   "cell_type": "markdown",
   "metadata": {},
   "source": [
    "Learn the Alphabet"
   ]
  },
  {
   "cell_type": "code",
   "execution_count": 93,
   "metadata": {},
   "outputs": [
    {
     "name": "stderr",
     "output_type": "stream",
     "text": [
      "/anaconda3/lib/python3.6/site-packages/h5py/__init__.py:36: FutureWarning: Conversion of the second argument of issubdtype from `float` to `np.floating` is deprecated. In future, it will be treated as `np.float64 == np.dtype(float).type`.\n",
      "  from ._conv import register_converters as _register_converters\n",
      "Using TensorFlow backend.\n"
     ]
    }
   ],
   "source": [
    "import numpy\n",
    "from keras.models import Sequential\n",
    "from keras.layers import Dense\n",
    "from keras.layers import LSTM\n",
    "from keras.utils import np_utils"
   ]
  },
  {
   "cell_type": "code",
   "execution_count": 94,
   "metadata": {},
   "outputs": [],
   "source": [
    "# fix random seed for reproducibility\n",
    "numpy.random.seed(7)"
   ]
  },
  {
   "cell_type": "code",
   "execution_count": 97,
   "metadata": {},
   "outputs": [
    {
     "name": "stdout",
     "output_type": "stream",
     "text": [
      "{'A': 0, 'B': 1, 'C': 2, 'D': 3, 'E': 4, 'F': 5, 'G': 6, 'H': 7, 'I': 8, 'J': 9, 'K': 10, 'L': 11, 'M': 12, 'N': 13, 'O': 14, 'P': 15, 'Q': 16, 'R': 17, 'S': 18, 'T': 19, 'U': 20, 'V': 21, 'W': 22, 'X': 23, 'Y': 24, 'Z': 25}\n",
      "{0: 'A', 1: 'B', 2: 'C', 3: 'D', 4: 'E', 5: 'F', 6: 'G', 7: 'H', 8: 'I', 9: 'J', 10: 'K', 11: 'L', 12: 'M', 13: 'N', 14: 'O', 15: 'P', 16: 'Q', 17: 'R', 18: 'S', 19: 'T', 20: 'U', 21: 'V', 22: 'W', 23: 'X', 24: 'Y', 25: 'Z'}\n"
     ]
    }
   ],
   "source": [
    "# define the raw dataset\n",
    "alphabet = \"ABCDEFGHIJKLMNOPQRSTUVWXYZ\"\n",
    "# create mapping of characters to integers (0-25) and the reverse\n",
    "char_to_int = dict((c, i) for i, c in enumerate(alphabet))\n",
    "int_to_char = dict((i, c) for i, c in enumerate(alphabet))\n",
    "print(char_to_int)\n",
    "print(int_to_char)"
   ]
  },
  {
   "cell_type": "code",
   "execution_count": 101,
   "metadata": {},
   "outputs": [
    {
     "name": "stdout",
     "output_type": "stream",
     "text": [
      "A -> B\n",
      "B -> C\n",
      "C -> D\n",
      "D -> E\n",
      "E -> F\n",
      "F -> G\n",
      "G -> H\n",
      "H -> I\n",
      "I -> J\n",
      "J -> K\n",
      "K -> L\n",
      "L -> M\n",
      "M -> N\n",
      "N -> O\n",
      "O -> P\n",
      "P -> Q\n",
      "Q -> R\n",
      "R -> S\n",
      "S -> T\n",
      "T -> U\n",
      "U -> V\n",
      "V -> W\n",
      "W -> X\n",
      "X -> Y\n",
      "Y -> Z\n",
      "[[0], [1], [2], [3], [4], [5], [6], [7], [8], [9], [10], [11], [12], [13], [14], [15], [16], [17], [18], [19], [20], [21], [22], [23], [24]]\n",
      "[1, 2, 3, 4, 5, 6, 7, 8, 9, 10, 11, 12, 13, 14, 15, 16, 17, 18, 19, 20, 21, 22, 23, 24, 25]\n"
     ]
    }
   ],
   "source": [
    "# prepare the dataset of input to output pairs encoded as integers\n",
    "seq_length = 1\n",
    "dataX = []\n",
    "dataY = []\n",
    "for i in range(0, len(alphabet) - seq_length, 1):\n",
    "    seq_in = alphabet[i:i + seq_length]\n",
    "    seq_out = alphabet[i + seq_length]\n",
    "    dataX.append([char_to_int[char] for char in seq_in])\n",
    "    dataY.append(char_to_int[seq_out])\n",
    "    print(seq_in, '->', seq_out)\n",
    "print(dataX)\n",
    "print(dataY)"
   ]
  },
  {
   "cell_type": "code",
   "execution_count": 103,
   "metadata": {},
   "outputs": [
    {
     "name": "stdout",
     "output_type": "stream",
     "text": [
      "[[[ 0]]\n",
      "\n",
      " [[ 1]]\n",
      "\n",
      " [[ 2]]\n",
      "\n",
      " [[ 3]]\n",
      "\n",
      " [[ 4]]\n",
      "\n",
      " [[ 5]]\n",
      "\n",
      " [[ 6]]\n",
      "\n",
      " [[ 7]]\n",
      "\n",
      " [[ 8]]\n",
      "\n",
      " [[ 9]]\n",
      "\n",
      " [[10]]\n",
      "\n",
      " [[11]]\n",
      "\n",
      " [[12]]\n",
      "\n",
      " [[13]]\n",
      "\n",
      " [[14]]\n",
      "\n",
      " [[15]]\n",
      "\n",
      " [[16]]\n",
      "\n",
      " [[17]]\n",
      "\n",
      " [[18]]\n",
      "\n",
      " [[19]]\n",
      "\n",
      " [[20]]\n",
      "\n",
      " [[21]]\n",
      "\n",
      " [[22]]\n",
      "\n",
      " [[23]]\n",
      "\n",
      " [[24]]]\n"
     ]
    }
   ],
   "source": [
    "# reshape X to be [samples, time steps, features]\n",
    "X = numpy.reshape(dataX, (len(dataX), seq_length, 1))"
   ]
  },
  {
   "cell_type": "code",
   "execution_count": 107,
   "metadata": {},
   "outputs": [
    {
     "name": "stdout",
     "output_type": "stream",
     "text": [
      "[[[0.        ]]\n",
      "\n",
      " [[0.00147929]]\n",
      "\n",
      " [[0.00295858]]\n",
      "\n",
      " [[0.00443787]]\n",
      "\n",
      " [[0.00591716]]\n",
      "\n",
      " [[0.00739645]]\n",
      "\n",
      " [[0.00887574]]\n",
      "\n",
      " [[0.01035503]]\n",
      "\n",
      " [[0.01183432]]\n",
      "\n",
      " [[0.01331361]]\n",
      "\n",
      " [[0.0147929 ]]\n",
      "\n",
      " [[0.01627219]]\n",
      "\n",
      " [[0.01775148]]\n",
      "\n",
      " [[0.01923077]]\n",
      "\n",
      " [[0.02071006]]\n",
      "\n",
      " [[0.02218935]]\n",
      "\n",
      " [[0.02366864]]\n",
      "\n",
      " [[0.02514793]]\n",
      "\n",
      " [[0.02662722]]\n",
      "\n",
      " [[0.02810651]]\n",
      "\n",
      " [[0.0295858 ]]\n",
      "\n",
      " [[0.03106509]]\n",
      "\n",
      " [[0.03254438]]\n",
      "\n",
      " [[0.03402367]]\n",
      "\n",
      " [[0.03550296]]]\n"
     ]
    }
   ],
   "source": [
    "# normalize\n",
    "X = X / float(len(alphabet))\n",
    "print(X)"
   ]
  },
  {
   "cell_type": "code",
   "execution_count": 106,
   "metadata": {},
   "outputs": [
    {
     "name": "stdout",
     "output_type": "stream",
     "text": [
      "[[0. 1. 0. 0. 0. 0. 0. 0. 0. 0. 0. 0. 0. 0. 0. 0. 0. 0. 0. 0. 0. 0. 0. 0.\n",
      "  0. 0.]\n",
      " [0. 0. 1. 0. 0. 0. 0. 0. 0. 0. 0. 0. 0. 0. 0. 0. 0. 0. 0. 0. 0. 0. 0. 0.\n",
      "  0. 0.]\n",
      " [0. 0. 0. 1. 0. 0. 0. 0. 0. 0. 0. 0. 0. 0. 0. 0. 0. 0. 0. 0. 0. 0. 0. 0.\n",
      "  0. 0.]\n",
      " [0. 0. 0. 0. 1. 0. 0. 0. 0. 0. 0. 0. 0. 0. 0. 0. 0. 0. 0. 0. 0. 0. 0. 0.\n",
      "  0. 0.]\n",
      " [0. 0. 0. 0. 0. 1. 0. 0. 0. 0. 0. 0. 0. 0. 0. 0. 0. 0. 0. 0. 0. 0. 0. 0.\n",
      "  0. 0.]\n",
      " [0. 0. 0. 0. 0. 0. 1. 0. 0. 0. 0. 0. 0. 0. 0. 0. 0. 0. 0. 0. 0. 0. 0. 0.\n",
      "  0. 0.]\n",
      " [0. 0. 0. 0. 0. 0. 0. 1. 0. 0. 0. 0. 0. 0. 0. 0. 0. 0. 0. 0. 0. 0. 0. 0.\n",
      "  0. 0.]\n",
      " [0. 0. 0. 0. 0. 0. 0. 0. 1. 0. 0. 0. 0. 0. 0. 0. 0. 0. 0. 0. 0. 0. 0. 0.\n",
      "  0. 0.]\n",
      " [0. 0. 0. 0. 0. 0. 0. 0. 0. 1. 0. 0. 0. 0. 0. 0. 0. 0. 0. 0. 0. 0. 0. 0.\n",
      "  0. 0.]\n",
      " [0. 0. 0. 0. 0. 0. 0. 0. 0. 0. 1. 0. 0. 0. 0. 0. 0. 0. 0. 0. 0. 0. 0. 0.\n",
      "  0. 0.]\n",
      " [0. 0. 0. 0. 0. 0. 0. 0. 0. 0. 0. 1. 0. 0. 0. 0. 0. 0. 0. 0. 0. 0. 0. 0.\n",
      "  0. 0.]\n",
      " [0. 0. 0. 0. 0. 0. 0. 0. 0. 0. 0. 0. 1. 0. 0. 0. 0. 0. 0. 0. 0. 0. 0. 0.\n",
      "  0. 0.]\n",
      " [0. 0. 0. 0. 0. 0. 0. 0. 0. 0. 0. 0. 0. 1. 0. 0. 0. 0. 0. 0. 0. 0. 0. 0.\n",
      "  0. 0.]\n",
      " [0. 0. 0. 0. 0. 0. 0. 0. 0. 0. 0. 0. 0. 0. 1. 0. 0. 0. 0. 0. 0. 0. 0. 0.\n",
      "  0. 0.]\n",
      " [0. 0. 0. 0. 0. 0. 0. 0. 0. 0. 0. 0. 0. 0. 0. 1. 0. 0. 0. 0. 0. 0. 0. 0.\n",
      "  0. 0.]\n",
      " [0. 0. 0. 0. 0. 0. 0. 0. 0. 0. 0. 0. 0. 0. 0. 0. 1. 0. 0. 0. 0. 0. 0. 0.\n",
      "  0. 0.]\n",
      " [0. 0. 0. 0. 0. 0. 0. 0. 0. 0. 0. 0. 0. 0. 0. 0. 0. 1. 0. 0. 0. 0. 0. 0.\n",
      "  0. 0.]\n",
      " [0. 0. 0. 0. 0. 0. 0. 0. 0. 0. 0. 0. 0. 0. 0. 0. 0. 0. 1. 0. 0. 0. 0. 0.\n",
      "  0. 0.]\n",
      " [0. 0. 0. 0. 0. 0. 0. 0. 0. 0. 0. 0. 0. 0. 0. 0. 0. 0. 0. 1. 0. 0. 0. 0.\n",
      "  0. 0.]\n",
      " [0. 0. 0. 0. 0. 0. 0. 0. 0. 0. 0. 0. 0. 0. 0. 0. 0. 0. 0. 0. 1. 0. 0. 0.\n",
      "  0. 0.]\n",
      " [0. 0. 0. 0. 0. 0. 0. 0. 0. 0. 0. 0. 0. 0. 0. 0. 0. 0. 0. 0. 0. 1. 0. 0.\n",
      "  0. 0.]\n",
      " [0. 0. 0. 0. 0. 0. 0. 0. 0. 0. 0. 0. 0. 0. 0. 0. 0. 0. 0. 0. 0. 0. 1. 0.\n",
      "  0. 0.]\n",
      " [0. 0. 0. 0. 0. 0. 0. 0. 0. 0. 0. 0. 0. 0. 0. 0. 0. 0. 0. 0. 0. 0. 0. 1.\n",
      "  0. 0.]\n",
      " [0. 0. 0. 0. 0. 0. 0. 0. 0. 0. 0. 0. 0. 0. 0. 0. 0. 0. 0. 0. 0. 0. 0. 0.\n",
      "  1. 0.]\n",
      " [0. 0. 0. 0. 0. 0. 0. 0. 0. 0. 0. 0. 0. 0. 0. 0. 0. 0. 0. 0. 0. 0. 0. 0.\n",
      "  0. 1.]]\n"
     ]
    }
   ],
   "source": [
    "# one hot encode the output variable\n",
    "y = np_utils.to_categorical(dataY)\n",
    "print(y)"
   ]
  },
  {
   "cell_type": "markdown",
   "metadata": {},
   "source": [
    "LSTM Models:\n",
    "1. Naive LSTM for Learning One-Char to One-Char Mapping (have problem)\n",
    "2. Naive LSTM for a Three-Char Feature Window to One-Char Mapping (have problem)\n",
    "3. Naive LSTM for a Three-Char Time Step Window to One-Char Mapping (have problem)\n",
    "4. LSTM State Within A Batch (good model) \n",
    "5. Stateful LSTM for a One-Char to One-Char Mapping\n",
    "6. LSTM with Variable-Length Input to One-Char Output\n"
   ]
  },
  {
   "cell_type": "code",
   "execution_count": 21,
   "metadata": {},
   "outputs": [],
   "source": [
    "# We will frame the problem as a random collection of one-letter input to one-letter output pairs. \n",
    "# As we will see this is a difficult framing of the problem for the LSTM to learn."
   ]
  },
  {
   "cell_type": "markdown",
   "metadata": {},
   "source": []
  },
  {
   "cell_type": "markdown",
   "metadata": {},
   "source": [
    "learns random subsequences of the alphabet and an effort to build a model that can be given arbitrary letters or subsequences of letters and predict the next letter in the alphabet.\n",
    "\n"
   ]
  },
  {
   "cell_type": "code",
   "execution_count": 48,
   "metadata": {},
   "outputs": [],
   "source": []
  },
  {
   "cell_type": "code",
   "execution_count": 67,
   "metadata": {},
   "outputs": [
    {
     "name": "stdout",
     "output_type": "stream",
     "text": [
      "PQRST -> U\n",
      "W -> X\n",
      "O -> P\n",
      "OPQ -> R\n",
      "IJKLM -> N\n",
      "QRSTU -> V\n",
      "ABCD -> E\n",
      "X -> Y\n",
      "GHIJ -> K\n",
      "M -> N\n",
      "XY -> Z\n",
      "QRST -> U\n",
      "ABC -> D\n",
      "JKLMN -> O\n",
      "OP -> Q\n",
      "XY -> Z\n",
      "D -> E\n",
      "T -> U\n",
      "B -> C\n",
      "QRSTU -> V\n",
      "HIJ -> K\n",
      "JKLM -> N\n",
      "ABCDE -> F\n",
      "X -> Y\n",
      "V -> W\n",
      "DE -> F\n",
      "DEFG -> H\n",
      "BCDE -> F\n",
      "EFGH -> I\n",
      "BCDE -> F\n",
      "FG -> H\n",
      "RST -> U\n",
      "TUV -> W\n",
      "STUV -> W\n",
      "LMN -> O\n",
      "P -> Q\n",
      "MNOP -> Q\n",
      "JK -> L\n",
      "MNOP -> Q\n",
      "OPQRS -> T\n",
      "UVWXY -> Z\n",
      "PQRS -> T\n",
      "D -> E\n",
      "EFGH -> I\n",
      "IJK -> L\n",
      "WX -> Y\n",
      "STUV -> W\n",
      "MNOPQ -> R\n",
      "P -> Q\n",
      "WXY -> Z\n",
      "Epoch 1/500\n",
      " - 1s - loss: 3.2632 - acc: 0.0000e+00\n",
      "Epoch 2/500\n",
      " - 0s - loss: 3.2132 - acc: 0.0800\n",
      "Epoch 3/500\n",
      " - 0s - loss: 3.1570 - acc: 0.0800\n",
      "Epoch 4/500\n",
      " - 0s - loss: 3.0627 - acc: 0.0800\n",
      "Epoch 5/500\n",
      " - 0s - loss: 2.9682 - acc: 0.0800\n",
      "Epoch 6/500\n",
      " - 0s - loss: 2.9126 - acc: 0.0800\n",
      "Epoch 7/500\n",
      " - 0s - loss: 2.8873 - acc: 0.0800\n",
      "Epoch 8/500\n",
      " - 0s - loss: 2.8627 - acc: 0.0800\n",
      "Epoch 9/500\n",
      " - 0s - loss: 2.8430 - acc: 0.0800\n",
      "Epoch 10/500\n",
      " - 0s - loss: 2.8245 - acc: 0.1000\n",
      "Epoch 11/500\n",
      " - 0s - loss: 2.7976 - acc: 0.0800\n",
      "Epoch 12/500\n",
      " - 0s - loss: 2.7660 - acc: 0.0800\n",
      "Epoch 13/500\n",
      " - 0s - loss: 2.7464 - acc: 0.1400\n",
      "Epoch 14/500\n",
      " - 0s - loss: 2.6989 - acc: 0.1200\n",
      "Epoch 15/500\n",
      " - 0s - loss: 2.6712 - acc: 0.1200\n",
      "Epoch 16/500\n",
      " - 0s - loss: 2.6330 - acc: 0.1200\n",
      "Epoch 17/500\n",
      " - 0s - loss: 2.6062 - acc: 0.1000\n",
      "Epoch 18/500\n",
      " - 0s - loss: 2.5885 - acc: 0.1000\n",
      "Epoch 19/500\n",
      " - 0s - loss: 2.5624 - acc: 0.1400\n",
      "Epoch 20/500\n",
      " - 0s - loss: 2.5396 - acc: 0.1000\n",
      "Epoch 21/500\n",
      " - 0s - loss: 2.5192 - acc: 0.1800\n",
      "Epoch 22/500\n",
      " - 0s - loss: 2.4988 - acc: 0.1400\n",
      "Epoch 23/500\n",
      " - 0s - loss: 2.4750 - acc: 0.1800\n",
      "Epoch 24/500\n",
      " - 0s - loss: 2.4718 - acc: 0.1600\n",
      "Epoch 25/500\n",
      " - 0s - loss: 2.4469 - acc: 0.2000\n",
      "Epoch 26/500\n",
      " - 0s - loss: 2.4282 - acc: 0.1600\n",
      "Epoch 27/500\n",
      " - 0s - loss: 2.4093 - acc: 0.1600\n",
      "Epoch 28/500\n",
      " - 0s - loss: 2.3948 - acc: 0.2000\n",
      "Epoch 29/500\n",
      " - 0s - loss: 2.3862 - acc: 0.2400\n",
      "Epoch 30/500\n",
      " - 0s - loss: 2.3819 - acc: 0.1600\n",
      "Epoch 31/500\n",
      " - 0s - loss: 2.3528 - acc: 0.2600\n",
      "Epoch 32/500\n",
      " - 0s - loss: 2.3322 - acc: 0.2200\n",
      "Epoch 33/500\n",
      " - 0s - loss: 2.3288 - acc: 0.2800\n",
      "Epoch 34/500\n",
      " - 0s - loss: 2.3024 - acc: 0.2600\n",
      "Epoch 35/500\n",
      " - 0s - loss: 2.2954 - acc: 0.2200\n",
      "Epoch 36/500\n",
      " - 0s - loss: 2.2734 - acc: 0.2600\n",
      "Epoch 37/500\n",
      " - 0s - loss: 2.2541 - acc: 0.3200\n",
      "Epoch 38/500\n",
      " - 0s - loss: 2.2529 - acc: 0.2600\n",
      "Epoch 39/500\n",
      " - 0s - loss: 2.2302 - acc: 0.2600\n",
      "Epoch 40/500\n",
      " - 0s - loss: 2.2030 - acc: 0.3200\n",
      "Epoch 41/500\n",
      " - 0s - loss: 2.1853 - acc: 0.3000\n",
      "Epoch 42/500\n",
      " - 0s - loss: 2.1742 - acc: 0.3000\n",
      "Epoch 43/500\n",
      " - 0s - loss: 2.1436 - acc: 0.3000\n",
      "Epoch 44/500\n",
      " - 0s - loss: 2.1301 - acc: 0.3200\n",
      "Epoch 45/500\n",
      " - 0s - loss: 2.1131 - acc: 0.3400\n",
      "Epoch 46/500\n",
      " - 0s - loss: 2.0899 - acc: 0.3200\n",
      "Epoch 47/500\n",
      " - 0s - loss: 2.0626 - acc: 0.3000\n",
      "Epoch 48/500\n",
      " - 0s - loss: 2.0677 - acc: 0.3200\n",
      "Epoch 49/500\n",
      " - 0s - loss: 2.0314 - acc: 0.3600\n",
      "Epoch 50/500\n",
      " - 0s - loss: 2.0060 - acc: 0.3600\n",
      "Epoch 51/500\n",
      " - 0s - loss: 1.9940 - acc: 0.3400\n",
      "Epoch 52/500\n",
      " - 0s - loss: 1.9728 - acc: 0.4000\n",
      "Epoch 53/500\n",
      " - 0s - loss: 1.9422 - acc: 0.3800\n",
      "Epoch 54/500\n",
      " - 0s - loss: 1.9312 - acc: 0.3400\n",
      "Epoch 55/500\n",
      " - 0s - loss: 1.9018 - acc: 0.3400\n",
      "Epoch 56/500\n",
      " - 0s - loss: 1.8969 - acc: 0.3600\n",
      "Epoch 57/500\n",
      " - 0s - loss: 1.8880 - acc: 0.4000\n",
      "Epoch 58/500\n",
      " - 0s - loss: 1.8706 - acc: 0.3800\n",
      "Epoch 59/500\n",
      " - 0s - loss: 1.8467 - acc: 0.4400\n",
      "Epoch 60/500\n",
      " - 0s - loss: 1.8322 - acc: 0.3800\n",
      "Epoch 61/500\n",
      " - 0s - loss: 1.8150 - acc: 0.4000\n",
      "Epoch 62/500\n",
      " - 0s - loss: 1.8015 - acc: 0.4200\n",
      "Epoch 63/500\n",
      " - 0s - loss: 1.7877 - acc: 0.3800\n",
      "Epoch 64/500\n",
      " - 0s - loss: 1.7658 - acc: 0.4600\n",
      "Epoch 65/500\n",
      " - 0s - loss: 1.7417 - acc: 0.4000\n",
      "Epoch 66/500\n",
      " - 0s - loss: 1.7384 - acc: 0.4200\n",
      "Epoch 67/500\n",
      " - 0s - loss: 1.7205 - acc: 0.4400\n",
      "Epoch 68/500\n",
      " - 0s - loss: 1.7236 - acc: 0.3800\n",
      "Epoch 69/500\n",
      " - 0s - loss: 1.7018 - acc: 0.4200\n",
      "Epoch 70/500\n",
      " - 0s - loss: 1.6867 - acc: 0.4400\n",
      "Epoch 71/500\n",
      " - 0s - loss: 1.6596 - acc: 0.5000\n",
      "Epoch 72/500\n",
      " - 0s - loss: 1.6686 - acc: 0.4200\n",
      "Epoch 73/500\n",
      " - 0s - loss: 1.6277 - acc: 0.4200\n",
      "Epoch 74/500\n",
      " - 0s - loss: 1.6335 - acc: 0.5200\n",
      "Epoch 75/500\n",
      " - 0s - loss: 1.6075 - acc: 0.4600\n",
      "Epoch 76/500\n",
      " - 0s - loss: 1.6074 - acc: 0.4000\n",
      "Epoch 77/500\n",
      " - 0s - loss: 1.6085 - acc: 0.5200\n",
      "Epoch 78/500\n",
      " - 0s - loss: 1.5829 - acc: 0.5000\n",
      "Epoch 79/500\n",
      " - 0s - loss: 1.5840 - acc: 0.4800\n",
      "Epoch 80/500\n",
      " - 0s - loss: 1.5659 - acc: 0.5000\n",
      "Epoch 81/500\n",
      " - 0s - loss: 1.5515 - acc: 0.4400\n",
      "Epoch 82/500\n",
      " - 0s - loss: 1.5469 - acc: 0.4200\n",
      "Epoch 83/500\n",
      " - 0s - loss: 1.5541 - acc: 0.4800\n",
      "Epoch 84/500\n",
      " - 0s - loss: 1.5053 - acc: 0.5000\n",
      "Epoch 85/500\n",
      " - 0s - loss: 1.5172 - acc: 0.5200\n",
      "Epoch 86/500\n",
      " - 0s - loss: 1.4922 - acc: 0.5400\n",
      "Epoch 87/500\n",
      " - 0s - loss: 1.4811 - acc: 0.5200\n",
      "Epoch 88/500\n",
      " - 0s - loss: 1.4711 - acc: 0.5000\n",
      "Epoch 89/500\n",
      " - 0s - loss: 1.4640 - acc: 0.5400\n",
      "Epoch 90/500\n",
      " - 0s - loss: 1.4489 - acc: 0.5800\n",
      "Epoch 91/500\n",
      " - 0s - loss: 1.4679 - acc: 0.5200\n",
      "Epoch 92/500\n",
      " - 0s - loss: 1.4339 - acc: 0.5400\n",
      "Epoch 93/500\n",
      " - 0s - loss: 1.4315 - acc: 0.4600\n",
      "Epoch 94/500\n",
      " - 0s - loss: 1.4151 - acc: 0.5200\n",
      "Epoch 95/500\n",
      " - 0s - loss: 1.4057 - acc: 0.5200\n",
      "Epoch 96/500\n",
      " - 0s - loss: 1.3991 - acc: 0.5600\n",
      "Epoch 97/500\n",
      " - 0s - loss: 1.3926 - acc: 0.5600\n",
      "Epoch 98/500\n",
      " - 0s - loss: 1.3787 - acc: 0.5200\n",
      "Epoch 99/500\n",
      " - 0s - loss: 1.3727 - acc: 0.5000\n",
      "Epoch 100/500\n",
      " - 0s - loss: 1.3780 - acc: 0.5000\n",
      "Epoch 101/500\n",
      " - 0s - loss: 1.3615 - acc: 0.5400\n",
      "Epoch 102/500\n",
      " - 0s - loss: 1.3369 - acc: 0.5200\n",
      "Epoch 103/500\n",
      " - 0s - loss: 1.3456 - acc: 0.5400\n",
      "Epoch 104/500\n",
      " - 0s - loss: 1.3219 - acc: 0.5600\n",
      "Epoch 105/500\n",
      " - 0s - loss: 1.3212 - acc: 0.5400\n",
      "Epoch 106/500\n",
      " - 0s - loss: 1.3103 - acc: 0.5600\n",
      "Epoch 107/500\n",
      " - 0s - loss: 1.3079 - acc: 0.5200\n",
      "Epoch 108/500\n",
      " - 0s - loss: 1.2997 - acc: 0.5600\n",
      "Epoch 109/500\n",
      " - 0s - loss: 1.3006 - acc: 0.5600\n",
      "Epoch 110/500\n",
      " - 0s - loss: 1.2820 - acc: 0.5600\n",
      "Epoch 111/500\n",
      " - 0s - loss: 1.2973 - acc: 0.6000\n",
      "Epoch 112/500\n",
      " - 0s - loss: 1.3037 - acc: 0.5400\n",
      "Epoch 113/500\n",
      " - 0s - loss: 1.2556 - acc: 0.5600\n",
      "Epoch 114/500\n",
      " - 0s - loss: 1.2581 - acc: 0.6000\n",
      "Epoch 115/500\n",
      " - 0s - loss: 1.2687 - acc: 0.6000\n",
      "Epoch 116/500\n",
      " - 0s - loss: 1.2422 - acc: 0.6000\n",
      "Epoch 117/500\n",
      " - 0s - loss: 1.2263 - acc: 0.6400\n",
      "Epoch 118/500\n",
      " - 0s - loss: 1.2241 - acc: 0.6200\n",
      "Epoch 119/500\n",
      " - 0s - loss: 1.2252 - acc: 0.6400\n",
      "Epoch 120/500\n",
      " - 0s - loss: 1.2083 - acc: 0.6400\n",
      "Epoch 121/500\n",
      " - 0s - loss: 1.2148 - acc: 0.5400\n",
      "Epoch 122/500\n",
      " - 0s - loss: 1.1803 - acc: 0.6200\n",
      "Epoch 123/500\n",
      " - 0s - loss: 1.2053 - acc: 0.5600\n",
      "Epoch 124/500\n",
      " - 0s - loss: 1.1843 - acc: 0.6000\n",
      "Epoch 125/500\n",
      " - 0s - loss: 1.1927 - acc: 0.6200\n",
      "Epoch 126/500\n",
      " - 0s - loss: 1.1839 - acc: 0.6200\n",
      "Epoch 127/500\n",
      " - 0s - loss: 1.1672 - acc: 0.6400\n",
      "Epoch 128/500\n",
      " - 0s - loss: 1.1558 - acc: 0.6400\n",
      "Epoch 129/500\n",
      " - 0s - loss: 1.1782 - acc: 0.6000\n",
      "Epoch 130/500\n",
      " - 0s - loss: 1.1739 - acc: 0.6200\n",
      "Epoch 131/500\n",
      " - 0s - loss: 1.1487 - acc: 0.6000\n",
      "Epoch 132/500\n",
      " - 0s - loss: 1.1420 - acc: 0.6000\n",
      "Epoch 133/500\n",
      " - 0s - loss: 1.1459 - acc: 0.6400\n",
      "Epoch 134/500\n",
      " - 0s - loss: 1.1350 - acc: 0.6400\n",
      "Epoch 135/500\n",
      " - 0s - loss: 1.1261 - acc: 0.6400\n",
      "Epoch 136/500\n",
      " - 0s - loss: 1.1234 - acc: 0.6200\n",
      "Epoch 137/500\n",
      " - 0s - loss: 1.1129 - acc: 0.6200\n",
      "Epoch 138/500\n",
      " - 0s - loss: 1.1211 - acc: 0.6400\n",
      "Epoch 139/500\n",
      " - 0s - loss: 1.1100 - acc: 0.6000\n",
      "Epoch 140/500\n",
      " - 0s - loss: 1.1017 - acc: 0.6400\n",
      "Epoch 141/500\n",
      " - 0s - loss: 1.0964 - acc: 0.6600\n",
      "Epoch 142/500\n",
      " - 0s - loss: 1.0906 - acc: 0.6600\n",
      "Epoch 143/500\n",
      " - 0s - loss: 1.0751 - acc: 0.6400\n",
      "Epoch 144/500\n",
      " - 0s - loss: 1.0762 - acc: 0.6800\n",
      "Epoch 145/500\n",
      " - 0s - loss: 1.0821 - acc: 0.6600\n",
      "Epoch 146/500\n",
      " - 0s - loss: 1.0739 - acc: 0.6600\n",
      "Epoch 147/500\n",
      " - 0s - loss: 1.0788 - acc: 0.7000\n",
      "Epoch 148/500\n",
      " - 0s - loss: 1.0884 - acc: 0.6400\n",
      "Epoch 149/500\n",
      " - 0s - loss: 1.0634 - acc: 0.6800\n",
      "Epoch 150/500\n",
      " - 0s - loss: 1.0501 - acc: 0.6400\n",
      "Epoch 151/500\n",
      " - 0s - loss: 1.0315 - acc: 0.6200\n",
      "Epoch 152/500\n",
      " - 0s - loss: 1.0417 - acc: 0.6800\n",
      "Epoch 153/500\n",
      " - 0s - loss: 1.0650 - acc: 0.5800\n",
      "Epoch 154/500\n",
      " - 0s - loss: 1.0472 - acc: 0.6600\n",
      "Epoch 155/500\n",
      " - 0s - loss: 1.0332 - acc: 0.6600\n",
      "Epoch 156/500\n",
      " - 0s - loss: 1.0169 - acc: 0.6600\n",
      "Epoch 157/500\n",
      " - 0s - loss: 1.0238 - acc: 0.6400\n",
      "Epoch 158/500\n",
      " - 0s - loss: 1.0248 - acc: 0.6600\n",
      "Epoch 159/500\n",
      " - 0s - loss: 1.0123 - acc: 0.7000\n",
      "Epoch 160/500\n",
      " - 0s - loss: 1.0170 - acc: 0.6600\n",
      "Epoch 161/500\n"
     ]
    },
    {
     "name": "stdout",
     "output_type": "stream",
     "text": [
      " - 0s - loss: 1.0061 - acc: 0.7000\n",
      "Epoch 162/500\n",
      " - 0s - loss: 1.0111 - acc: 0.6200\n",
      "Epoch 163/500\n",
      " - 0s - loss: 1.0090 - acc: 0.6200\n",
      "Epoch 164/500\n",
      " - 0s - loss: 0.9907 - acc: 0.6800\n",
      "Epoch 165/500\n",
      " - 0s - loss: 0.9907 - acc: 0.6800\n",
      "Epoch 166/500\n",
      " - 0s - loss: 0.9993 - acc: 0.6600\n",
      "Epoch 167/500\n",
      " - 0s - loss: 0.9663 - acc: 0.6600\n",
      "Epoch 168/500\n",
      " - 0s - loss: 0.9744 - acc: 0.6600\n",
      "Epoch 169/500\n",
      " - 0s - loss: 0.9739 - acc: 0.6800\n",
      "Epoch 170/500\n",
      " - 0s - loss: 0.9613 - acc: 0.7200\n",
      "Epoch 171/500\n",
      " - 0s - loss: 0.9723 - acc: 0.6800\n",
      "Epoch 172/500\n",
      " - 0s - loss: 0.9678 - acc: 0.6800\n",
      "Epoch 173/500\n",
      " - 0s - loss: 0.9588 - acc: 0.6800\n",
      "Epoch 174/500\n",
      " - 0s - loss: 0.9615 - acc: 0.6200\n",
      "Epoch 175/500\n",
      " - 0s - loss: 0.9477 - acc: 0.6800\n",
      "Epoch 176/500\n",
      " - 0s - loss: 0.9478 - acc: 0.6800\n",
      "Epoch 177/500\n",
      " - 0s - loss: 0.9701 - acc: 0.6800\n",
      "Epoch 178/500\n",
      " - 0s - loss: 0.9578 - acc: 0.6600\n",
      "Epoch 179/500\n",
      " - 0s - loss: 0.9358 - acc: 0.7000\n",
      "Epoch 180/500\n",
      " - 0s - loss: 0.9453 - acc: 0.6600\n",
      "Epoch 181/500\n",
      " - 0s - loss: 0.9217 - acc: 0.6800\n",
      "Epoch 182/500\n",
      " - 0s - loss: 0.9325 - acc: 0.6800\n",
      "Epoch 183/500\n",
      " - 0s - loss: 0.9122 - acc: 0.6600\n",
      "Epoch 184/500\n",
      " - 0s - loss: 0.9078 - acc: 0.6600\n",
      "Epoch 185/500\n",
      " - 0s - loss: 0.9206 - acc: 0.6600\n",
      "Epoch 186/500\n",
      " - 0s - loss: 0.9165 - acc: 0.7000\n",
      "Epoch 187/500\n",
      " - 0s - loss: 0.8997 - acc: 0.7200\n",
      "Epoch 188/500\n",
      " - 0s - loss: 0.9019 - acc: 0.6600\n",
      "Epoch 189/500\n",
      " - 0s - loss: 0.8913 - acc: 0.7000\n",
      "Epoch 190/500\n",
      " - 0s - loss: 0.8867 - acc: 0.7000\n",
      "Epoch 191/500\n",
      " - 0s - loss: 0.8948 - acc: 0.7000\n",
      "Epoch 192/500\n",
      " - 0s - loss: 0.8821 - acc: 0.7200\n",
      "Epoch 193/500\n",
      " - 0s - loss: 0.8821 - acc: 0.6600\n",
      "Epoch 194/500\n",
      " - 0s - loss: 0.8876 - acc: 0.6400\n",
      "Epoch 195/500\n",
      " - 0s - loss: 0.8920 - acc: 0.6600\n",
      "Epoch 196/500\n",
      " - 0s - loss: 0.8613 - acc: 0.7800\n",
      "Epoch 197/500\n",
      " - 0s - loss: 0.8672 - acc: 0.6600\n",
      "Epoch 198/500\n",
      " - 0s - loss: 0.9103 - acc: 0.7000\n",
      "Epoch 199/500\n",
      " - 0s - loss: 0.8897 - acc: 0.6800\n",
      "Epoch 200/500\n",
      " - 0s - loss: 0.8487 - acc: 0.7400\n",
      "Epoch 201/500\n",
      " - 0s - loss: 0.8624 - acc: 0.7200\n",
      "Epoch 202/500\n",
      " - 0s - loss: 0.8542 - acc: 0.7000\n",
      "Epoch 203/500\n",
      " - 0s - loss: 0.8358 - acc: 0.7200\n",
      "Epoch 204/500\n",
      " - 0s - loss: 0.8667 - acc: 0.6600\n",
      "Epoch 205/500\n",
      " - 0s - loss: 0.8560 - acc: 0.7000\n",
      "Epoch 206/500\n",
      " - 0s - loss: 0.8471 - acc: 0.7200\n",
      "Epoch 207/500\n",
      " - 0s - loss: 0.8409 - acc: 0.6600\n",
      "Epoch 208/500\n",
      " - 0s - loss: 0.8537 - acc: 0.7200\n",
      "Epoch 209/500\n",
      " - 0s - loss: 0.8221 - acc: 0.7000\n",
      "Epoch 210/500\n",
      " - 0s - loss: 0.8232 - acc: 0.7600\n",
      "Epoch 211/500\n",
      " - 0s - loss: 0.8118 - acc: 0.7200\n",
      "Epoch 212/500\n",
      " - 0s - loss: 0.8365 - acc: 0.7000\n",
      "Epoch 213/500\n",
      " - 0s - loss: 0.8407 - acc: 0.7000\n",
      "Epoch 214/500\n",
      " - 0s - loss: 0.8224 - acc: 0.7200\n",
      "Epoch 215/500\n",
      " - 0s - loss: 0.8056 - acc: 0.7400\n",
      "Epoch 216/500\n",
      " - 0s - loss: 0.8116 - acc: 0.7000\n",
      "Epoch 217/500\n",
      " - 0s - loss: 0.8150 - acc: 0.7400\n",
      "Epoch 218/500\n",
      " - 0s - loss: 0.8048 - acc: 0.7200\n",
      "Epoch 219/500\n",
      " - 0s - loss: 0.7948 - acc: 0.7400\n",
      "Epoch 220/500\n",
      " - 0s - loss: 0.8232 - acc: 0.7200\n",
      "Epoch 221/500\n",
      " - 0s - loss: 0.7972 - acc: 0.7200\n",
      "Epoch 222/500\n",
      " - 0s - loss: 0.8116 - acc: 0.6800\n",
      "Epoch 223/500\n",
      " - 0s - loss: 0.7761 - acc: 0.7400\n",
      "Epoch 224/500\n",
      " - 0s - loss: 0.8043 - acc: 0.7400\n",
      "Epoch 225/500\n",
      " - 0s - loss: 0.8024 - acc: 0.7200\n",
      "Epoch 226/500\n",
      " - 0s - loss: 0.7828 - acc: 0.7400\n",
      "Epoch 227/500\n",
      " - 0s - loss: 0.7883 - acc: 0.6800\n",
      "Epoch 228/500\n",
      " - 0s - loss: 0.7883 - acc: 0.6800\n",
      "Epoch 229/500\n",
      " - 0s - loss: 0.7657 - acc: 0.7400\n",
      "Epoch 230/500\n",
      " - 0s - loss: 0.7698 - acc: 0.7200\n",
      "Epoch 231/500\n",
      " - 0s - loss: 0.7634 - acc: 0.8200\n",
      "Epoch 232/500\n",
      " - 0s - loss: 0.7593 - acc: 0.7800\n",
      "Epoch 233/500\n",
      " - 0s - loss: 0.7667 - acc: 0.7000\n",
      "Epoch 234/500\n",
      " - 0s - loss: 0.7952 - acc: 0.7400\n",
      "Epoch 235/500\n",
      " - 0s - loss: 0.7710 - acc: 0.7400\n",
      "Epoch 236/500\n",
      " - 0s - loss: 0.7646 - acc: 0.7400\n",
      "Epoch 237/500\n",
      " - 0s - loss: 0.7711 - acc: 0.7400\n",
      "Epoch 238/500\n",
      " - 0s - loss: 0.7581 - acc: 0.7800\n",
      "Epoch 239/500\n",
      " - 0s - loss: 0.7308 - acc: 0.7800\n",
      "Epoch 240/500\n",
      " - 0s - loss: 0.7410 - acc: 0.7000\n",
      "Epoch 241/500\n",
      " - 0s - loss: 0.7642 - acc: 0.7200\n",
      "Epoch 242/500\n",
      " - 0s - loss: 0.8327 - acc: 0.6600\n",
      "Epoch 243/500\n",
      " - 0s - loss: 0.7985 - acc: 0.7000\n",
      "Epoch 244/500\n",
      " - 0s - loss: 0.7569 - acc: 0.7600\n",
      "Epoch 245/500\n",
      " - 0s - loss: 0.7449 - acc: 0.8000\n",
      "Epoch 246/500\n",
      " - 0s - loss: 0.7372 - acc: 0.7400\n",
      "Epoch 247/500\n",
      " - 0s - loss: 0.7197 - acc: 0.7800\n",
      "Epoch 248/500\n",
      " - 0s - loss: 0.7556 - acc: 0.7800\n",
      "Epoch 249/500\n",
      " - 0s - loss: 0.7373 - acc: 0.8000\n",
      "Epoch 250/500\n",
      " - 0s - loss: 0.7227 - acc: 0.8000\n",
      "Epoch 251/500\n",
      " - 0s - loss: 0.7269 - acc: 0.7600\n",
      "Epoch 252/500\n",
      " - 0s - loss: 0.7174 - acc: 0.7800\n",
      "Epoch 253/500\n",
      " - 0s - loss: 0.7028 - acc: 0.8200\n",
      "Epoch 254/500\n",
      " - 0s - loss: 0.7088 - acc: 0.7600\n",
      "Epoch 255/500\n",
      " - 0s - loss: 0.7069 - acc: 0.7600\n",
      "Epoch 256/500\n",
      " - 0s - loss: 0.6939 - acc: 0.8000\n",
      "Epoch 257/500\n",
      " - 0s - loss: 0.7093 - acc: 0.7600\n",
      "Epoch 258/500\n",
      " - 0s - loss: 0.7278 - acc: 0.7200\n",
      "Epoch 259/500\n",
      " - 0s - loss: 0.7519 - acc: 0.6800\n",
      "Epoch 260/500\n",
      " - 0s - loss: 0.7098 - acc: 0.7600\n",
      "Epoch 261/500\n",
      " - 0s - loss: 0.7067 - acc: 0.7600\n",
      "Epoch 262/500\n",
      " - 0s - loss: 0.6985 - acc: 0.7600\n",
      "Epoch 263/500\n",
      " - 0s - loss: 0.6966 - acc: 0.7600\n",
      "Epoch 264/500\n",
      " - 0s - loss: 0.7001 - acc: 0.8200\n",
      "Epoch 265/500\n",
      " - 0s - loss: 0.6939 - acc: 0.7800\n",
      "Epoch 266/500\n",
      " - 0s - loss: 0.6809 - acc: 0.7800\n",
      "Epoch 267/500\n",
      " - 0s - loss: 0.6846 - acc: 0.8000\n",
      "Epoch 268/500\n",
      " - 0s - loss: 0.6877 - acc: 0.7800\n",
      "Epoch 269/500\n",
      " - 0s - loss: 0.6867 - acc: 0.8000\n",
      "Epoch 270/500\n",
      " - 0s - loss: 0.6988 - acc: 0.7800\n",
      "Epoch 271/500\n",
      " - 0s - loss: 0.6856 - acc: 0.7800\n",
      "Epoch 272/500\n",
      " - 0s - loss: 0.6767 - acc: 0.7600\n",
      "Epoch 273/500\n",
      " - 0s - loss: 0.6707 - acc: 0.8000\n",
      "Epoch 274/500\n",
      " - 0s - loss: 0.6888 - acc: 0.7400\n",
      "Epoch 275/500\n",
      " - 0s - loss: 0.6883 - acc: 0.7600\n",
      "Epoch 276/500\n",
      " - 0s - loss: 0.6727 - acc: 0.7600\n",
      "Epoch 277/500\n",
      " - 0s - loss: 0.7432 - acc: 0.7200\n",
      "Epoch 278/500\n",
      " - 0s - loss: 0.7562 - acc: 0.7400\n",
      "Epoch 279/500\n",
      " - 0s - loss: 0.6871 - acc: 0.7400\n",
      "Epoch 280/500\n",
      " - 0s - loss: 0.6576 - acc: 0.7600\n",
      "Epoch 281/500\n",
      " - 0s - loss: 0.6495 - acc: 0.8000\n",
      "Epoch 282/500\n",
      " - 0s - loss: 0.6524 - acc: 0.7800\n",
      "Epoch 283/500\n",
      " - 0s - loss: 0.6571 - acc: 0.8000\n",
      "Epoch 284/500\n",
      " - 0s - loss: 0.6659 - acc: 0.7600\n",
      "Epoch 285/500\n",
      " - 0s - loss: 0.6782 - acc: 0.7400\n",
      "Epoch 286/500\n",
      " - 0s - loss: 0.6543 - acc: 0.8000\n",
      "Epoch 287/500\n",
      " - 0s - loss: 0.6799 - acc: 0.7600\n",
      "Epoch 288/500\n",
      " - 0s - loss: 0.6496 - acc: 0.8000\n",
      "Epoch 289/500\n",
      " - 0s - loss: 0.6445 - acc: 0.7800\n",
      "Epoch 290/500\n",
      " - 0s - loss: 0.6313 - acc: 0.8000\n",
      "Epoch 291/500\n",
      " - 0s - loss: 0.6281 - acc: 0.8200\n",
      "Epoch 292/500\n",
      " - 0s - loss: 0.6496 - acc: 0.7800\n",
      "Epoch 293/500\n",
      " - 0s - loss: 0.6263 - acc: 0.8000\n",
      "Epoch 294/500\n",
      " - 0s - loss: 0.6357 - acc: 0.7800\n",
      "Epoch 295/500\n",
      " - 0s - loss: 0.6610 - acc: 0.7400\n",
      "Epoch 296/500\n",
      " - 0s - loss: 0.6370 - acc: 0.8000\n",
      "Epoch 297/500\n",
      " - 0s - loss: 0.6646 - acc: 0.7600\n",
      "Epoch 298/500\n",
      " - 0s - loss: 0.6393 - acc: 0.8000\n",
      "Epoch 299/500\n",
      " - 0s - loss: 0.6311 - acc: 0.8200\n",
      "Epoch 300/500\n",
      " - 0s - loss: 0.6371 - acc: 0.7800\n",
      "Epoch 301/500\n",
      " - 0s - loss: 0.6366 - acc: 0.8000\n",
      "Epoch 302/500\n",
      " - 0s - loss: 0.6043 - acc: 0.8200\n",
      "Epoch 303/500\n",
      " - 0s - loss: 0.6600 - acc: 0.7600\n",
      "Epoch 304/500\n",
      " - 0s - loss: 0.6212 - acc: 0.8200\n",
      "Epoch 305/500\n",
      " - 0s - loss: 0.6092 - acc: 0.8200\n",
      "Epoch 306/500\n",
      " - 0s - loss: 0.6669 - acc: 0.7800\n",
      "Epoch 307/500\n",
      " - 0s - loss: 0.6066 - acc: 0.7800\n",
      "Epoch 308/500\n",
      " - 0s - loss: 0.6340 - acc: 0.7800\n",
      "Epoch 309/500\n",
      " - 0s - loss: 0.6078 - acc: 0.8200\n",
      "Epoch 310/500\n",
      " - 0s - loss: 0.6011 - acc: 0.8000\n",
      "Epoch 311/500\n",
      " - 0s - loss: 0.6131 - acc: 0.8200\n",
      "Epoch 312/500\n",
      " - 0s - loss: 0.6060 - acc: 0.8000\n",
      "Epoch 313/500\n",
      " - 0s - loss: 0.6119 - acc: 0.8200\n",
      "Epoch 314/500\n"
     ]
    },
    {
     "ename": "KeyboardInterrupt",
     "evalue": "",
     "output_type": "error",
     "traceback": [
      "\u001b[0;31m---------------------------------------------------------------------------\u001b[0m",
      "\u001b[0;31mKeyboardInterrupt\u001b[0m                         Traceback (most recent call last)",
      "\u001b[0;32m<ipython-input-67-6e78e3a82c09>\u001b[0m in \u001b[0;36m<module>\u001b[0;34m()\u001b[0m\n\u001b[1;32m     33\u001b[0m \u001b[0mmodel\u001b[0m\u001b[0;34m.\u001b[0m\u001b[0madd\u001b[0m\u001b[0;34m(\u001b[0m\u001b[0mDense\u001b[0m\u001b[0;34m(\u001b[0m\u001b[0my\u001b[0m\u001b[0;34m.\u001b[0m\u001b[0mshape\u001b[0m\u001b[0;34m[\u001b[0m\u001b[0;36m1\u001b[0m\u001b[0;34m]\u001b[0m\u001b[0;34m,\u001b[0m \u001b[0mactivation\u001b[0m\u001b[0;34m=\u001b[0m\u001b[0;34m'softmax'\u001b[0m\u001b[0;34m)\u001b[0m\u001b[0;34m)\u001b[0m\u001b[0;34m\u001b[0m\u001b[0m\n\u001b[1;32m     34\u001b[0m \u001b[0mmodel\u001b[0m\u001b[0;34m.\u001b[0m\u001b[0mcompile\u001b[0m\u001b[0;34m(\u001b[0m\u001b[0mloss\u001b[0m\u001b[0;34m=\u001b[0m\u001b[0;34m'categorical_crossentropy'\u001b[0m\u001b[0;34m,\u001b[0m \u001b[0moptimizer\u001b[0m\u001b[0;34m=\u001b[0m\u001b[0;34m'adam'\u001b[0m\u001b[0;34m,\u001b[0m \u001b[0mmetrics\u001b[0m\u001b[0;34m=\u001b[0m\u001b[0;34m[\u001b[0m\u001b[0;34m'accuracy'\u001b[0m\u001b[0;34m]\u001b[0m\u001b[0;34m)\u001b[0m\u001b[0;34m\u001b[0m\u001b[0m\n\u001b[0;32m---> 35\u001b[0;31m \u001b[0mmodel\u001b[0m\u001b[0;34m.\u001b[0m\u001b[0mfit\u001b[0m\u001b[0;34m(\u001b[0m\u001b[0mX\u001b[0m\u001b[0;34m,\u001b[0m \u001b[0my\u001b[0m\u001b[0;34m,\u001b[0m \u001b[0mepochs\u001b[0m\u001b[0;34m=\u001b[0m\u001b[0;36m500\u001b[0m\u001b[0;34m,\u001b[0m \u001b[0mbatch_size\u001b[0m\u001b[0;34m=\u001b[0m\u001b[0mbatch_size\u001b[0m\u001b[0;34m,\u001b[0m \u001b[0mverbose\u001b[0m\u001b[0;34m=\u001b[0m\u001b[0;36m2\u001b[0m\u001b[0;34m)\u001b[0m\u001b[0;34m\u001b[0m\u001b[0m\n\u001b[0m\u001b[1;32m     36\u001b[0m \u001b[0;31m# summarize performance of the model\u001b[0m\u001b[0;34m\u001b[0m\u001b[0;34m\u001b[0m\u001b[0m\n\u001b[1;32m     37\u001b[0m \u001b[0mscores\u001b[0m \u001b[0;34m=\u001b[0m \u001b[0mmodel\u001b[0m\u001b[0;34m.\u001b[0m\u001b[0mevaluate\u001b[0m\u001b[0;34m(\u001b[0m\u001b[0mX\u001b[0m\u001b[0;34m,\u001b[0m \u001b[0my\u001b[0m\u001b[0;34m,\u001b[0m \u001b[0mverbose\u001b[0m\u001b[0;34m=\u001b[0m\u001b[0;36m0\u001b[0m\u001b[0;34m)\u001b[0m\u001b[0;34m\u001b[0m\u001b[0m\n",
      "\u001b[0;32m/anaconda3/lib/python3.6/site-packages/keras/engine/training.py\u001b[0m in \u001b[0;36mfit\u001b[0;34m(self, x, y, batch_size, epochs, verbose, callbacks, validation_split, validation_data, shuffle, class_weight, sample_weight, initial_epoch, steps_per_epoch, validation_steps, **kwargs)\u001b[0m\n\u001b[1;32m   1040\u001b[0m                                         \u001b[0minitial_epoch\u001b[0m\u001b[0;34m=\u001b[0m\u001b[0minitial_epoch\u001b[0m\u001b[0;34m,\u001b[0m\u001b[0;34m\u001b[0m\u001b[0m\n\u001b[1;32m   1041\u001b[0m                                         \u001b[0msteps_per_epoch\u001b[0m\u001b[0;34m=\u001b[0m\u001b[0msteps_per_epoch\u001b[0m\u001b[0;34m,\u001b[0m\u001b[0;34m\u001b[0m\u001b[0m\n\u001b[0;32m-> 1042\u001b[0;31m                                         validation_steps=validation_steps)\n\u001b[0m\u001b[1;32m   1043\u001b[0m \u001b[0;34m\u001b[0m\u001b[0m\n\u001b[1;32m   1044\u001b[0m     def evaluate(self, x=None, y=None,\n",
      "\u001b[0;32m/anaconda3/lib/python3.6/site-packages/keras/engine/training_arrays.py\u001b[0m in \u001b[0;36mfit_loop\u001b[0;34m(model, f, ins, out_labels, batch_size, epochs, verbose, callbacks, val_f, val_ins, shuffle, callback_metrics, initial_epoch, steps_per_epoch, validation_steps)\u001b[0m\n\u001b[1;32m    197\u001b[0m                     \u001b[0mins_batch\u001b[0m\u001b[0;34m[\u001b[0m\u001b[0mi\u001b[0m\u001b[0;34m]\u001b[0m \u001b[0;34m=\u001b[0m \u001b[0mins_batch\u001b[0m\u001b[0;34m[\u001b[0m\u001b[0mi\u001b[0m\u001b[0;34m]\u001b[0m\u001b[0;34m.\u001b[0m\u001b[0mtoarray\u001b[0m\u001b[0;34m(\u001b[0m\u001b[0;34m)\u001b[0m\u001b[0;34m\u001b[0m\u001b[0m\n\u001b[1;32m    198\u001b[0m \u001b[0;34m\u001b[0m\u001b[0m\n\u001b[0;32m--> 199\u001b[0;31m                 \u001b[0mouts\u001b[0m \u001b[0;34m=\u001b[0m \u001b[0mf\u001b[0m\u001b[0;34m(\u001b[0m\u001b[0mins_batch\u001b[0m\u001b[0;34m)\u001b[0m\u001b[0;34m\u001b[0m\u001b[0m\n\u001b[0m\u001b[1;32m    200\u001b[0m                 \u001b[0;32mif\u001b[0m \u001b[0;32mnot\u001b[0m \u001b[0misinstance\u001b[0m\u001b[0;34m(\u001b[0m\u001b[0mouts\u001b[0m\u001b[0;34m,\u001b[0m \u001b[0mlist\u001b[0m\u001b[0;34m)\u001b[0m\u001b[0;34m:\u001b[0m\u001b[0;34m\u001b[0m\u001b[0m\n\u001b[1;32m    201\u001b[0m                     \u001b[0mouts\u001b[0m \u001b[0;34m=\u001b[0m \u001b[0;34m[\u001b[0m\u001b[0mouts\u001b[0m\u001b[0;34m]\u001b[0m\u001b[0;34m\u001b[0m\u001b[0m\n",
      "\u001b[0;32m/anaconda3/lib/python3.6/site-packages/keras/backend/tensorflow_backend.py\u001b[0m in \u001b[0;36m__call__\u001b[0;34m(self, inputs)\u001b[0m\n\u001b[1;32m   2659\u001b[0m                 \u001b[0;32mreturn\u001b[0m \u001b[0mself\u001b[0m\u001b[0;34m.\u001b[0m\u001b[0m_legacy_call\u001b[0m\u001b[0;34m(\u001b[0m\u001b[0minputs\u001b[0m\u001b[0;34m)\u001b[0m\u001b[0;34m\u001b[0m\u001b[0m\n\u001b[1;32m   2660\u001b[0m \u001b[0;34m\u001b[0m\u001b[0m\n\u001b[0;32m-> 2661\u001b[0;31m             \u001b[0;32mreturn\u001b[0m \u001b[0mself\u001b[0m\u001b[0;34m.\u001b[0m\u001b[0m_call\u001b[0m\u001b[0;34m(\u001b[0m\u001b[0minputs\u001b[0m\u001b[0;34m)\u001b[0m\u001b[0;34m\u001b[0m\u001b[0m\n\u001b[0m\u001b[1;32m   2662\u001b[0m         \u001b[0;32melse\u001b[0m\u001b[0;34m:\u001b[0m\u001b[0;34m\u001b[0m\u001b[0m\n\u001b[1;32m   2663\u001b[0m             \u001b[0;32mif\u001b[0m \u001b[0mpy_any\u001b[0m\u001b[0;34m(\u001b[0m\u001b[0mis_tensor\u001b[0m\u001b[0;34m(\u001b[0m\u001b[0mx\u001b[0m\u001b[0;34m)\u001b[0m \u001b[0;32mfor\u001b[0m \u001b[0mx\u001b[0m \u001b[0;32min\u001b[0m \u001b[0minputs\u001b[0m\u001b[0;34m)\u001b[0m\u001b[0;34m:\u001b[0m\u001b[0;34m\u001b[0m\u001b[0m\n",
      "\u001b[0;32m/anaconda3/lib/python3.6/site-packages/keras/backend/tensorflow_backend.py\u001b[0m in \u001b[0;36m_call\u001b[0;34m(self, inputs)\u001b[0m\n\u001b[1;32m   2629\u001b[0m                                 \u001b[0msymbol_vals\u001b[0m\u001b[0;34m,\u001b[0m\u001b[0;34m\u001b[0m\u001b[0m\n\u001b[1;32m   2630\u001b[0m                                 session)\n\u001b[0;32m-> 2631\u001b[0;31m         \u001b[0mfetched\u001b[0m \u001b[0;34m=\u001b[0m \u001b[0mself\u001b[0m\u001b[0;34m.\u001b[0m\u001b[0m_callable_fn\u001b[0m\u001b[0;34m(\u001b[0m\u001b[0;34m*\u001b[0m\u001b[0marray_vals\u001b[0m\u001b[0;34m)\u001b[0m\u001b[0;34m\u001b[0m\u001b[0m\n\u001b[0m\u001b[1;32m   2632\u001b[0m         \u001b[0;32mreturn\u001b[0m \u001b[0mfetched\u001b[0m\u001b[0;34m[\u001b[0m\u001b[0;34m:\u001b[0m\u001b[0mlen\u001b[0m\u001b[0;34m(\u001b[0m\u001b[0mself\u001b[0m\u001b[0;34m.\u001b[0m\u001b[0moutputs\u001b[0m\u001b[0;34m)\u001b[0m\u001b[0;34m]\u001b[0m\u001b[0;34m\u001b[0m\u001b[0m\n\u001b[1;32m   2633\u001b[0m \u001b[0;34m\u001b[0m\u001b[0m\n",
      "\u001b[0;32m/anaconda3/lib/python3.6/site-packages/tensorflow/python/client/session.py\u001b[0m in \u001b[0;36m__call__\u001b[0;34m(self, *args)\u001b[0m\n\u001b[1;32m   1449\u001b[0m         \u001b[0;32mif\u001b[0m \u001b[0mself\u001b[0m\u001b[0;34m.\u001b[0m\u001b[0m_session\u001b[0m\u001b[0;34m.\u001b[0m\u001b[0m_created_with_new_api\u001b[0m\u001b[0;34m:\u001b[0m\u001b[0;34m\u001b[0m\u001b[0m\n\u001b[1;32m   1450\u001b[0m           return tf_session.TF_SessionRunCallable(\n\u001b[0;32m-> 1451\u001b[0;31m               self._session._session, self._handle, args, status, None)\n\u001b[0m\u001b[1;32m   1452\u001b[0m         \u001b[0;32melse\u001b[0m\u001b[0;34m:\u001b[0m\u001b[0;34m\u001b[0m\u001b[0m\n\u001b[1;32m   1453\u001b[0m           return tf_session.TF_DeprecatedSessionRunCallable(\n",
      "\u001b[0;31mKeyboardInterrupt\u001b[0m: "
     ]
    }
   ],
   "source": []
  },
  {
   "cell_type": "code",
   "execution_count": null,
   "metadata": {},
   "outputs": [],
   "source": []
  },
  {
   "cell_type": "code",
   "execution_count": null,
   "metadata": {},
   "outputs": [],
   "source": []
  }
 ],
 "metadata": {
  "kernelspec": {
   "display_name": "Python 3",
   "language": "python",
   "name": "python3"
  },
  "language_info": {
   "codemirror_mode": {
    "name": "ipython",
    "version": 3
   },
   "file_extension": ".py",
   "mimetype": "text/x-python",
   "name": "python",
   "nbconvert_exporter": "python",
   "pygments_lexer": "ipython3",
   "version": "3.6.4"
  }
 },
 "nbformat": 4,
 "nbformat_minor": 2
}
